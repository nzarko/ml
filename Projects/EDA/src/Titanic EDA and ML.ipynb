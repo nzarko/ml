{
 "cells": [
  {
   "cell_type": "markdown",
   "metadata": {},
   "source": [
    "# The goals of this notebook :"
   ]
  },
  {
   "cell_type": "markdown",
   "metadata": {},
   "source": [
    "* **[Part 1: Exploratory Data Analysis](#Part-1:-Exploratory-Data-Analysis)**  \n",
    "* **[Part 2: Machine Learning](#Part-2:-Machine-Learning)**\n",
    "* **[Part 3: Model Selection And Boosting](#Part-3:-Model-Selection-And-Boosting)**"
   ]
  },
  {
   "cell_type": "markdown",
   "metadata": {},
   "source": [
    "Start by importing the necerrary libraries"
   ]
  },
  {
   "cell_type": "code",
   "execution_count": 1,
   "metadata": {},
   "outputs": [
    {
     "name": "stdout",
     "output_type": "stream",
     "text": [
      "['data_description.txt', 'train.csv', 'survey_results_schema.csv', 'sample_submission.csv', '.~lock.test_titanic.csv#', 'test.csv', 'test_titanic.csv', 'gender_submission.csv', 'survey_results_public.csv.zip', 'train_titanic.csv', '.~lock.train_titanic.csv#']\n"
     ]
    }
   ],
   "source": [
    "import numpy as np\n",
    "import pandas as pd\n",
    "import matplotlib.pyplot as plt\n",
    "import seaborn as sns\n",
    "%matplotlib inline\n",
    "sns.set()\n",
    "\n",
    "import warnings\n",
    "warnings.filterwarnings(\"ignore\", category=FutureWarning)\n",
    "\n",
    "import os\n",
    "\n",
    "DATA_DIR='../input'\n",
    "print(os.listdir(DATA_DIR))"
   ]
  },
  {
   "cell_type": "code",
   "execution_count": 2,
   "metadata": {},
   "outputs": [],
   "source": [
    "# Dummy variables to hold dataset file names on my local machine\n",
    "TRAIN_CSV_FILE = \"../input/train_titanic.csv\"\n",
    "TEST_CSV_FILE = \"../input/test_titanic.csv\"\n",
    "df_train = pd.read_csv(TRAIN_CSV_FILE)\n",
    "df_test = pd.read_csv(TEST_CSV_FILE)"
   ]
  },
  {
   "cell_type": "markdown",
   "metadata": {},
   "source": [
    "## Part 1: Exploratory Data Analysis"
   ]
  },
  {
   "cell_type": "code",
   "execution_count": 3,
   "metadata": {},
   "outputs": [
    {
     "data": {
      "text/html": [
       "<div>\n",
       "<style scoped>\n",
       "    .dataframe tbody tr th:only-of-type {\n",
       "        vertical-align: middle;\n",
       "    }\n",
       "\n",
       "    .dataframe tbody tr th {\n",
       "        vertical-align: top;\n",
       "    }\n",
       "\n",
       "    .dataframe thead th {\n",
       "        text-align: right;\n",
       "    }\n",
       "</style>\n",
       "<table border=\"1\" class=\"dataframe\">\n",
       "  <thead>\n",
       "    <tr style=\"text-align: right;\">\n",
       "      <th></th>\n",
       "      <th>PassengerId</th>\n",
       "      <th>Survived</th>\n",
       "      <th>Pclass</th>\n",
       "      <th>Name</th>\n",
       "      <th>Sex</th>\n",
       "      <th>Age</th>\n",
       "      <th>SibSp</th>\n",
       "      <th>Parch</th>\n",
       "      <th>Ticket</th>\n",
       "      <th>Fare</th>\n",
       "      <th>Cabin</th>\n",
       "      <th>Embarked</th>\n",
       "    </tr>\n",
       "  </thead>\n",
       "  <tbody>\n",
       "    <tr>\n",
       "      <th>0</th>\n",
       "      <td>1</td>\n",
       "      <td>0</td>\n",
       "      <td>3</td>\n",
       "      <td>Braund, Mr. Owen Harris</td>\n",
       "      <td>male</td>\n",
       "      <td>22.0</td>\n",
       "      <td>1</td>\n",
       "      <td>0</td>\n",
       "      <td>A/5 21171</td>\n",
       "      <td>7.2500</td>\n",
       "      <td>NaN</td>\n",
       "      <td>S</td>\n",
       "    </tr>\n",
       "    <tr>\n",
       "      <th>1</th>\n",
       "      <td>2</td>\n",
       "      <td>1</td>\n",
       "      <td>1</td>\n",
       "      <td>Cumings, Mrs. John Bradley (Florence Briggs Th...</td>\n",
       "      <td>female</td>\n",
       "      <td>38.0</td>\n",
       "      <td>1</td>\n",
       "      <td>0</td>\n",
       "      <td>PC 17599</td>\n",
       "      <td>71.2833</td>\n",
       "      <td>C85</td>\n",
       "      <td>C</td>\n",
       "    </tr>\n",
       "    <tr>\n",
       "      <th>2</th>\n",
       "      <td>3</td>\n",
       "      <td>1</td>\n",
       "      <td>3</td>\n",
       "      <td>Heikkinen, Miss. Laina</td>\n",
       "      <td>female</td>\n",
       "      <td>26.0</td>\n",
       "      <td>0</td>\n",
       "      <td>0</td>\n",
       "      <td>STON/O2. 3101282</td>\n",
       "      <td>7.9250</td>\n",
       "      <td>NaN</td>\n",
       "      <td>S</td>\n",
       "    </tr>\n",
       "    <tr>\n",
       "      <th>3</th>\n",
       "      <td>4</td>\n",
       "      <td>1</td>\n",
       "      <td>1</td>\n",
       "      <td>Futrelle, Mrs. Jacques Heath (Lily May Peel)</td>\n",
       "      <td>female</td>\n",
       "      <td>35.0</td>\n",
       "      <td>1</td>\n",
       "      <td>0</td>\n",
       "      <td>113803</td>\n",
       "      <td>53.1000</td>\n",
       "      <td>C123</td>\n",
       "      <td>S</td>\n",
       "    </tr>\n",
       "    <tr>\n",
       "      <th>4</th>\n",
       "      <td>5</td>\n",
       "      <td>0</td>\n",
       "      <td>3</td>\n",
       "      <td>Allen, Mr. William Henry</td>\n",
       "      <td>male</td>\n",
       "      <td>35.0</td>\n",
       "      <td>0</td>\n",
       "      <td>0</td>\n",
       "      <td>373450</td>\n",
       "      <td>8.0500</td>\n",
       "      <td>NaN</td>\n",
       "      <td>S</td>\n",
       "    </tr>\n",
       "  </tbody>\n",
       "</table>\n",
       "</div>"
      ],
      "text/plain": [
       "   PassengerId  Survived  Pclass  \\\n",
       "0            1         0       3   \n",
       "1            2         1       1   \n",
       "2            3         1       3   \n",
       "3            4         1       1   \n",
       "4            5         0       3   \n",
       "\n",
       "                                                Name     Sex   Age  SibSp  \\\n",
       "0                            Braund, Mr. Owen Harris    male  22.0      1   \n",
       "1  Cumings, Mrs. John Bradley (Florence Briggs Th...  female  38.0      1   \n",
       "2                             Heikkinen, Miss. Laina  female  26.0      0   \n",
       "3       Futrelle, Mrs. Jacques Heath (Lily May Peel)  female  35.0      1   \n",
       "4                           Allen, Mr. William Henry    male  35.0      0   \n",
       "\n",
       "   Parch            Ticket     Fare Cabin Embarked  \n",
       "0      0         A/5 21171   7.2500   NaN        S  \n",
       "1      0          PC 17599  71.2833   C85        C  \n",
       "2      0  STON/O2. 3101282   7.9250   NaN        S  \n",
       "3      0            113803  53.1000  C123        S  \n",
       "4      0            373450   8.0500   NaN        S  "
      ]
     },
     "execution_count": 3,
     "metadata": {},
     "output_type": "execute_result"
    }
   ],
   "source": [
    "df_train.head()"
   ]
  },
  {
   "cell_type": "code",
   "execution_count": 4,
   "metadata": {},
   "outputs": [
    {
     "name": "stdout",
     "output_type": "stream",
     "text": [
      "<class 'pandas.core.frame.DataFrame'>\n",
      "RangeIndex: 891 entries, 0 to 890\n",
      "Data columns (total 12 columns):\n",
      "PassengerId    891 non-null int64\n",
      "Survived       891 non-null int64\n",
      "Pclass         891 non-null int64\n",
      "Name           891 non-null object\n",
      "Sex            891 non-null object\n",
      "Age            714 non-null float64\n",
      "SibSp          891 non-null int64\n",
      "Parch          891 non-null int64\n",
      "Ticket         891 non-null object\n",
      "Fare           891 non-null float64\n",
      "Cabin          204 non-null object\n",
      "Embarked       889 non-null object\n",
      "dtypes: float64(2), int64(5), object(5)\n",
      "memory usage: 83.6+ KB\n"
     ]
    }
   ],
   "source": [
    "df_train.info()"
   ]
  },
  {
   "cell_type": "code",
   "execution_count": 5,
   "metadata": {},
   "outputs": [
    {
     "data": {
      "text/html": [
       "<div>\n",
       "<style scoped>\n",
       "    .dataframe tbody tr th:only-of-type {\n",
       "        vertical-align: middle;\n",
       "    }\n",
       "\n",
       "    .dataframe tbody tr th {\n",
       "        vertical-align: top;\n",
       "    }\n",
       "\n",
       "    .dataframe thead th {\n",
       "        text-align: right;\n",
       "    }\n",
       "</style>\n",
       "<table border=\"1\" class=\"dataframe\">\n",
       "  <thead>\n",
       "    <tr style=\"text-align: right;\">\n",
       "      <th></th>\n",
       "      <th>PassengerId</th>\n",
       "      <th>Pclass</th>\n",
       "      <th>Name</th>\n",
       "      <th>Sex</th>\n",
       "      <th>Age</th>\n",
       "      <th>SibSp</th>\n",
       "      <th>Parch</th>\n",
       "      <th>Ticket</th>\n",
       "      <th>Fare</th>\n",
       "      <th>Cabin</th>\n",
       "      <th>Embarked</th>\n",
       "    </tr>\n",
       "  </thead>\n",
       "  <tbody>\n",
       "    <tr>\n",
       "      <th>0</th>\n",
       "      <td>892</td>\n",
       "      <td>3</td>\n",
       "      <td>Kelly, Mr. James</td>\n",
       "      <td>male</td>\n",
       "      <td>34.5</td>\n",
       "      <td>0</td>\n",
       "      <td>0</td>\n",
       "      <td>330911</td>\n",
       "      <td>7.8292</td>\n",
       "      <td>NaN</td>\n",
       "      <td>Q</td>\n",
       "    </tr>\n",
       "    <tr>\n",
       "      <th>1</th>\n",
       "      <td>893</td>\n",
       "      <td>3</td>\n",
       "      <td>Wilkes, Mrs. James (Ellen Needs)</td>\n",
       "      <td>female</td>\n",
       "      <td>47.0</td>\n",
       "      <td>1</td>\n",
       "      <td>0</td>\n",
       "      <td>363272</td>\n",
       "      <td>7.0000</td>\n",
       "      <td>NaN</td>\n",
       "      <td>S</td>\n",
       "    </tr>\n",
       "    <tr>\n",
       "      <th>2</th>\n",
       "      <td>894</td>\n",
       "      <td>2</td>\n",
       "      <td>Myles, Mr. Thomas Francis</td>\n",
       "      <td>male</td>\n",
       "      <td>62.0</td>\n",
       "      <td>0</td>\n",
       "      <td>0</td>\n",
       "      <td>240276</td>\n",
       "      <td>9.6875</td>\n",
       "      <td>NaN</td>\n",
       "      <td>Q</td>\n",
       "    </tr>\n",
       "    <tr>\n",
       "      <th>3</th>\n",
       "      <td>895</td>\n",
       "      <td>3</td>\n",
       "      <td>Wirz, Mr. Albert</td>\n",
       "      <td>male</td>\n",
       "      <td>27.0</td>\n",
       "      <td>0</td>\n",
       "      <td>0</td>\n",
       "      <td>315154</td>\n",
       "      <td>8.6625</td>\n",
       "      <td>NaN</td>\n",
       "      <td>S</td>\n",
       "    </tr>\n",
       "    <tr>\n",
       "      <th>4</th>\n",
       "      <td>896</td>\n",
       "      <td>3</td>\n",
       "      <td>Hirvonen, Mrs. Alexander (Helga E Lindqvist)</td>\n",
       "      <td>female</td>\n",
       "      <td>22.0</td>\n",
       "      <td>1</td>\n",
       "      <td>1</td>\n",
       "      <td>3101298</td>\n",
       "      <td>12.2875</td>\n",
       "      <td>NaN</td>\n",
       "      <td>S</td>\n",
       "    </tr>\n",
       "  </tbody>\n",
       "</table>\n",
       "</div>"
      ],
      "text/plain": [
       "   PassengerId  Pclass                                          Name     Sex  \\\n",
       "0          892       3                              Kelly, Mr. James    male   \n",
       "1          893       3              Wilkes, Mrs. James (Ellen Needs)  female   \n",
       "2          894       2                     Myles, Mr. Thomas Francis    male   \n",
       "3          895       3                              Wirz, Mr. Albert    male   \n",
       "4          896       3  Hirvonen, Mrs. Alexander (Helga E Lindqvist)  female   \n",
       "\n",
       "    Age  SibSp  Parch   Ticket     Fare Cabin Embarked  \n",
       "0  34.5      0      0   330911   7.8292   NaN        Q  \n",
       "1  47.0      1      0   363272   7.0000   NaN        S  \n",
       "2  62.0      0      0   240276   9.6875   NaN        Q  \n",
       "3  27.0      0      0   315154   8.6625   NaN        S  \n",
       "4  22.0      1      1  3101298  12.2875   NaN        S  "
      ]
     },
     "execution_count": 5,
     "metadata": {},
     "output_type": "execute_result"
    }
   ],
   "source": [
    "df_test.head()"
   ]
  },
  {
   "cell_type": "code",
   "execution_count": 6,
   "metadata": {},
   "outputs": [
    {
     "name": "stdout",
     "output_type": "stream",
     "text": [
      "<class 'pandas.core.frame.DataFrame'>\n",
      "RangeIndex: 418 entries, 0 to 417\n",
      "Data columns (total 11 columns):\n",
      "PassengerId    418 non-null int64\n",
      "Pclass         418 non-null int64\n",
      "Name           418 non-null object\n",
      "Sex            418 non-null object\n",
      "Age            332 non-null float64\n",
      "SibSp          418 non-null int64\n",
      "Parch          418 non-null int64\n",
      "Ticket         418 non-null object\n",
      "Fare           417 non-null float64\n",
      "Cabin          91 non-null object\n",
      "Embarked       418 non-null object\n",
      "dtypes: float64(2), int64(4), object(5)\n",
      "memory usage: 36.0+ KB\n"
     ]
    }
   ],
   "source": [
    "df_test.info()"
   ]
  },
  {
   "cell_type": "markdown",
   "metadata": {},
   "source": [
    "Both datasets have missing values for Age and Cabin"
   ]
  },
  {
   "cell_type": "code",
   "execution_count": 7,
   "metadata": {},
   "outputs": [
    {
     "data": {
      "text/plain": [
       "PassengerId      0\n",
       "Survived         0\n",
       "Pclass           0\n",
       "Name             0\n",
       "Sex              0\n",
       "Age            177\n",
       "SibSp            0\n",
       "Parch            0\n",
       "Ticket           0\n",
       "Fare             0\n",
       "Cabin          687\n",
       "Embarked         2\n",
       "dtype: int64"
      ]
     },
     "execution_count": 7,
     "metadata": {},
     "output_type": "execute_result"
    }
   ],
   "source": [
    "df_train.isna().sum()"
   ]
  },
  {
   "cell_type": "code",
   "execution_count": 8,
   "metadata": {},
   "outputs": [
    {
     "data": {
      "text/plain": [
       "PassengerId      0\n",
       "Pclass           0\n",
       "Name             0\n",
       "Sex              0\n",
       "Age             86\n",
       "SibSp            0\n",
       "Parch            0\n",
       "Ticket           0\n",
       "Fare             1\n",
       "Cabin          327\n",
       "Embarked         0\n",
       "dtype: int64"
      ]
     },
     "execution_count": 8,
     "metadata": {},
     "output_type": "execute_result"
    }
   ],
   "source": [
    "df_test.isna().sum()"
   ]
  },
  {
   "cell_type": "markdown",
   "metadata": {},
   "source": [
    "Do some basic statistics"
   ]
  },
  {
   "cell_type": "code",
   "execution_count": 9,
   "metadata": {},
   "outputs": [
    {
     "data": {
      "text/html": [
       "<div>\n",
       "<style scoped>\n",
       "    .dataframe tbody tr th:only-of-type {\n",
       "        vertical-align: middle;\n",
       "    }\n",
       "\n",
       "    .dataframe tbody tr th {\n",
       "        vertical-align: top;\n",
       "    }\n",
       "\n",
       "    .dataframe thead th {\n",
       "        text-align: right;\n",
       "    }\n",
       "</style>\n",
       "<table border=\"1\" class=\"dataframe\">\n",
       "  <thead>\n",
       "    <tr style=\"text-align: right;\">\n",
       "      <th></th>\n",
       "      <th>PassengerId</th>\n",
       "      <th>Survived</th>\n",
       "      <th>Pclass</th>\n",
       "      <th>Age</th>\n",
       "      <th>SibSp</th>\n",
       "      <th>Parch</th>\n",
       "      <th>Fare</th>\n",
       "    </tr>\n",
       "  </thead>\n",
       "  <tbody>\n",
       "    <tr>\n",
       "      <th>count</th>\n",
       "      <td>891.000000</td>\n",
       "      <td>891.000000</td>\n",
       "      <td>891.000000</td>\n",
       "      <td>714.000000</td>\n",
       "      <td>891.000000</td>\n",
       "      <td>891.000000</td>\n",
       "      <td>891.000000</td>\n",
       "    </tr>\n",
       "    <tr>\n",
       "      <th>mean</th>\n",
       "      <td>446.000000</td>\n",
       "      <td>0.383838</td>\n",
       "      <td>2.308642</td>\n",
       "      <td>29.699118</td>\n",
       "      <td>0.523008</td>\n",
       "      <td>0.381594</td>\n",
       "      <td>32.204208</td>\n",
       "    </tr>\n",
       "    <tr>\n",
       "      <th>std</th>\n",
       "      <td>257.353842</td>\n",
       "      <td>0.486592</td>\n",
       "      <td>0.836071</td>\n",
       "      <td>14.526497</td>\n",
       "      <td>1.102743</td>\n",
       "      <td>0.806057</td>\n",
       "      <td>49.693429</td>\n",
       "    </tr>\n",
       "    <tr>\n",
       "      <th>min</th>\n",
       "      <td>1.000000</td>\n",
       "      <td>0.000000</td>\n",
       "      <td>1.000000</td>\n",
       "      <td>0.420000</td>\n",
       "      <td>0.000000</td>\n",
       "      <td>0.000000</td>\n",
       "      <td>0.000000</td>\n",
       "    </tr>\n",
       "    <tr>\n",
       "      <th>25%</th>\n",
       "      <td>223.500000</td>\n",
       "      <td>0.000000</td>\n",
       "      <td>2.000000</td>\n",
       "      <td>20.125000</td>\n",
       "      <td>0.000000</td>\n",
       "      <td>0.000000</td>\n",
       "      <td>7.910400</td>\n",
       "    </tr>\n",
       "    <tr>\n",
       "      <th>50%</th>\n",
       "      <td>446.000000</td>\n",
       "      <td>0.000000</td>\n",
       "      <td>3.000000</td>\n",
       "      <td>28.000000</td>\n",
       "      <td>0.000000</td>\n",
       "      <td>0.000000</td>\n",
       "      <td>14.454200</td>\n",
       "    </tr>\n",
       "    <tr>\n",
       "      <th>75%</th>\n",
       "      <td>668.500000</td>\n",
       "      <td>1.000000</td>\n",
       "      <td>3.000000</td>\n",
       "      <td>38.000000</td>\n",
       "      <td>1.000000</td>\n",
       "      <td>0.000000</td>\n",
       "      <td>31.000000</td>\n",
       "    </tr>\n",
       "    <tr>\n",
       "      <th>max</th>\n",
       "      <td>891.000000</td>\n",
       "      <td>1.000000</td>\n",
       "      <td>3.000000</td>\n",
       "      <td>80.000000</td>\n",
       "      <td>8.000000</td>\n",
       "      <td>6.000000</td>\n",
       "      <td>512.329200</td>\n",
       "    </tr>\n",
       "  </tbody>\n",
       "</table>\n",
       "</div>"
      ],
      "text/plain": [
       "       PassengerId    Survived      Pclass         Age       SibSp  \\\n",
       "count   891.000000  891.000000  891.000000  714.000000  891.000000   \n",
       "mean    446.000000    0.383838    2.308642   29.699118    0.523008   \n",
       "std     257.353842    0.486592    0.836071   14.526497    1.102743   \n",
       "min       1.000000    0.000000    1.000000    0.420000    0.000000   \n",
       "25%     223.500000    0.000000    2.000000   20.125000    0.000000   \n",
       "50%     446.000000    0.000000    3.000000   28.000000    0.000000   \n",
       "75%     668.500000    1.000000    3.000000   38.000000    1.000000   \n",
       "max     891.000000    1.000000    3.000000   80.000000    8.000000   \n",
       "\n",
       "            Parch        Fare  \n",
       "count  891.000000  891.000000  \n",
       "mean     0.381594   32.204208  \n",
       "std      0.806057   49.693429  \n",
       "min      0.000000    0.000000  \n",
       "25%      0.000000    7.910400  \n",
       "50%      0.000000   14.454200  \n",
       "75%      0.000000   31.000000  \n",
       "max      6.000000  512.329200  "
      ]
     },
     "execution_count": 9,
     "metadata": {},
     "output_type": "execute_result"
    }
   ],
   "source": [
    "df_train.describe()"
   ]
  },
  {
   "cell_type": "code",
   "execution_count": 10,
   "metadata": {},
   "outputs": [
    {
     "data": {
      "text/html": [
       "<div>\n",
       "<style scoped>\n",
       "    .dataframe tbody tr th:only-of-type {\n",
       "        vertical-align: middle;\n",
       "    }\n",
       "\n",
       "    .dataframe tbody tr th {\n",
       "        vertical-align: top;\n",
       "    }\n",
       "\n",
       "    .dataframe thead th {\n",
       "        text-align: right;\n",
       "    }\n",
       "</style>\n",
       "<table border=\"1\" class=\"dataframe\">\n",
       "  <thead>\n",
       "    <tr style=\"text-align: right;\">\n",
       "      <th></th>\n",
       "      <th>PassengerId</th>\n",
       "      <th>Pclass</th>\n",
       "      <th>Age</th>\n",
       "      <th>SibSp</th>\n",
       "      <th>Parch</th>\n",
       "      <th>Fare</th>\n",
       "    </tr>\n",
       "  </thead>\n",
       "  <tbody>\n",
       "    <tr>\n",
       "      <th>count</th>\n",
       "      <td>418.000000</td>\n",
       "      <td>418.000000</td>\n",
       "      <td>332.000000</td>\n",
       "      <td>418.000000</td>\n",
       "      <td>418.000000</td>\n",
       "      <td>417.000000</td>\n",
       "    </tr>\n",
       "    <tr>\n",
       "      <th>mean</th>\n",
       "      <td>1100.500000</td>\n",
       "      <td>2.265550</td>\n",
       "      <td>30.272590</td>\n",
       "      <td>0.447368</td>\n",
       "      <td>0.392344</td>\n",
       "      <td>35.627188</td>\n",
       "    </tr>\n",
       "    <tr>\n",
       "      <th>std</th>\n",
       "      <td>120.810458</td>\n",
       "      <td>0.841838</td>\n",
       "      <td>14.181209</td>\n",
       "      <td>0.896760</td>\n",
       "      <td>0.981429</td>\n",
       "      <td>55.907576</td>\n",
       "    </tr>\n",
       "    <tr>\n",
       "      <th>min</th>\n",
       "      <td>892.000000</td>\n",
       "      <td>1.000000</td>\n",
       "      <td>0.170000</td>\n",
       "      <td>0.000000</td>\n",
       "      <td>0.000000</td>\n",
       "      <td>0.000000</td>\n",
       "    </tr>\n",
       "    <tr>\n",
       "      <th>25%</th>\n",
       "      <td>996.250000</td>\n",
       "      <td>1.000000</td>\n",
       "      <td>21.000000</td>\n",
       "      <td>0.000000</td>\n",
       "      <td>0.000000</td>\n",
       "      <td>7.895800</td>\n",
       "    </tr>\n",
       "    <tr>\n",
       "      <th>50%</th>\n",
       "      <td>1100.500000</td>\n",
       "      <td>3.000000</td>\n",
       "      <td>27.000000</td>\n",
       "      <td>0.000000</td>\n",
       "      <td>0.000000</td>\n",
       "      <td>14.454200</td>\n",
       "    </tr>\n",
       "    <tr>\n",
       "      <th>75%</th>\n",
       "      <td>1204.750000</td>\n",
       "      <td>3.000000</td>\n",
       "      <td>39.000000</td>\n",
       "      <td>1.000000</td>\n",
       "      <td>0.000000</td>\n",
       "      <td>31.500000</td>\n",
       "    </tr>\n",
       "    <tr>\n",
       "      <th>max</th>\n",
       "      <td>1309.000000</td>\n",
       "      <td>3.000000</td>\n",
       "      <td>76.000000</td>\n",
       "      <td>8.000000</td>\n",
       "      <td>9.000000</td>\n",
       "      <td>512.329200</td>\n",
       "    </tr>\n",
       "  </tbody>\n",
       "</table>\n",
       "</div>"
      ],
      "text/plain": [
       "       PassengerId      Pclass         Age       SibSp       Parch        Fare\n",
       "count   418.000000  418.000000  332.000000  418.000000  418.000000  417.000000\n",
       "mean   1100.500000    2.265550   30.272590    0.447368    0.392344   35.627188\n",
       "std     120.810458    0.841838   14.181209    0.896760    0.981429   55.907576\n",
       "min     892.000000    1.000000    0.170000    0.000000    0.000000    0.000000\n",
       "25%     996.250000    1.000000   21.000000    0.000000    0.000000    7.895800\n",
       "50%    1100.500000    3.000000   27.000000    0.000000    0.000000   14.454200\n",
       "75%    1204.750000    3.000000   39.000000    1.000000    0.000000   31.500000\n",
       "max    1309.000000    3.000000   76.000000    8.000000    9.000000  512.329200"
      ]
     },
     "execution_count": 10,
     "metadata": {},
     "output_type": "execute_result"
    }
   ],
   "source": [
    "df_test.describe()"
   ]
  },
  {
   "cell_type": "markdown",
   "metadata": {},
   "source": [
    "How many survived?"
   ]
  },
  {
   "cell_type": "code",
   "execution_count": 11,
   "metadata": {},
   "outputs": [
    {
     "data": {
      "text/plain": [
       "<matplotlib.axes._subplots.AxesSubplot at 0x7fa61a250278>"
      ]
     },
     "execution_count": 11,
     "metadata": {},
     "output_type": "execute_result"
    },
    {
     "data": {
      "image/png": "[encoded data removed]",
      "text/plain": [
       "<Figure size 432x288 with 1 Axes>"
      ]
     },
     "metadata": {
      "needs_background": "light"
     },
     "output_type": "display_data"
    }
   ],
   "source": [
    "sns.countplot(data=df_train, x='Survived')"
   ]
  },
  {
   "cell_type": "markdown",
   "metadata": {},
   "source": [
    "**Who has more survivors? Males or females?**"
   ]
  },
  {
   "cell_type": "code",
   "execution_count": 12,
   "metadata": {},
   "outputs": [
    {
     "data": {
      "text/plain": [
       "Survived  Sex   \n",
       "0         female     81\n",
       "          male      468\n",
       "1         female    233\n",
       "          male      109\n",
       "Name: Survived, dtype: int64"
      ]
     },
     "execution_count": 12,
     "metadata": {},
     "output_type": "execute_result"
    }
   ],
   "source": [
    "df_train.groupby(['Survived', 'Sex'])['Survived'].count()"
   ]
  },
  {
   "cell_type": "code",
   "execution_count": 13,
   "metadata": {},
   "outputs": [
    {
     "data": {
      "text/plain": [
       "<seaborn.axisgrid.FacetGrid at 0x7fa619fefcc0>"
      ]
     },
     "execution_count": 13,
     "metadata": {},
     "output_type": "execute_result"
    },
    {
     "data": {
      "image/png": "[encoded data removed]",
      "text/plain": [
       "<Figure size 720x360 with 2 Axes>"
      ]
     },
     "metadata": {
      "needs_background": "light"
     },
     "output_type": "display_data"
    }
   ],
   "source": [
    "sns.catplot(x='Sex', col='Survived', kind='count', data=df_train)"
   ]
  },
  {
   "cell_type": "markdown",
   "metadata": {},
   "source": [
    "Show Gender survival percentages"
   ]
  },
  {
   "cell_type": "code",
   "execution_count": 14,
   "metadata": {},
   "outputs": [
    {
     "name": "stdout",
     "output_type": "stream",
     "text": [
      "233 109 314 577\n",
      "Women Survived --> 74.204 %\n",
      "Men Survived --> 18.891 %\n"
     ]
    }
   ],
   "source": [
    "women_survived = df_train[df_train.Sex == 'female'].Survived.sum()\n",
    "men_survived = df_train[df_train.Sex == 'male'].Survived.sum()\n",
    "total_female_survived = df_train[df_train.Sex == 'female'].Survived.count()\n",
    "total_male_survived = df_train[df_train.Sex == 'male'].Survived.count()\n",
    "print(women_survived,men_survived,total_female_survived, total_male_survived, sep=' ')\n",
    "print('Women Survived --> {:<7.3f}%'.format(women_survived/total_female_survived * 100))\n",
    "print('Men Survived --> {:<7.3f}%'.format(men_survived/total_male_survived * 100))"
   ]
  },
  {
   "cell_type": "markdown",
   "metadata": {},
   "source": [
    "Do some pie charts for gender survival"
   ]
  },
  {
   "cell_type": "code",
   "execution_count": 15,
   "metadata": {},
   "outputs": [
    {
     "data": {
      "image/png": "[encoded data removed]",
      "text/plain": [
       "<Figure size 1152x504 with 2 Axes>"
      ]
     },
     "metadata": {},
     "output_type": "display_data"
    }
   ],
   "source": [
    "f,ax=plt.subplots(1,2,figsize=(16,7))\n",
    "df_train['Survived'][df_train['Sex']=='male'].value_counts().plot.pie(explode=[0,0.2],autopct='%1.1f%%',ax=ax[0],shadow=True)\n",
    "df_train['Survived'][df_train['Sex']=='female'].value_counts().plot.pie(explode=[0,0.2],autopct='%1.1f%%',ax=ax[1],shadow=True)\n",
    "ax[0].set_title('Survived (male)')\n",
    "ax[1].set_title('Survived (female)')\n",
    "\n",
    "plt.show()"
   ]
  },
  {
   "cell_type": "markdown",
   "metadata": {},
   "source": [
    "**Let's see if survivors depends of passenger class**"
   ]
  },
  {
   "cell_type": "code",
   "execution_count": 16,
   "metadata": {},
   "outputs": [
    {
     "data": {
      "text/plain": [
       "Survived  Pclass\n",
       "0         1          80\n",
       "          2          97\n",
       "          3         372\n",
       "1         1         136\n",
       "          2          87\n",
       "          3         119\n",
       "Name: Survived, dtype: int64"
      ]
     },
     "execution_count": 16,
     "metadata": {},
     "output_type": "execute_result"
    }
   ],
   "source": [
    "df_train.groupby(['Survived', 'Pclass'])['Survived'].count()"
   ]
  },
  {
   "cell_type": "code",
   "execution_count": 17,
   "metadata": {},
   "outputs": [
    {
     "data": {
      "text/plain": [
       "<seaborn.axisgrid.FacetGrid at 0x7fa619f080b8>"
      ]
     },
     "execution_count": 17,
     "metadata": {},
     "output_type": "execute_result"
    },
    {
     "data": {
      "image/png": "[encoded data removed]",
      "text/plain": [
       "<Figure size 720x360 with 2 Axes>"
      ]
     },
     "metadata": {
      "needs_background": "light"
     },
     "output_type": "display_data"
    }
   ],
   "source": [
    "sns.catplot(x='Pclass', col='Survived', kind='count', data=df_train)"
   ]
  },
  {
   "cell_type": "markdown",
   "metadata": {},
   "source": [
    "The majority of those who did not survive were from the 3rd class, while the survivors are almost the same for all classes."
   ]
  },
  {
   "cell_type": "code",
   "execution_count": 18,
   "metadata": {},
   "outputs": [
    {
     "data": {
      "text/html": [
       "<style  type=\"text/css\" >\n",
       "    #T_3e1a004e_4d7b_11e9_b430_d7d45de3d2bfrow0_col0 {\n",
       "            background-color:  #ffff00;\n",
       "        }    #T_3e1a004e_4d7b_11e9_b430_d7d45de3d2bfrow0_col1 {\n",
       "            background-color:  #ffce00;\n",
       "        }    #T_3e1a004e_4d7b_11e9_b430_d7d45de3d2bfrow0_col2 {\n",
       "            background-color:  #fff400;\n",
       "        }    #T_3e1a004e_4d7b_11e9_b430_d7d45de3d2bfrow1_col0 {\n",
       "            background-color:  #fff600;\n",
       "        }    #T_3e1a004e_4d7b_11e9_b430_d7d45de3d2bfrow1_col1 {\n",
       "            background-color:  #ffff00;\n",
       "        }    #T_3e1a004e_4d7b_11e9_b430_d7d45de3d2bfrow1_col2 {\n",
       "            background-color:  #ffff00;\n",
       "        }    #T_3e1a004e_4d7b_11e9_b430_d7d45de3d2bfrow2_col0 {\n",
       "            background-color:  #ff6000;\n",
       "        }    #T_3e1a004e_4d7b_11e9_b430_d7d45de3d2bfrow2_col1 {\n",
       "            background-color:  #ffdf00;\n",
       "        }    #T_3e1a004e_4d7b_11e9_b430_d7d45de3d2bfrow2_col2 {\n",
       "            background-color:  #ff9000;\n",
       "        }    #T_3e1a004e_4d7b_11e9_b430_d7d45de3d2bfrow3_col0 {\n",
       "            background-color:  #ff0000;\n",
       "        }    #T_3e1a004e_4d7b_11e9_b430_d7d45de3d2bfrow3_col1 {\n",
       "            background-color:  #ff0000;\n",
       "        }    #T_3e1a004e_4d7b_11e9_b430_d7d45de3d2bfrow3_col2 {\n",
       "            background-color:  #ff0000;\n",
       "        }</style>  \n",
       "<table id=\"T_3e1a004e_4d7b_11e9_b430_d7d45de3d2bf\" > \n",
       "<thead>    <tr> \n",
       "        <th class=\"index_name level0\" >Survived</th> \n",
       "        <th class=\"col_heading level0 col0\" >0</th> \n",
       "        <th class=\"col_heading level0 col1\" >1</th> \n",
       "        <th class=\"col_heading level0 col2\" >All</th> \n",
       "    </tr>    <tr> \n",
       "        <th class=\"index_name level0\" >Pclass</th> \n",
       "        <th class=\"blank\" ></th> \n",
       "        <th class=\"blank\" ></th> \n",
       "        <th class=\"blank\" ></th> \n",
       "    </tr></thead> \n",
       "<tbody>    <tr> \n",
       "        <th id=\"T_3e1a004e_4d7b_11e9_b430_d7d45de3d2bflevel0_row0\" class=\"row_heading level0 row0\" >1</th> \n",
       "        <td id=\"T_3e1a004e_4d7b_11e9_b430_d7d45de3d2bfrow0_col0\" class=\"data row0 col0\" >80</td> \n",
       "        <td id=\"T_3e1a004e_4d7b_11e9_b430_d7d45de3d2bfrow0_col1\" class=\"data row0 col1\" >136</td> \n",
       "        <td id=\"T_3e1a004e_4d7b_11e9_b430_d7d45de3d2bfrow0_col2\" class=\"data row0 col2\" >216</td> \n",
       "    </tr>    <tr> \n",
       "        <th id=\"T_3e1a004e_4d7b_11e9_b430_d7d45de3d2bflevel0_row1\" class=\"row_heading level0 row1\" >2</th> \n",
       "        <td id=\"T_3e1a004e_4d7b_11e9_b430_d7d45de3d2bfrow1_col0\" class=\"data row1 col0\" >97</td> \n",
       "        <td id=\"T_3e1a004e_4d7b_11e9_b430_d7d45de3d2bfrow1_col1\" class=\"data row1 col1\" >87</td> \n",
       "        <td id=\"T_3e1a004e_4d7b_11e9_b430_d7d45de3d2bfrow1_col2\" class=\"data row1 col2\" >184</td> \n",
       "    </tr>    <tr> \n",
       "        <th id=\"T_3e1a004e_4d7b_11e9_b430_d7d45de3d2bflevel0_row2\" class=\"row_heading level0 row2\" >3</th> \n",
       "        <td id=\"T_3e1a004e_4d7b_11e9_b430_d7d45de3d2bfrow2_col0\" class=\"data row2 col0\" >372</td> \n",
       "        <td id=\"T_3e1a004e_4d7b_11e9_b430_d7d45de3d2bfrow2_col1\" class=\"data row2 col1\" >119</td> \n",
       "        <td id=\"T_3e1a004e_4d7b_11e9_b430_d7d45de3d2bfrow2_col2\" class=\"data row2 col2\" >491</td> \n",
       "    </tr>    <tr> \n",
       "        <th id=\"T_3e1a004e_4d7b_11e9_b430_d7d45de3d2bflevel0_row3\" class=\"row_heading level0 row3\" >All</th> \n",
       "        <td id=\"T_3e1a004e_4d7b_11e9_b430_d7d45de3d2bfrow3_col0\" class=\"data row3 col0\" >549</td> \n",
       "        <td id=\"T_3e1a004e_4d7b_11e9_b430_d7d45de3d2bfrow3_col1\" class=\"data row3 col1\" >342</td> \n",
       "        <td id=\"T_3e1a004e_4d7b_11e9_b430_d7d45de3d2bfrow3_col2\" class=\"data row3 col2\" >891</td> \n",
       "    </tr></tbody> \n",
       "</table> "
      ],
      "text/plain": [
       "<pandas.io.formats.style.Styler at 0x7fa64c285d30>"
      ]
     },
     "execution_count": 18,
     "metadata": {},
     "output_type": "execute_result"
    }
   ],
   "source": [
    "pd.crosstab(df_train.Pclass, df_train.Survived, margins=True).style.background_gradient(cmap='autumn_r')"
   ]
  },
  {
   "cell_type": "markdown",
   "metadata": {},
   "source": [
    "**Display some percentages again**"
   ]
  },
  {
   "cell_type": "code",
   "execution_count": 19,
   "metadata": {},
   "outputs": [
    {
     "data": {
      "text/html": [
       "<div>\n",
       "<style scoped>\n",
       "    .dataframe tbody tr th:only-of-type {\n",
       "        vertical-align: middle;\n",
       "    }\n",
       "\n",
       "    .dataframe tbody tr th {\n",
       "        vertical-align: top;\n",
       "    }\n",
       "\n",
       "    .dataframe thead th {\n",
       "        text-align: right;\n",
       "    }\n",
       "</style>\n",
       "<table border=\"1\" class=\"dataframe\">\n",
       "  <thead>\n",
       "    <tr style=\"text-align: right;\">\n",
       "      <th>Survived</th>\n",
       "      <th>0</th>\n",
       "      <th>1</th>\n",
       "    </tr>\n",
       "    <tr>\n",
       "      <th>Pclass</th>\n",
       "      <th></th>\n",
       "      <th></th>\n",
       "    </tr>\n",
       "  </thead>\n",
       "  <tbody>\n",
       "    <tr>\n",
       "      <th>1</th>\n",
       "      <td>0.370370</td>\n",
       "      <td>0.629630</td>\n",
       "    </tr>\n",
       "    <tr>\n",
       "      <th>2</th>\n",
       "      <td>0.527174</td>\n",
       "      <td>0.472826</td>\n",
       "    </tr>\n",
       "    <tr>\n",
       "      <th>3</th>\n",
       "      <td>0.757637</td>\n",
       "      <td>0.242363</td>\n",
       "    </tr>\n",
       "    <tr>\n",
       "      <th>All</th>\n",
       "      <td>0.616162</td>\n",
       "      <td>0.383838</td>\n",
       "    </tr>\n",
       "  </tbody>\n",
       "</table>\n",
       "</div>"
      ],
      "text/plain": [
       "Survived         0         1\n",
       "Pclass                      \n",
       "1         0.370370  0.629630\n",
       "2         0.527174  0.472826\n",
       "3         0.757637  0.242363\n",
       "All       0.616162  0.383838"
      ]
     },
     "execution_count": 19,
     "metadata": {},
     "output_type": "execute_result"
    }
   ],
   "source": [
    "pd_class_p = pd.crosstab(df_train.Pclass, df_train.Survived, margins=True,normalize='index')\n",
    "pd_class_p"
   ]
  },
  {
   "cell_type": "code",
   "execution_count": 20,
   "metadata": {},
   "outputs": [
    {
     "data": {
      "text/plain": [
       "0.24236252545824846"
      ]
     },
     "execution_count": 20,
     "metadata": {},
     "output_type": "execute_result"
    }
   ],
   "source": [
    "pd_class_p[1][3]"
   ]
  },
  {
   "cell_type": "code",
   "execution_count": 21,
   "metadata": {},
   "outputs": [
    {
     "name": "stdout",
     "output_type": "stream",
     "text": [
      "Survivals per class percentages :\n",
      "Class 1 --> 62.963 %\n",
      "Class 2 --> 47.283 %\n",
      "Class 3 --> 24.236 %\n"
     ]
    }
   ],
   "source": [
    "print('Survivals per class percentages :')\n",
    "for i in range(3):\n",
    "    print('Class {} --> {:<7.3f}%'.format(i+1,pd_class_p[1][i+1]*100))"
   ]
  },
  {
   "cell_type": "code",
   "execution_count": 22,
   "metadata": {},
   "outputs": [
    {
     "data": {
      "text/plain": [
       "<seaborn.axisgrid.FacetGrid at 0x7fa619647a58>"
      ]
     },
     "execution_count": 22,
     "metadata": {},
     "output_type": "execute_result"
    },
    {
     "data": {
      "image/png": "[encoded data removed]",
      "text/plain": [
       "<Figure size 360x360 with 1 Axes>"
      ]
     },
     "metadata": {
      "needs_background": "light"
     },
     "output_type": "display_data"
    }
   ],
   "source": [
    "sns.catplot('Pclass','Survived', kind='point', data=df_train)"
   ]
  },
  {
   "cell_type": "markdown",
   "metadata": {},
   "source": [
    "**Passenger Class and Sex :**"
   ]
  },
  {
   "cell_type": "code",
   "execution_count": 23,
   "metadata": {},
   "outputs": [
    {
     "data": {
      "text/html": [
       "<style  type=\"text/css\" >\n",
       "    #T_3e781fda_4d7b_11e9_b430_d7d45de3d2bfrow0_col0 {\n",
       "            background-color:  #ffff00;\n",
       "        }    #T_3e781fda_4d7b_11e9_b430_d7d45de3d2bfrow0_col1 {\n",
       "            background-color:  #ffff00;\n",
       "        }    #T_3e781fda_4d7b_11e9_b430_d7d45de3d2bfrow0_col2 {\n",
       "            background-color:  #fff100;\n",
       "        }    #T_3e781fda_4d7b_11e9_b430_d7d45de3d2bfrow0_col3 {\n",
       "            background-color:  #ffff00;\n",
       "        }    #T_3e781fda_4d7b_11e9_b430_d7d45de3d2bfrow1_col0 {\n",
       "            background-color:  #ff9600;\n",
       "        }    #T_3e781fda_4d7b_11e9_b430_d7d45de3d2bfrow1_col1 {\n",
       "            background-color:  #ffa300;\n",
       "        }    #T_3e781fda_4d7b_11e9_b430_d7d45de3d2bfrow1_col2 {\n",
       "            background-color:  #fff100;\n",
       "        }    #T_3e781fda_4d7b_11e9_b430_d7d45de3d2bfrow1_col3 {\n",
       "            background-color:  #ffcf00;\n",
       "        }    #T_3e781fda_4d7b_11e9_b430_d7d45de3d2bfrow2_col0 {\n",
       "            background-color:  #ffa700;\n",
       "        }    #T_3e781fda_4d7b_11e9_b430_d7d45de3d2bfrow2_col1 {\n",
       "            background-color:  #ff8500;\n",
       "        }    #T_3e781fda_4d7b_11e9_b430_d7d45de3d2bfrow2_col2 {\n",
       "            background-color:  #ff6e00;\n",
       "        }    #T_3e781fda_4d7b_11e9_b430_d7d45de3d2bfrow2_col3 {\n",
       "            background-color:  #ff8500;\n",
       "        }    #T_3e781fda_4d7b_11e9_b430_d7d45de3d2bfrow3_col0 {\n",
       "            background-color:  #ffcd00;\n",
       "        }    #T_3e781fda_4d7b_11e9_b430_d7d45de3d2bfrow3_col1 {\n",
       "            background-color:  #fff000;\n",
       "        }    #T_3e781fda_4d7b_11e9_b430_d7d45de3d2bfrow3_col2 {\n",
       "            background-color:  #ffff00;\n",
       "        }    #T_3e781fda_4d7b_11e9_b430_d7d45de3d2bfrow3_col3 {\n",
       "            background-color:  #fff700;\n",
       "        }    #T_3e781fda_4d7b_11e9_b430_d7d45de3d2bfrow4_col0 {\n",
       "            background-color:  #ff0000;\n",
       "        }    #T_3e781fda_4d7b_11e9_b430_d7d45de3d2bfrow4_col1 {\n",
       "            background-color:  #ff0000;\n",
       "        }    #T_3e781fda_4d7b_11e9_b430_d7d45de3d2bfrow4_col2 {\n",
       "            background-color:  #ff0000;\n",
       "        }    #T_3e781fda_4d7b_11e9_b430_d7d45de3d2bfrow4_col3 {\n",
       "            background-color:  #ff0000;\n",
       "        }</style>  \n",
       "<table id=\"T_3e781fda_4d7b_11e9_b430_d7d45de3d2bf\" > \n",
       "<thead>    <tr> \n",
       "        <th class=\"blank\" ></th> \n",
       "        <th class=\"index_name level0\" >Pclass</th> \n",
       "        <th class=\"col_heading level0 col0\" >1</th> \n",
       "        <th class=\"col_heading level0 col1\" >2</th> \n",
       "        <th class=\"col_heading level0 col2\" >3</th> \n",
       "        <th class=\"col_heading level0 col3\" >All</th> \n",
       "    </tr>    <tr> \n",
       "        <th class=\"index_name level0\" >Sex</th> \n",
       "        <th class=\"index_name level1\" >Survived</th> \n",
       "        <th class=\"blank\" ></th> \n",
       "        <th class=\"blank\" ></th> \n",
       "        <th class=\"blank\" ></th> \n",
       "        <th class=\"blank\" ></th> \n",
       "    </tr></thead> \n",
       "<tbody>    <tr> \n",
       "        <th id=\"T_3e781fda_4d7b_11e9_b430_d7d45de3d2bflevel0_row0\" class=\"row_heading level0 row0\" rowspan=2>female</th> \n",
       "        <th id=\"T_3e781fda_4d7b_11e9_b430_d7d45de3d2bflevel1_row0\" class=\"row_heading level1 row0\" >0</th> \n",
       "        <td id=\"T_3e781fda_4d7b_11e9_b430_d7d45de3d2bfrow0_col0\" class=\"data row0 col0\" >3</td> \n",
       "        <td id=\"T_3e781fda_4d7b_11e9_b430_d7d45de3d2bfrow0_col1\" class=\"data row0 col1\" >6</td> \n",
       "        <td id=\"T_3e781fda_4d7b_11e9_b430_d7d45de3d2bfrow0_col2\" class=\"data row0 col2\" >72</td> \n",
       "        <td id=\"T_3e781fda_4d7b_11e9_b430_d7d45de3d2bfrow0_col3\" class=\"data row0 col3\" >81</td> \n",
       "    </tr>    <tr> \n",
       "        <th id=\"T_3e781fda_4d7b_11e9_b430_d7d45de3d2bflevel1_row1\" class=\"row_heading level1 row1\" >1</th> \n",
       "        <td id=\"T_3e781fda_4d7b_11e9_b430_d7d45de3d2bfrow1_col0\" class=\"data row1 col0\" >91</td> \n",
       "        <td id=\"T_3e781fda_4d7b_11e9_b430_d7d45de3d2bfrow1_col1\" class=\"data row1 col1\" >70</td> \n",
       "        <td id=\"T_3e781fda_4d7b_11e9_b430_d7d45de3d2bfrow1_col2\" class=\"data row1 col2\" >72</td> \n",
       "        <td id=\"T_3e781fda_4d7b_11e9_b430_d7d45de3d2bfrow1_col3\" class=\"data row1 col3\" >233</td> \n",
       "    </tr>    <tr> \n",
       "        <th id=\"T_3e781fda_4d7b_11e9_b430_d7d45de3d2bflevel0_row2\" class=\"row_heading level0 row2\" rowspan=2>male</th> \n",
       "        <th id=\"T_3e781fda_4d7b_11e9_b430_d7d45de3d2bflevel1_row2\" class=\"row_heading level1 row2\" >0</th> \n",
       "        <td id=\"T_3e781fda_4d7b_11e9_b430_d7d45de3d2bfrow2_col0\" class=\"data row2 col0\" >77</td> \n",
       "        <td id=\"T_3e781fda_4d7b_11e9_b430_d7d45de3d2bfrow2_col1\" class=\"data row2 col1\" >91</td> \n",
       "        <td id=\"T_3e781fda_4d7b_11e9_b430_d7d45de3d2bfrow2_col2\" class=\"data row2 col2\" >300</td> \n",
       "        <td id=\"T_3e781fda_4d7b_11e9_b430_d7d45de3d2bfrow2_col3\" class=\"data row2 col3\" >468</td> \n",
       "    </tr>    <tr> \n",
       "        <th id=\"T_3e781fda_4d7b_11e9_b430_d7d45de3d2bflevel1_row3\" class=\"row_heading level1 row3\" >1</th> \n",
       "        <td id=\"T_3e781fda_4d7b_11e9_b430_d7d45de3d2bfrow3_col0\" class=\"data row3 col0\" >45</td> \n",
       "        <td id=\"T_3e781fda_4d7b_11e9_b430_d7d45de3d2bfrow3_col1\" class=\"data row3 col1\" >17</td> \n",
       "        <td id=\"T_3e781fda_4d7b_11e9_b430_d7d45de3d2bfrow3_col2\" class=\"data row3 col2\" >47</td> \n",
       "        <td id=\"T_3e781fda_4d7b_11e9_b430_d7d45de3d2bfrow3_col3\" class=\"data row3 col3\" >109</td> \n",
       "    </tr>    <tr> \n",
       "        <th id=\"T_3e781fda_4d7b_11e9_b430_d7d45de3d2bflevel0_row4\" class=\"row_heading level0 row4\" >All</th> \n",
       "        <th id=\"T_3e781fda_4d7b_11e9_b430_d7d45de3d2bflevel1_row4\" class=\"row_heading level1 row4\" ></th> \n",
       "        <td id=\"T_3e781fda_4d7b_11e9_b430_d7d45de3d2bfrow4_col0\" class=\"data row4 col0\" >216</td> \n",
       "        <td id=\"T_3e781fda_4d7b_11e9_b430_d7d45de3d2bfrow4_col1\" class=\"data row4 col1\" >184</td> \n",
       "        <td id=\"T_3e781fda_4d7b_11e9_b430_d7d45de3d2bfrow4_col2\" class=\"data row4 col2\" >491</td> \n",
       "        <td id=\"T_3e781fda_4d7b_11e9_b430_d7d45de3d2bfrow4_col3\" class=\"data row4 col3\" >891</td> \n",
       "    </tr></tbody> \n",
       "</table> "
      ],
      "text/plain": [
       "<pandas.io.formats.style.Styler at 0x7fa61734c0f0>"
      ]
     },
     "execution_count": 23,
     "metadata": {},
     "output_type": "execute_result"
    }
   ],
   "source": [
    "pd.crosstab([df_train.Sex, df_train.Survived], df_train.Pclass, margins=True).style.background_gradient(cmap='autumn_r')"
   ]
  },
  {
   "cell_type": "code",
   "execution_count": 24,
   "metadata": {},
   "outputs": [
    {
     "data": {
      "text/html": [
       "<div>\n",
       "<style scoped>\n",
       "    .dataframe tbody tr th:only-of-type {\n",
       "        vertical-align: middle;\n",
       "    }\n",
       "\n",
       "    .dataframe tbody tr th {\n",
       "        vertical-align: top;\n",
       "    }\n",
       "\n",
       "    .dataframe thead th {\n",
       "        text-align: right;\n",
       "    }\n",
       "</style>\n",
       "<table border=\"1\" class=\"dataframe\">\n",
       "  <thead>\n",
       "    <tr style=\"text-align: right;\">\n",
       "      <th></th>\n",
       "      <th>Pclass</th>\n",
       "      <th>1</th>\n",
       "      <th>2</th>\n",
       "      <th>3</th>\n",
       "      <th>All</th>\n",
       "    </tr>\n",
       "    <tr>\n",
       "      <th>Sex</th>\n",
       "      <th>Survived</th>\n",
       "      <th></th>\n",
       "      <th></th>\n",
       "      <th></th>\n",
       "      <th></th>\n",
       "    </tr>\n",
       "  </thead>\n",
       "  <tbody>\n",
       "    <tr>\n",
       "      <th rowspan=\"2\" valign=\"top\">female</th>\n",
       "      <th>0</th>\n",
       "      <td>3</td>\n",
       "      <td>6</td>\n",
       "      <td>72</td>\n",
       "      <td>81</td>\n",
       "    </tr>\n",
       "    <tr>\n",
       "      <th>1</th>\n",
       "      <td>91</td>\n",
       "      <td>70</td>\n",
       "      <td>72</td>\n",
       "      <td>233</td>\n",
       "    </tr>\n",
       "    <tr>\n",
       "      <th rowspan=\"2\" valign=\"top\">male</th>\n",
       "      <th>0</th>\n",
       "      <td>77</td>\n",
       "      <td>91</td>\n",
       "      <td>300</td>\n",
       "      <td>468</td>\n",
       "    </tr>\n",
       "    <tr>\n",
       "      <th>1</th>\n",
       "      <td>45</td>\n",
       "      <td>17</td>\n",
       "      <td>47</td>\n",
       "      <td>109</td>\n",
       "    </tr>\n",
       "    <tr>\n",
       "      <th>All</th>\n",
       "      <th></th>\n",
       "      <td>216</td>\n",
       "      <td>184</td>\n",
       "      <td>491</td>\n",
       "      <td>891</td>\n",
       "    </tr>\n",
       "  </tbody>\n",
       "</table>\n",
       "</div>"
      ],
      "text/plain": [
       "Pclass             1    2    3  All\n",
       "Sex    Survived                    \n",
       "female 0           3    6   72   81\n",
       "       1          91   70   72  233\n",
       "male   0          77   91  300  468\n",
       "       1          45   17   47  109\n",
       "All              216  184  491  891"
      ]
     },
     "execution_count": 24,
     "metadata": {},
     "output_type": "execute_result"
    }
   ],
   "source": [
    "cl_sex_sur_per = pd.crosstab([df_train.Sex, df_train.Survived], df_train.Pclass, margins=True)\n",
    "cl_sex_sur_per"
   ]
  },
  {
   "cell_type": "code",
   "execution_count": 25,
   "metadata": {},
   "outputs": [
    {
     "data": {
      "image/png": "[encoded data removed]",
      "text/plain": [
       "<Figure size 437.975x360 with 1 Axes>"
      ]
     },
     "metadata": {
      "needs_background": "light"
     },
     "output_type": "display_data"
    }
   ],
   "source": [
    "sns.catplot('Pclass','Survived',hue='Sex', kind='point', data=df_train);"
   ]
  },
  {
   "cell_type": "markdown",
   "metadata": {},
   "source": [
    "It seems like almost women in Pclass 1 and Pclass 2 survived \n",
    "and almost men in Pclass 2 and Pclass 3 not survived."
   ]
  },
  {
   "cell_type": "markdown",
   "metadata": {},
   "source": [
    "**Lets examine the relationship between Survived and Embarked**"
   ]
  },
  {
   "cell_type": "code",
   "execution_count": 26,
   "metadata": {},
   "outputs": [
    {
     "data": {
      "image/png": "[encoded data removed]",
      "text/plain": [
       "<Figure size 1080x360 with 3 Axes>"
      ]
     },
     "metadata": {
      "needs_background": "light"
     },
     "output_type": "display_data"
    }
   ],
   "source": [
    "sns.catplot(x='Survived', col='Embarked', kind='count', data=df_train);"
   ]
  },
  {
   "cell_type": "code",
   "execution_count": 27,
   "metadata": {},
   "outputs": [
    {
     "data": {
      "image/png": "[encoded data removed]",
      "text/plain": [
       "<Figure size 360x360 with 1 Axes>"
      ]
     },
     "metadata": {
      "needs_background": "light"
     },
     "output_type": "display_data"
    }
   ],
   "source": [
    "sns.catplot('Embarked','Survived', kind='point', data=df_train);"
   ]
  },
  {
   "cell_type": "markdown",
   "metadata": {},
   "source": [
    "**Embarked and Sex**"
   ]
  },
  {
   "cell_type": "code",
   "execution_count": 28,
   "metadata": {},
   "outputs": [
    {
     "data": {
      "text/plain": [
       "<seaborn.axisgrid.FacetGrid at 0x7fa6171a8dd8>"
      ]
     },
     "execution_count": 28,
     "metadata": {},
     "output_type": "execute_result"
    },
    {
     "data": {
      "image/png": "[encoded data removed]",
      "text/plain": [
       "<Figure size 1080x360 with 3 Axes>"
      ]
     },
     "metadata": {
      "needs_background": "light"
     },
     "output_type": "display_data"
    }
   ],
   "source": [
    "sns.catplot(x='Sex',y='Survived', col='Embarked', kind='bar', data=df_train)"
   ]
  },
  {
   "cell_type": "code",
   "execution_count": 29,
   "metadata": {},
   "outputs": [
    {
     "data": {
      "image/png": "[encoded data removed]",
      "text/plain": [
       "<Figure size 437.975x360 with 1 Axes>"
      ]
     },
     "metadata": {
      "needs_background": "light"
     },
     "output_type": "display_data"
    }
   ],
   "source": [
    "sns.catplot('Embarked','Survived', hue= 'Sex', kind='point', data=df_train);"
   ]
  },
  {
   "cell_type": "markdown",
   "metadata": {},
   "source": [
    "**Embarked, Pclass and Sex :**"
   ]
  },
  {
   "cell_type": "code",
   "execution_count": 30,
   "metadata": {},
   "outputs": [
    {
     "data": {
      "text/plain": [
       "<seaborn.axisgrid.FacetGrid at 0x7fa617360358>"
      ]
     },
     "execution_count": 30,
     "metadata": {},
     "output_type": "execute_result"
    },
    {
     "data": {
      "image/png": "[encoded data removed]",
      "text/plain": [
       "<Figure size 1157.97x360 with 3 Axes>"
      ]
     },
     "metadata": {
      "needs_background": "light"
     },
     "output_type": "display_data"
    }
   ],
   "source": [
    "sns.catplot('Embarked','Survived', col='Pclass', hue= 'Sex', kind='point', data=df_train)"
   ]
  },
  {
   "cell_type": "markdown",
   "metadata": {},
   "source": [
    "* All women of Pclass 2 that embarked in C and Q survived, also nearly all women of Pclass 1 survived.\n",
    "\n",
    "* All men of Pclass 1 and 2 embarked in Q have not survived, survival rate for men in Pclass 2 and 3 is always below 0.2\n",
    "* For the remaining men in Pclass 1 that embarked in S and Q, survival rate is approx. 0.4"
   ]
  },
  {
   "cell_type": "code",
   "execution_count": 31,
   "metadata": {},
   "outputs": [
    {
     "data": {
      "text/html": [
       "<div>\n",
       "<style scoped>\n",
       "    .dataframe tbody tr th:only-of-type {\n",
       "        vertical-align: middle;\n",
       "    }\n",
       "\n",
       "    .dataframe tbody tr th {\n",
       "        vertical-align: top;\n",
       "    }\n",
       "\n",
       "    .dataframe thead tr th {\n",
       "        text-align: left;\n",
       "    }\n",
       "\n",
       "    .dataframe thead tr:last-of-type th {\n",
       "        text-align: right;\n",
       "    }\n",
       "</style>\n",
       "<table border=\"1\" class=\"dataframe\">\n",
       "  <thead>\n",
       "    <tr>\n",
       "      <th>Sex</th>\n",
       "      <th colspan=\"9\" halign=\"left\">female</th>\n",
       "      <th colspan=\"9\" halign=\"left\">male</th>\n",
       "      <th>All</th>\n",
       "    </tr>\n",
       "    <tr>\n",
       "      <th>Pclass</th>\n",
       "      <th colspan=\"3\" halign=\"left\">1</th>\n",
       "      <th colspan=\"3\" halign=\"left\">2</th>\n",
       "      <th colspan=\"3\" halign=\"left\">3</th>\n",
       "      <th colspan=\"3\" halign=\"left\">1</th>\n",
       "      <th colspan=\"3\" halign=\"left\">2</th>\n",
       "      <th colspan=\"3\" halign=\"left\">3</th>\n",
       "      <th></th>\n",
       "    </tr>\n",
       "    <tr>\n",
       "      <th>Embarked</th>\n",
       "      <th>C</th>\n",
       "      <th>Q</th>\n",
       "      <th>S</th>\n",
       "      <th>C</th>\n",
       "      <th>Q</th>\n",
       "      <th>S</th>\n",
       "      <th>C</th>\n",
       "      <th>Q</th>\n",
       "      <th>S</th>\n",
       "      <th>C</th>\n",
       "      <th>Q</th>\n",
       "      <th>S</th>\n",
       "      <th>C</th>\n",
       "      <th>Q</th>\n",
       "      <th>S</th>\n",
       "      <th>C</th>\n",
       "      <th>Q</th>\n",
       "      <th>S</th>\n",
       "      <th></th>\n",
       "    </tr>\n",
       "    <tr>\n",
       "      <th>Survived</th>\n",
       "      <th></th>\n",
       "      <th></th>\n",
       "      <th></th>\n",
       "      <th></th>\n",
       "      <th></th>\n",
       "      <th></th>\n",
       "      <th></th>\n",
       "      <th></th>\n",
       "      <th></th>\n",
       "      <th></th>\n",
       "      <th></th>\n",
       "      <th></th>\n",
       "      <th></th>\n",
       "      <th></th>\n",
       "      <th></th>\n",
       "      <th></th>\n",
       "      <th></th>\n",
       "      <th></th>\n",
       "      <th></th>\n",
       "    </tr>\n",
       "  </thead>\n",
       "  <tbody>\n",
       "    <tr>\n",
       "      <th>0</th>\n",
       "      <td>1</td>\n",
       "      <td>0</td>\n",
       "      <td>2</td>\n",
       "      <td>0</td>\n",
       "      <td>0</td>\n",
       "      <td>6</td>\n",
       "      <td>8</td>\n",
       "      <td>9</td>\n",
       "      <td>55</td>\n",
       "      <td>25</td>\n",
       "      <td>1</td>\n",
       "      <td>51</td>\n",
       "      <td>8</td>\n",
       "      <td>1</td>\n",
       "      <td>82</td>\n",
       "      <td>33</td>\n",
       "      <td>36</td>\n",
       "      <td>231</td>\n",
       "      <td>549</td>\n",
       "    </tr>\n",
       "    <tr>\n",
       "      <th>1</th>\n",
       "      <td>42</td>\n",
       "      <td>1</td>\n",
       "      <td>46</td>\n",
       "      <td>7</td>\n",
       "      <td>2</td>\n",
       "      <td>61</td>\n",
       "      <td>15</td>\n",
       "      <td>24</td>\n",
       "      <td>33</td>\n",
       "      <td>17</td>\n",
       "      <td>0</td>\n",
       "      <td>28</td>\n",
       "      <td>2</td>\n",
       "      <td>0</td>\n",
       "      <td>15</td>\n",
       "      <td>10</td>\n",
       "      <td>3</td>\n",
       "      <td>34</td>\n",
       "      <td>340</td>\n",
       "    </tr>\n",
       "    <tr>\n",
       "      <th>All</th>\n",
       "      <td>43</td>\n",
       "      <td>1</td>\n",
       "      <td>48</td>\n",
       "      <td>7</td>\n",
       "      <td>2</td>\n",
       "      <td>67</td>\n",
       "      <td>23</td>\n",
       "      <td>33</td>\n",
       "      <td>88</td>\n",
       "      <td>42</td>\n",
       "      <td>1</td>\n",
       "      <td>79</td>\n",
       "      <td>10</td>\n",
       "      <td>1</td>\n",
       "      <td>97</td>\n",
       "      <td>43</td>\n",
       "      <td>39</td>\n",
       "      <td>265</td>\n",
       "      <td>889</td>\n",
       "    </tr>\n",
       "  </tbody>\n",
       "</table>\n",
       "</div>"
      ],
      "text/plain": [
       "Sex      female                              male                            \\\n",
       "Pclass        1         2          3            1          2          3       \n",
       "Embarked      C  Q   S  C  Q   S   C   Q   S    C  Q   S   C  Q   S   C   Q   \n",
       "Survived                                                                      \n",
       "0             1  0   2  0  0   6   8   9  55   25  1  51   8  1  82  33  36   \n",
       "1            42  1  46  7  2  61  15  24  33   17  0  28   2  0  15  10   3   \n",
       "All          43  1  48  7  2  67  23  33  88   42  1  79  10  1  97  43  39   \n",
       "\n",
       "Sex            All  \n",
       "Pclass              \n",
       "Embarked    S       \n",
       "Survived            \n",
       "0         231  549  \n",
       "1          34  340  \n",
       "All       265  889  "
      ]
     },
     "execution_count": 31,
     "metadata": {},
     "output_type": "execute_result"
    }
   ],
   "source": [
    "pd.crosstab([df_train.Survived], [df_train.Sex, df_train.Pclass, df_train.Embarked], margins=True)"
   ]
  },
  {
   "cell_type": "markdown",
   "metadata": {},
   "source": [
    "Let's look at the survivors based on their age and we will slowly \n",
    "add the other factors we have studied so far.\n",
    "\n",
    "First we 'll create 8 bins with age."
   ]
  },
  {
   "cell_type": "code",
   "execution_count": 32,
   "metadata": {},
   "outputs": [],
   "source": [
    "for df in [df_train, df_test]:\n",
    "    df['Age_bin']=np.nan\n",
    "    for i in range(8,0,-1):\n",
    "        df.loc[ df['Age'] <= i*10, 'Age_bin'] = i"
   ]
  },
  {
   "cell_type": "code",
   "execution_count": 33,
   "metadata": {},
   "outputs": [
    {
     "data": {
      "text/html": [
       "<div>\n",
       "<style scoped>\n",
       "    .dataframe tbody tr th:only-of-type {\n",
       "        vertical-align: middle;\n",
       "    }\n",
       "\n",
       "    .dataframe tbody tr th {\n",
       "        vertical-align: top;\n",
       "    }\n",
       "\n",
       "    .dataframe thead th {\n",
       "        text-align: right;\n",
       "    }\n",
       "</style>\n",
       "<table border=\"1\" class=\"dataframe\">\n",
       "  <thead>\n",
       "    <tr style=\"text-align: right;\">\n",
       "      <th></th>\n",
       "      <th>Age</th>\n",
       "      <th>Age_bin</th>\n",
       "    </tr>\n",
       "  </thead>\n",
       "  <tbody>\n",
       "    <tr>\n",
       "      <th>0</th>\n",
       "      <td>22.0</td>\n",
       "      <td>3.0</td>\n",
       "    </tr>\n",
       "    <tr>\n",
       "      <th>1</th>\n",
       "      <td>38.0</td>\n",
       "      <td>4.0</td>\n",
       "    </tr>\n",
       "    <tr>\n",
       "      <th>2</th>\n",
       "      <td>26.0</td>\n",
       "      <td>3.0</td>\n",
       "    </tr>\n",
       "    <tr>\n",
       "      <th>3</th>\n",
       "      <td>35.0</td>\n",
       "      <td>4.0</td>\n",
       "    </tr>\n",
       "    <tr>\n",
       "      <th>4</th>\n",
       "      <td>35.0</td>\n",
       "      <td>4.0</td>\n",
       "    </tr>\n",
       "    <tr>\n",
       "      <th>5</th>\n",
       "      <td>NaN</td>\n",
       "      <td>NaN</td>\n",
       "    </tr>\n",
       "    <tr>\n",
       "      <th>6</th>\n",
       "      <td>54.0</td>\n",
       "      <td>6.0</td>\n",
       "    </tr>\n",
       "    <tr>\n",
       "      <th>7</th>\n",
       "      <td>2.0</td>\n",
       "      <td>1.0</td>\n",
       "    </tr>\n",
       "    <tr>\n",
       "      <th>8</th>\n",
       "      <td>27.0</td>\n",
       "      <td>3.0</td>\n",
       "    </tr>\n",
       "    <tr>\n",
       "      <th>9</th>\n",
       "      <td>14.0</td>\n",
       "      <td>2.0</td>\n",
       "    </tr>\n",
       "    <tr>\n",
       "      <th>10</th>\n",
       "      <td>4.0</td>\n",
       "      <td>1.0</td>\n",
       "    </tr>\n",
       "    <tr>\n",
       "      <th>11</th>\n",
       "      <td>58.0</td>\n",
       "      <td>6.0</td>\n",
       "    </tr>\n",
       "    <tr>\n",
       "      <th>12</th>\n",
       "      <td>20.0</td>\n",
       "      <td>2.0</td>\n",
       "    </tr>\n",
       "    <tr>\n",
       "      <th>13</th>\n",
       "      <td>39.0</td>\n",
       "      <td>4.0</td>\n",
       "    </tr>\n",
       "    <tr>\n",
       "      <th>14</th>\n",
       "      <td>14.0</td>\n",
       "      <td>2.0</td>\n",
       "    </tr>\n",
       "    <tr>\n",
       "      <th>15</th>\n",
       "      <td>55.0</td>\n",
       "      <td>6.0</td>\n",
       "    </tr>\n",
       "    <tr>\n",
       "      <th>16</th>\n",
       "      <td>2.0</td>\n",
       "      <td>1.0</td>\n",
       "    </tr>\n",
       "    <tr>\n",
       "      <th>17</th>\n",
       "      <td>NaN</td>\n",
       "      <td>NaN</td>\n",
       "    </tr>\n",
       "    <tr>\n",
       "      <th>18</th>\n",
       "      <td>31.0</td>\n",
       "      <td>4.0</td>\n",
       "    </tr>\n",
       "    <tr>\n",
       "      <th>19</th>\n",
       "      <td>NaN</td>\n",
       "      <td>NaN</td>\n",
       "    </tr>\n",
       "  </tbody>\n",
       "</table>\n",
       "</div>"
      ],
      "text/plain": [
       "     Age  Age_bin\n",
       "0   22.0      3.0\n",
       "1   38.0      4.0\n",
       "2   26.0      3.0\n",
       "3   35.0      4.0\n",
       "4   35.0      4.0\n",
       "5    NaN      NaN\n",
       "6   54.0      6.0\n",
       "7    2.0      1.0\n",
       "8   27.0      3.0\n",
       "9   14.0      2.0\n",
       "10   4.0      1.0\n",
       "11  58.0      6.0\n",
       "12  20.0      2.0\n",
       "13  39.0      4.0\n",
       "14  14.0      2.0\n",
       "15  55.0      6.0\n",
       "16   2.0      1.0\n",
       "17   NaN      NaN\n",
       "18  31.0      4.0\n",
       "19   NaN      NaN"
      ]
     },
     "execution_count": 33,
     "metadata": {},
     "output_type": "execute_result"
    }
   ],
   "source": [
    "df_train[['Age', 'Age_bin']].head(20)"
   ]
  },
  {
   "cell_type": "code",
   "execution_count": 34,
   "metadata": {},
   "outputs": [
    {
     "data": {
      "text/plain": [
       "<seaborn.axisgrid.FacetGrid at 0x7fa617344278>"
      ]
     },
     "execution_count": 34,
     "metadata": {},
     "output_type": "execute_result"
    },
    {
     "data": {
      "image/png": "[encoded data removed]",
      "text/plain": [
       "<Figure size 360x360 with 1 Axes>"
      ]
     },
     "metadata": {
      "needs_background": "light"
     },
     "output_type": "display_data"
    }
   ],
   "source": [
    "sns.catplot(x='Age_bin',y='Survived',  kind='bar', data=df_train)"
   ]
  },
  {
   "cell_type": "code",
   "execution_count": 35,
   "metadata": {},
   "outputs": [
    {
     "data": {
      "text/plain": [
       "<seaborn.axisgrid.FacetGrid at 0x7fa6170ab908>"
      ]
     },
     "execution_count": 35,
     "metadata": {},
     "output_type": "execute_result"
    },
    {
     "data": {
      "image/png": "[encoded data removed]",
      "text/plain": [
       "<Figure size 720x360 with 2 Axes>"
      ]
     },
     "metadata": {
      "needs_background": "light"
     },
     "output_type": "display_data"
    }
   ],
   "source": [
    "sns.catplot(x='Age_bin',y='Survived',col='Sex',  kind='bar', data=df_train)"
   ]
  },
  {
   "cell_type": "code",
   "execution_count": 36,
   "metadata": {},
   "outputs": [
    {
     "data": {
      "text/plain": [
       "<seaborn.axisgrid.FacetGrid at 0x7fa617003668>"
      ]
     },
     "execution_count": 36,
     "metadata": {},
     "output_type": "execute_result"
    },
    {
     "data": {
      "image/png": "[encoded data removed]",
      "text/plain": [
       "<Figure size 437.975x360 with 1 Axes>"
      ]
     },
     "metadata": {
      "needs_background": "light"
     },
     "output_type": "display_data"
    }
   ],
   "source": [
    "sns.catplot('Age_bin','Survived',hue='Sex',kind='point',data=df_train)"
   ]
  },
  {
   "cell_type": "code",
   "execution_count": 37,
   "metadata": {},
   "outputs": [
    {
     "data": {
      "image/png": "[encoded data removed]",
      "text/plain": [
       "<Figure size 1080x720 with 6 Axes>"
      ]
     },
     "metadata": {
      "needs_background": "light"
     },
     "output_type": "display_data"
    }
   ],
   "source": [
    "sns.catplot('Age_bin','Survived', col='Pclass', row = 'Sex', kind='point', data=df_train);"
   ]
  },
  {
   "cell_type": "code",
   "execution_count": 38,
   "metadata": {},
   "outputs": [
    {
     "data": {
      "text/html": [
       "<style  type=\"text/css\" >\n",
       "    #T_427ce250_4d7b_11e9_b430_d7d45de3d2bfrow0_col0 {\n",
       "            background-color:  #ffaa00;\n",
       "        }    #T_427ce250_4d7b_11e9_b430_d7d45de3d2bfrow0_col1 {\n",
       "            background-color:  #ffff00;\n",
       "        }    #T_427ce250_4d7b_11e9_b430_d7d45de3d2bfrow0_col2 {\n",
       "            background-color:  #ffea00;\n",
       "        }    #T_427ce250_4d7b_11e9_b430_d7d45de3d2bfrow0_col3 {\n",
       "            background-color:  #ffff00;\n",
       "        }    #T_427ce250_4d7b_11e9_b430_d7d45de3d2bfrow0_col4 {\n",
       "            background-color:  #ffff00;\n",
       "        }    #T_427ce250_4d7b_11e9_b430_d7d45de3d2bfrow0_col5 {\n",
       "            background-color:  #ffee00;\n",
       "        }    #T_427ce250_4d7b_11e9_b430_d7d45de3d2bfrow0_col6 {\n",
       "            background-color:  #ffff00;\n",
       "        }    #T_427ce250_4d7b_11e9_b430_d7d45de3d2bfrow0_col7 {\n",
       "            background-color:  #fff300;\n",
       "        }    #T_427ce250_4d7b_11e9_b430_d7d45de3d2bfrow0_col8 {\n",
       "            background-color:  #fffb00;\n",
       "        }    #T_427ce250_4d7b_11e9_b430_d7d45de3d2bfrow0_col9 {\n",
       "            background-color:  #ffff00;\n",
       "        }    #T_427ce250_4d7b_11e9_b430_d7d45de3d2bfrow0_col10 {\n",
       "            background-color:  #ffff00;\n",
       "        }    #T_427ce250_4d7b_11e9_b430_d7d45de3d2bfrow0_col11 {\n",
       "            background-color:  #fff700;\n",
       "        }    #T_427ce250_4d7b_11e9_b430_d7d45de3d2bfrow0_col12 {\n",
       "            background-color:  #ffff00;\n",
       "        }    #T_427ce250_4d7b_11e9_b430_d7d45de3d2bfrow0_col13 {\n",
       "            background-color:  #ffff00;\n",
       "        }    #T_427ce250_4d7b_11e9_b430_d7d45de3d2bfrow0_col14 {\n",
       "            background-color:  #ffbb00;\n",
       "        }    #T_427ce250_4d7b_11e9_b430_d7d45de3d2bfrow0_col15 {\n",
       "            background-color:  #ffff00;\n",
       "        }    #T_427ce250_4d7b_11e9_b430_d7d45de3d2bfrow0_col16 {\n",
       "            background-color:  #ffea00;\n",
       "        }    #T_427ce250_4d7b_11e9_b430_d7d45de3d2bfrow0_col17 {\n",
       "            background-color:  #ffff00;\n",
       "        }    #T_427ce250_4d7b_11e9_b430_d7d45de3d2bfrow0_col18 {\n",
       "            background-color:  #ffff00;\n",
       "        }    #T_427ce250_4d7b_11e9_b430_d7d45de3d2bfrow0_col19 {\n",
       "            background-color:  #ffff00;\n",
       "        }    #T_427ce250_4d7b_11e9_b430_d7d45de3d2bfrow0_col20 {\n",
       "            background-color:  #ffff00;\n",
       "        }    #T_427ce250_4d7b_11e9_b430_d7d45de3d2bfrow0_col21 {\n",
       "            background-color:  #ffff00;\n",
       "        }    #T_427ce250_4d7b_11e9_b430_d7d45de3d2bfrow0_col22 {\n",
       "            background-color:  #ffff00;\n",
       "        }    #T_427ce250_4d7b_11e9_b430_d7d45de3d2bfrow0_col23 {\n",
       "            background-color:  #ffff00;\n",
       "        }    #T_427ce250_4d7b_11e9_b430_d7d45de3d2bfrow1_col0 {\n",
       "            background-color:  #ffff00;\n",
       "        }    #T_427ce250_4d7b_11e9_b430_d7d45de3d2bfrow1_col1 {\n",
       "            background-color:  #ff8700;\n",
       "        }    #T_427ce250_4d7b_11e9_b430_d7d45de3d2bfrow1_col2 {\n",
       "            background-color:  #ffea00;\n",
       "        }    #T_427ce250_4d7b_11e9_b430_d7d45de3d2bfrow1_col3 {\n",
       "            background-color:  #ff4700;\n",
       "        }    #T_427ce250_4d7b_11e9_b430_d7d45de3d2bfrow1_col4 {\n",
       "            background-color:  #ff8e00;\n",
       "        }    #T_427ce250_4d7b_11e9_b430_d7d45de3d2bfrow1_col5 {\n",
       "            background-color:  #ffea00;\n",
       "        }    #T_427ce250_4d7b_11e9_b430_d7d45de3d2bfrow1_col6 {\n",
       "            background-color:  #ff8300;\n",
       "        }    #T_427ce250_4d7b_11e9_b430_d7d45de3d2bfrow1_col7 {\n",
       "            background-color:  #ff9700;\n",
       "        }    #T_427ce250_4d7b_11e9_b430_d7d45de3d2bfrow1_col8 {\n",
       "            background-color:  #fffb00;\n",
       "        }    #T_427ce250_4d7b_11e9_b430_d7d45de3d2bfrow1_col9 {\n",
       "            background-color:  #ff8200;\n",
       "        }    #T_427ce250_4d7b_11e9_b430_d7d45de3d2bfrow1_col10 {\n",
       "            background-color:  #ffa400;\n",
       "        }    #T_427ce250_4d7b_11e9_b430_d7d45de3d2bfrow1_col11 {\n",
       "            background-color:  #ffff00;\n",
       "        }    #T_427ce250_4d7b_11e9_b430_d7d45de3d2bfrow1_col12 {\n",
       "            background-color:  #ffb100;\n",
       "        }    #T_427ce250_4d7b_11e9_b430_d7d45de3d2bfrow1_col13 {\n",
       "            background-color:  #ff8e00;\n",
       "        }    #T_427ce250_4d7b_11e9_b430_d7d45de3d2bfrow1_col14 {\n",
       "            background-color:  #ffff00;\n",
       "        }    #T_427ce250_4d7b_11e9_b430_d7d45de3d2bfrow1_col15 {\n",
       "            background-color:  #ff8f00;\n",
       "        }    #T_427ce250_4d7b_11e9_b430_d7d45de3d2bfrow1_col16 {\n",
       "            background-color:  #ffd500;\n",
       "        }    #T_427ce250_4d7b_11e9_b430_d7d45de3d2bfrow1_col17 {\n",
       "            background-color:  #ffff00;\n",
       "        }    #T_427ce250_4d7b_11e9_b430_d7d45de3d2bfrow1_col18 {\n",
       "            background-color:  #ffd100;\n",
       "        }    #T_427ce250_4d7b_11e9_b430_d7d45de3d2bfrow1_col19 {\n",
       "            background-color:  #ffff00;\n",
       "        }    #T_427ce250_4d7b_11e9_b430_d7d45de3d2bfrow1_col20 {\n",
       "            background-color:  #ffaa00;\n",
       "        }    #T_427ce250_4d7b_11e9_b430_d7d45de3d2bfrow1_col21 {\n",
       "            background-color:  #ffff00;\n",
       "        }    #T_427ce250_4d7b_11e9_b430_d7d45de3d2bfrow1_col22 {\n",
       "            background-color:  #ffff00;\n",
       "        }    #T_427ce250_4d7b_11e9_b430_d7d45de3d2bfrow1_col23 {\n",
       "            background-color:  #ffcb00;\n",
       "        }    #T_427ce250_4d7b_11e9_b430_d7d45de3d2bfrow2_col0 {\n",
       "            background-color:  #ffff00;\n",
       "        }    #T_427ce250_4d7b_11e9_b430_d7d45de3d2bfrow2_col1 {\n",
       "            background-color:  #ffff00;\n",
       "        }    #T_427ce250_4d7b_11e9_b430_d7d45de3d2bfrow2_col2 {\n",
       "            background-color:  #ffd500;\n",
       "        }    #T_427ce250_4d7b_11e9_b430_d7d45de3d2bfrow2_col3 {\n",
       "            background-color:  #ffd500;\n",
       "        }    #T_427ce250_4d7b_11e9_b430_d7d45de3d2bfrow2_col4 {\n",
       "            background-color:  #ff7f00;\n",
       "        }    #T_427ce250_4d7b_11e9_b430_d7d45de3d2bfrow2_col5 {\n",
       "            background-color:  #ff7100;\n",
       "        }    #T_427ce250_4d7b_11e9_b430_d7d45de3d2bfrow2_col6 {\n",
       "            background-color:  #ffc400;\n",
       "        }    #T_427ce250_4d7b_11e9_b430_d7d45de3d2bfrow2_col7 {\n",
       "            background-color:  #ff7500;\n",
       "        }    #T_427ce250_4d7b_11e9_b430_d7d45de3d2bfrow2_col8 {\n",
       "            background-color:  #ff6600;\n",
       "        }    #T_427ce250_4d7b_11e9_b430_d7d45de3d2bfrow2_col9 {\n",
       "            background-color:  #ffc100;\n",
       "        }    #T_427ce250_4d7b_11e9_b430_d7d45de3d2bfrow2_col10 {\n",
       "            background-color:  #ff7900;\n",
       "        }    #T_427ce250_4d7b_11e9_b430_d7d45de3d2bfrow2_col11 {\n",
       "            background-color:  #ff5e00;\n",
       "        }    #T_427ce250_4d7b_11e9_b430_d7d45de3d2bfrow2_col12 {\n",
       "            background-color:  #ff9c00;\n",
       "        }    #T_427ce250_4d7b_11e9_b430_d7d45de3d2bfrow2_col13 {\n",
       "            background-color:  #ff9c00;\n",
       "        }    #T_427ce250_4d7b_11e9_b430_d7d45de3d2bfrow2_col14 {\n",
       "            background-color:  #ff5500;\n",
       "        }    #T_427ce250_4d7b_11e9_b430_d7d45de3d2bfrow2_col15 {\n",
       "            background-color:  #ff9900;\n",
       "        }    #T_427ce250_4d7b_11e9_b430_d7d45de3d2bfrow2_col16 {\n",
       "            background-color:  #ff3f00;\n",
       "        }    #T_427ce250_4d7b_11e9_b430_d7d45de3d2bfrow2_col17 {\n",
       "            background-color:  #ff0000;\n",
       "        }    #T_427ce250_4d7b_11e9_b430_d7d45de3d2bfrow2_col18 {\n",
       "            background-color:  #ff2e00;\n",
       "        }    #T_427ce250_4d7b_11e9_b430_d7d45de3d2bfrow2_col19 {\n",
       "            background-color:  #ff5500;\n",
       "        }    #T_427ce250_4d7b_11e9_b430_d7d45de3d2bfrow2_col20 {\n",
       "            background-color:  #ff5500;\n",
       "        }    #T_427ce250_4d7b_11e9_b430_d7d45de3d2bfrow2_col21 {\n",
       "            background-color:  #ff5500;\n",
       "        }    #T_427ce250_4d7b_11e9_b430_d7d45de3d2bfrow2_col22 {\n",
       "            background-color:  #ff0000;\n",
       "        }    #T_427ce250_4d7b_11e9_b430_d7d45de3d2bfrow2_col23 {\n",
       "            background-color:  #ff8b00;\n",
       "        }    #T_427ce250_4d7b_11e9_b430_d7d45de3d2bfrow3_col0 {\n",
       "            background-color:  #ff5500;\n",
       "        }    #T_427ce250_4d7b_11e9_b430_d7d45de3d2bfrow3_col1 {\n",
       "            background-color:  #ff7800;\n",
       "        }    #T_427ce250_4d7b_11e9_b430_d7d45de3d2bfrow3_col2 {\n",
       "            background-color:  #ffff00;\n",
       "        }    #T_427ce250_4d7b_11e9_b430_d7d45de3d2bfrow3_col3 {\n",
       "            background-color:  #ffe300;\n",
       "        }    #T_427ce250_4d7b_11e9_b430_d7d45de3d2bfrow3_col4 {\n",
       "            background-color:  #fff100;\n",
       "        }    #T_427ce250_4d7b_11e9_b430_d7d45de3d2bfrow3_col5 {\n",
       "            background-color:  #ffff00;\n",
       "        }    #T_427ce250_4d7b_11e9_b430_d7d45de3d2bfrow3_col6 {\n",
       "            background-color:  #ffcb00;\n",
       "        }    #T_427ce250_4d7b_11e9_b430_d7d45de3d2bfrow3_col7 {\n",
       "            background-color:  #ffff00;\n",
       "        }    #T_427ce250_4d7b_11e9_b430_d7d45de3d2bfrow3_col8 {\n",
       "            background-color:  #ffff00;\n",
       "        }    #T_427ce250_4d7b_11e9_b430_d7d45de3d2bfrow3_col9 {\n",
       "            background-color:  #ffbc00;\n",
       "        }    #T_427ce250_4d7b_11e9_b430_d7d45de3d2bfrow3_col10 {\n",
       "            background-color:  #fff300;\n",
       "        }    #T_427ce250_4d7b_11e9_b430_d7d45de3d2bfrow3_col11 {\n",
       "            background-color:  #fffb00;\n",
       "        }    #T_427ce250_4d7b_11e9_b430_d7d45de3d2bfrow3_col12 {\n",
       "            background-color:  #ffc700;\n",
       "        }    #T_427ce250_4d7b_11e9_b430_d7d45de3d2bfrow3_col13 {\n",
       "            background-color:  #ffff00;\n",
       "        }    #T_427ce250_4d7b_11e9_b430_d7d45de3d2bfrow3_col14 {\n",
       "            background-color:  #ffee00;\n",
       "        }    #T_427ce250_4d7b_11e9_b430_d7d45de3d2bfrow3_col15 {\n",
       "            background-color:  #ffd700;\n",
       "        }    #T_427ce250_4d7b_11e9_b430_d7d45de3d2bfrow3_col16 {\n",
       "            background-color:  #ffff00;\n",
       "        }    #T_427ce250_4d7b_11e9_b430_d7d45de3d2bfrow3_col17 {\n",
       "            background-color:  #ffff00;\n",
       "        }    #T_427ce250_4d7b_11e9_b430_d7d45de3d2bfrow3_col18 {\n",
       "            background-color:  #ffff00;\n",
       "        }    #T_427ce250_4d7b_11e9_b430_d7d45de3d2bfrow3_col19 {\n",
       "            background-color:  #ffaa00;\n",
       "        }    #T_427ce250_4d7b_11e9_b430_d7d45de3d2bfrow3_col20 {\n",
       "            background-color:  #ffff00;\n",
       "        }    #T_427ce250_4d7b_11e9_b430_d7d45de3d2bfrow3_col21 {\n",
       "            background-color:  #ffaa00;\n",
       "        }    #T_427ce250_4d7b_11e9_b430_d7d45de3d2bfrow3_col22 {\n",
       "            background-color:  #ffff00;\n",
       "        }    #T_427ce250_4d7b_11e9_b430_d7d45de3d2bfrow3_col23 {\n",
       "            background-color:  #fff400;\n",
       "        }    #T_427ce250_4d7b_11e9_b430_d7d45de3d2bfrow4_col0 {\n",
       "            background-color:  #ff0000;\n",
       "        }    #T_427ce250_4d7b_11e9_b430_d7d45de3d2bfrow4_col1 {\n",
       "            background-color:  #ff0000;\n",
       "        }    #T_427ce250_4d7b_11e9_b430_d7d45de3d2bfrow4_col2 {\n",
       "            background-color:  #ff0000;\n",
       "        }    #T_427ce250_4d7b_11e9_b430_d7d45de3d2bfrow4_col3 {\n",
       "            background-color:  #ff0000;\n",
       "        }    #T_427ce250_4d7b_11e9_b430_d7d45de3d2bfrow4_col4 {\n",
       "            background-color:  #ff0000;\n",
       "        }    #T_427ce250_4d7b_11e9_b430_d7d45de3d2bfrow4_col5 {\n",
       "            background-color:  #ff0000;\n",
       "        }    #T_427ce250_4d7b_11e9_b430_d7d45de3d2bfrow4_col6 {\n",
       "            background-color:  #ff0000;\n",
       "        }    #T_427ce250_4d7b_11e9_b430_d7d45de3d2bfrow4_col7 {\n",
       "            background-color:  #ff0000;\n",
       "        }    #T_427ce250_4d7b_11e9_b430_d7d45de3d2bfrow4_col8 {\n",
       "            background-color:  #ff0000;\n",
       "        }    #T_427ce250_4d7b_11e9_b430_d7d45de3d2bfrow4_col9 {\n",
       "            background-color:  #ff0000;\n",
       "        }    #T_427ce250_4d7b_11e9_b430_d7d45de3d2bfrow4_col10 {\n",
       "            background-color:  #ff0000;\n",
       "        }    #T_427ce250_4d7b_11e9_b430_d7d45de3d2bfrow4_col11 {\n",
       "            background-color:  #ff0000;\n",
       "        }    #T_427ce250_4d7b_11e9_b430_d7d45de3d2bfrow4_col12 {\n",
       "            background-color:  #ff0000;\n",
       "        }    #T_427ce250_4d7b_11e9_b430_d7d45de3d2bfrow4_col13 {\n",
       "            background-color:  #ff0000;\n",
       "        }    #T_427ce250_4d7b_11e9_b430_d7d45de3d2bfrow4_col14 {\n",
       "            background-color:  #ff0000;\n",
       "        }    #T_427ce250_4d7b_11e9_b430_d7d45de3d2bfrow4_col15 {\n",
       "            background-color:  #ff0000;\n",
       "        }    #T_427ce250_4d7b_11e9_b430_d7d45de3d2bfrow4_col16 {\n",
       "            background-color:  #ff0000;\n",
       "        }    #T_427ce250_4d7b_11e9_b430_d7d45de3d2bfrow4_col17 {\n",
       "            background-color:  #ff0000;\n",
       "        }    #T_427ce250_4d7b_11e9_b430_d7d45de3d2bfrow4_col18 {\n",
       "            background-color:  #ff0000;\n",
       "        }    #T_427ce250_4d7b_11e9_b430_d7d45de3d2bfrow4_col19 {\n",
       "            background-color:  #ff0000;\n",
       "        }    #T_427ce250_4d7b_11e9_b430_d7d45de3d2bfrow4_col20 {\n",
       "            background-color:  #ff0000;\n",
       "        }    #T_427ce250_4d7b_11e9_b430_d7d45de3d2bfrow4_col21 {\n",
       "            background-color:  #ff0000;\n",
       "        }    #T_427ce250_4d7b_11e9_b430_d7d45de3d2bfrow4_col22 {\n",
       "            background-color:  #ff0000;\n",
       "        }    #T_427ce250_4d7b_11e9_b430_d7d45de3d2bfrow4_col23 {\n",
       "            background-color:  #ff0000;\n",
       "        }</style>  \n",
       "<table id=\"T_427ce250_4d7b_11e9_b430_d7d45de3d2bf\" > \n",
       "<thead>    <tr> \n",
       "        <th class=\"blank\" ></th> \n",
       "        <th class=\"index_name level0\" >Age_bin</th> \n",
       "        <th class=\"col_heading level0 col0\" colspan=3>1.0</th> \n",
       "        <th class=\"col_heading level0 col3\" colspan=3>2.0</th> \n",
       "        <th class=\"col_heading level0 col6\" colspan=3>3.0</th> \n",
       "        <th class=\"col_heading level0 col9\" colspan=3>4.0</th> \n",
       "        <th class=\"col_heading level0 col12\" colspan=3>5.0</th> \n",
       "        <th class=\"col_heading level0 col15\" colspan=3>6.0</th> \n",
       "        <th class=\"col_heading level0 col18\" colspan=3>7.0</th> \n",
       "        <th class=\"col_heading level0 col21\" colspan=2>8.0</th> \n",
       "        <th class=\"col_heading level0 col23\" >All</th> \n",
       "    </tr>    <tr> \n",
       "        <th class=\"blank\" ></th> \n",
       "        <th class=\"index_name level1\" >Pclass</th> \n",
       "        <th class=\"col_heading level1 col0\" >1</th> \n",
       "        <th class=\"col_heading level1 col1\" >2</th> \n",
       "        <th class=\"col_heading level1 col2\" >3</th> \n",
       "        <th class=\"col_heading level1 col3\" >1</th> \n",
       "        <th class=\"col_heading level1 col4\" >2</th> \n",
       "        <th class=\"col_heading level1 col5\" >3</th> \n",
       "        <th class=\"col_heading level1 col6\" >1</th> \n",
       "        <th class=\"col_heading level1 col7\" >2</th> \n",
       "        <th class=\"col_heading level1 col8\" >3</th> \n",
       "        <th class=\"col_heading level1 col9\" >1</th> \n",
       "        <th class=\"col_heading level1 col10\" >2</th> \n",
       "        <th class=\"col_heading level1 col11\" >3</th> \n",
       "        <th class=\"col_heading level1 col12\" >1</th> \n",
       "        <th class=\"col_heading level1 col13\" >2</th> \n",
       "        <th class=\"col_heading level1 col14\" >3</th> \n",
       "        <th class=\"col_heading level1 col15\" >1</th> \n",
       "        <th class=\"col_heading level1 col16\" >2</th> \n",
       "        <th class=\"col_heading level1 col17\" >3</th> \n",
       "        <th class=\"col_heading level1 col18\" >1</th> \n",
       "        <th class=\"col_heading level1 col19\" >2</th> \n",
       "        <th class=\"col_heading level1 col20\" >3</th> \n",
       "        <th class=\"col_heading level1 col21\" >1</th> \n",
       "        <th class=\"col_heading level1 col22\" >3</th> \n",
       "        <th class=\"col_heading level1 col23\" ></th> \n",
       "    </tr>    <tr> \n",
       "        <th class=\"index_name level0\" >Sex</th> \n",
       "        <th class=\"index_name level1\" >Survived</th> \n",
       "        <th class=\"blank\" ></th> \n",
       "        <th class=\"blank\" ></th> \n",
       "        <th class=\"blank\" ></th> \n",
       "        <th class=\"blank\" ></th> \n",
       "        <th class=\"blank\" ></th> \n",
       "        <th class=\"blank\" ></th> \n",
       "        <th class=\"blank\" ></th> \n",
       "        <th class=\"blank\" ></th> \n",
       "        <th class=\"blank\" ></th> \n",
       "        <th class=\"blank\" ></th> \n",
       "        <th class=\"blank\" ></th> \n",
       "        <th class=\"blank\" ></th> \n",
       "        <th class=\"blank\" ></th> \n",
       "        <th class=\"blank\" ></th> \n",
       "        <th class=\"blank\" ></th> \n",
       "        <th class=\"blank\" ></th> \n",
       "        <th class=\"blank\" ></th> \n",
       "        <th class=\"blank\" ></th> \n",
       "        <th class=\"blank\" ></th> \n",
       "        <th class=\"blank\" ></th> \n",
       "        <th class=\"blank\" ></th> \n",
       "        <th class=\"blank\" ></th> \n",
       "        <th class=\"blank\" ></th> \n",
       "        <th class=\"blank\" ></th> \n",
       "    </tr></thead> \n",
       "<tbody>    <tr> \n",
       "        <th id=\"T_427ce250_4d7b_11e9_b430_d7d45de3d2bflevel0_row0\" class=\"row_heading level0 row0\" rowspan=2>female</th> \n",
       "        <th id=\"T_427ce250_4d7b_11e9_b430_d7d45de3d2bflevel1_row0\" class=\"row_heading level1 row0\" >0</th> \n",
       "        <td id=\"T_427ce250_4d7b_11e9_b430_d7d45de3d2bfrow0_col0\" class=\"data row0 col0\" >1</td> \n",
       "        <td id=\"T_427ce250_4d7b_11e9_b430_d7d45de3d2bfrow0_col1\" class=\"data row0 col1\" >0</td> \n",
       "        <td id=\"T_427ce250_4d7b_11e9_b430_d7d45de3d2bfrow0_col2\" class=\"data row0 col2\" >11</td> \n",
       "        <td id=\"T_427ce250_4d7b_11e9_b430_d7d45de3d2bfrow0_col3\" class=\"data row0 col3\" >0</td> \n",
       "        <td id=\"T_427ce250_4d7b_11e9_b430_d7d45de3d2bfrow0_col4\" class=\"data row0 col4\" >0</td> \n",
       "        <td id=\"T_427ce250_4d7b_11e9_b430_d7d45de3d2bfrow0_col5\" class=\"data row0 col5\" >12</td> \n",
       "        <td id=\"T_427ce250_4d7b_11e9_b430_d7d45de3d2bfrow0_col6\" class=\"data row0 col6\" >1</td> \n",
       "        <td id=\"T_427ce250_4d7b_11e9_b430_d7d45de3d2bfrow0_col7\" class=\"data row0 col7\" >3</td> \n",
       "        <td id=\"T_427ce250_4d7b_11e9_b430_d7d45de3d2bfrow0_col8\" class=\"data row0 col8\" >16</td> \n",
       "        <td id=\"T_427ce250_4d7b_11e9_b430_d7d45de3d2bfrow0_col9\" class=\"data row0 col9\" >0</td> \n",
       "        <td id=\"T_427ce250_4d7b_11e9_b430_d7d45de3d2bfrow0_col10\" class=\"data row0 col10\" >1</td> \n",
       "        <td id=\"T_427ce250_4d7b_11e9_b430_d7d45de3d2bfrow0_col11\" class=\"data row0 col11\" >8</td> \n",
       "        <td id=\"T_427ce250_4d7b_11e9_b430_d7d45de3d2bfrow0_col12\" class=\"data row0 col12\" >1</td> \n",
       "        <td id=\"T_427ce250_4d7b_11e9_b430_d7d45de3d2bfrow0_col13\" class=\"data row0 col13\" >1</td> \n",
       "        <td id=\"T_427ce250_4d7b_11e9_b430_d7d45de3d2bfrow0_col14\" class=\"data row0 col14\" >8</td> \n",
       "        <td id=\"T_427ce250_4d7b_11e9_b430_d7d45de3d2bfrow0_col15\" class=\"data row0 col15\" >0</td> \n",
       "        <td id=\"T_427ce250_4d7b_11e9_b430_d7d45de3d2bfrow0_col16\" class=\"data row0 col16\" >1</td> \n",
       "        <td id=\"T_427ce250_4d7b_11e9_b430_d7d45de3d2bfrow0_col17\" class=\"data row0 col17\" >0</td> \n",
       "        <td id=\"T_427ce250_4d7b_11e9_b430_d7d45de3d2bfrow0_col18\" class=\"data row0 col18\" >0</td> \n",
       "        <td id=\"T_427ce250_4d7b_11e9_b430_d7d45de3d2bfrow0_col19\" class=\"data row0 col19\" >0</td> \n",
       "        <td id=\"T_427ce250_4d7b_11e9_b430_d7d45de3d2bfrow0_col20\" class=\"data row0 col20\" >0</td> \n",
       "        <td id=\"T_427ce250_4d7b_11e9_b430_d7d45de3d2bfrow0_col21\" class=\"data row0 col21\" >0</td> \n",
       "        <td id=\"T_427ce250_4d7b_11e9_b430_d7d45de3d2bfrow0_col22\" class=\"data row0 col22\" >0</td> \n",
       "        <td id=\"T_427ce250_4d7b_11e9_b430_d7d45de3d2bfrow0_col23\" class=\"data row0 col23\" >64</td> \n",
       "    </tr>    <tr> \n",
       "        <th id=\"T_427ce250_4d7b_11e9_b430_d7d45de3d2bflevel1_row1\" class=\"row_heading level1 row1\" >1</th> \n",
       "        <td id=\"T_427ce250_4d7b_11e9_b430_d7d45de3d2bfrow1_col0\" class=\"data row1 col0\" >0</td> \n",
       "        <td id=\"T_427ce250_4d7b_11e9_b430_d7d45de3d2bfrow1_col1\" class=\"data row1 col1\" >8</td> \n",
       "        <td id=\"T_427ce250_4d7b_11e9_b430_d7d45de3d2bfrow1_col2\" class=\"data row1 col2\" >11</td> \n",
       "        <td id=\"T_427ce250_4d7b_11e9_b430_d7d45de3d2bfrow1_col3\" class=\"data row1 col3\" >13</td> \n",
       "        <td id=\"T_427ce250_4d7b_11e9_b430_d7d45de3d2bfrow1_col4\" class=\"data row1 col4\" >8</td> \n",
       "        <td id=\"T_427ce250_4d7b_11e9_b430_d7d45de3d2bfrow1_col5\" class=\"data row1 col5\" >13</td> \n",
       "        <td id=\"T_427ce250_4d7b_11e9_b430_d7d45de3d2bfrow1_col6\" class=\"data row1 col6\" >20</td> \n",
       "        <td id=\"T_427ce250_4d7b_11e9_b430_d7d45de3d2bfrow1_col7\" class=\"data row1 col7\" >25</td> \n",
       "        <td id=\"T_427ce250_4d7b_11e9_b430_d7d45de3d2bfrow1_col8\" class=\"data row1 col8\" >16</td> \n",
       "        <td id=\"T_427ce250_4d7b_11e9_b430_d7d45de3d2bfrow1_col9\" class=\"data row1 col9\" >24</td> \n",
       "        <td id=\"T_427ce250_4d7b_11e9_b430_d7d45de3d2bfrow1_col10\" class=\"data row1 col10\" >16</td> \n",
       "        <td id=\"T_427ce250_4d7b_11e9_b430_d7d45de3d2bfrow1_col11\" class=\"data row1 col11\" >6</td> \n",
       "        <td id=\"T_427ce250_4d7b_11e9_b430_d7d45de3d2bfrow1_col12\" class=\"data row1 col12\" >12</td> \n",
       "        <td id=\"T_427ce250_4d7b_11e9_b430_d7d45de3d2bfrow1_col13\" class=\"data row1 col13\" >9</td> \n",
       "        <td id=\"T_427ce250_4d7b_11e9_b430_d7d45de3d2bfrow1_col14\" class=\"data row1 col14\" >0</td> \n",
       "        <td id=\"T_427ce250_4d7b_11e9_b430_d7d45de3d2bfrow1_col15\" class=\"data row1 col15\" >11</td> \n",
       "        <td id=\"T_427ce250_4d7b_11e9_b430_d7d45de3d2bfrow1_col16\" class=\"data row1 col16\" >2</td> \n",
       "        <td id=\"T_427ce250_4d7b_11e9_b430_d7d45de3d2bfrow1_col17\" class=\"data row1 col17\" >0</td> \n",
       "        <td id=\"T_427ce250_4d7b_11e9_b430_d7d45de3d2bfrow1_col18\" class=\"data row1 col18\" >2</td> \n",
       "        <td id=\"T_427ce250_4d7b_11e9_b430_d7d45de3d2bfrow1_col19\" class=\"data row1 col19\" >0</td> \n",
       "        <td id=\"T_427ce250_4d7b_11e9_b430_d7d45de3d2bfrow1_col20\" class=\"data row1 col20\" >1</td> \n",
       "        <td id=\"T_427ce250_4d7b_11e9_b430_d7d45de3d2bfrow1_col21\" class=\"data row1 col21\" >0</td> \n",
       "        <td id=\"T_427ce250_4d7b_11e9_b430_d7d45de3d2bfrow1_col22\" class=\"data row1 col22\" >0</td> \n",
       "        <td id=\"T_427ce250_4d7b_11e9_b430_d7d45de3d2bfrow1_col23\" class=\"data row1 col23\" >197</td> \n",
       "    </tr>    <tr> \n",
       "        <th id=\"T_427ce250_4d7b_11e9_b430_d7d45de3d2bflevel0_row2\" class=\"row_heading level0 row2\" rowspan=2>male</th> \n",
       "        <th id=\"T_427ce250_4d7b_11e9_b430_d7d45de3d2bflevel1_row2\" class=\"row_heading level1 row2\" >0</th> \n",
       "        <td id=\"T_427ce250_4d7b_11e9_b430_d7d45de3d2bfrow2_col0\" class=\"data row2 col0\" >0</td> \n",
       "        <td id=\"T_427ce250_4d7b_11e9_b430_d7d45de3d2bfrow2_col1\" class=\"data row2 col1\" >0</td> \n",
       "        <td id=\"T_427ce250_4d7b_11e9_b430_d7d45de3d2bfrow2_col2\" class=\"data row2 col2\" >14</td> \n",
       "        <td id=\"T_427ce250_4d7b_11e9_b430_d7d45de3d2bfrow2_col3\" class=\"data row2 col3\" >3</td> \n",
       "        <td id=\"T_427ce250_4d7b_11e9_b430_d7d45de3d2bfrow2_col4\" class=\"data row2 col4\" >9</td> \n",
       "        <td id=\"T_427ce250_4d7b_11e9_b430_d7d45de3d2bfrow2_col5\" class=\"data row2 col5\" >47</td> \n",
       "        <td id=\"T_427ce250_4d7b_11e9_b430_d7d45de3d2bfrow2_col6\" class=\"data row2 col6\" >10</td> \n",
       "        <td id=\"T_427ce250_4d7b_11e9_b430_d7d45de3d2bfrow2_col7\" class=\"data row2 col7\" >33</td> \n",
       "        <td id=\"T_427ce250_4d7b_11e9_b430_d7d45de3d2bfrow2_col8\" class=\"data row2 col8\" >83</td> \n",
       "        <td id=\"T_427ce250_4d7b_11e9_b430_d7d45de3d2bfrow2_col9\" class=\"data row2 col9\" >12</td> \n",
       "        <td id=\"T_427ce250_4d7b_11e9_b430_d7d45de3d2bfrow2_col10\" class=\"data row2 col10\" >23</td> \n",
       "        <td id=\"T_427ce250_4d7b_11e9_b430_d7d45de3d2bfrow2_col11\" class=\"data row2 col11\" >42</td> \n",
       "        <td id=\"T_427ce250_4d7b_11e9_b430_d7d45de3d2bfrow2_col12\" class=\"data row2 col12\" >15</td> \n",
       "        <td id=\"T_427ce250_4d7b_11e9_b430_d7d45de3d2bfrow2_col13\" class=\"data row2 col13\" >8</td> \n",
       "        <td id=\"T_427ce250_4d7b_11e9_b430_d7d45de3d2bfrow2_col14\" class=\"data row2 col14\" >20</td> \n",
       "        <td id=\"T_427ce250_4d7b_11e9_b430_d7d45de3d2bfrow2_col15\" class=\"data row2 col15\" >10</td> \n",
       "        <td id=\"T_427ce250_4d7b_11e9_b430_d7d45de3d2bfrow2_col16\" class=\"data row2 col16\" >9</td> \n",
       "        <td id=\"T_427ce250_4d7b_11e9_b430_d7d45de3d2bfrow2_col17\" class=\"data row2 col17\" >5</td> \n",
       "        <td id=\"T_427ce250_4d7b_11e9_b430_d7d45de3d2bfrow2_col18\" class=\"data row2 col18\" >9</td> \n",
       "        <td id=\"T_427ce250_4d7b_11e9_b430_d7d45de3d2bfrow2_col19\" class=\"data row2 col19\" >2</td> \n",
       "        <td id=\"T_427ce250_4d7b_11e9_b430_d7d45de3d2bfrow2_col20\" class=\"data row2 col20\" >2</td> \n",
       "        <td id=\"T_427ce250_4d7b_11e9_b430_d7d45de3d2bfrow2_col21\" class=\"data row2 col21\" >2</td> \n",
       "        <td id=\"T_427ce250_4d7b_11e9_b430_d7d45de3d2bfrow2_col22\" class=\"data row2 col22\" >2</td> \n",
       "        <td id=\"T_427ce250_4d7b_11e9_b430_d7d45de3d2bfrow2_col23\" class=\"data row2 col23\" >360</td> \n",
       "    </tr>    <tr> \n",
       "        <th id=\"T_427ce250_4d7b_11e9_b430_d7d45de3d2bflevel1_row3\" class=\"row_heading level1 row3\" >1</th> \n",
       "        <td id=\"T_427ce250_4d7b_11e9_b430_d7d45de3d2bfrow3_col0\" class=\"data row3 col0\" >2</td> \n",
       "        <td id=\"T_427ce250_4d7b_11e9_b430_d7d45de3d2bfrow3_col1\" class=\"data row3 col1\" >9</td> \n",
       "        <td id=\"T_427ce250_4d7b_11e9_b430_d7d45de3d2bfrow3_col2\" class=\"data row3 col2\" >8</td> \n",
       "        <td id=\"T_427ce250_4d7b_11e9_b430_d7d45de3d2bfrow3_col3\" class=\"data row3 col3\" >2</td> \n",
       "        <td id=\"T_427ce250_4d7b_11e9_b430_d7d45de3d2bfrow3_col4\" class=\"data row3 col4\" >1</td> \n",
       "        <td id=\"T_427ce250_4d7b_11e9_b430_d7d45de3d2bfrow3_col5\" class=\"data row3 col5\" >7</td> \n",
       "        <td id=\"T_427ce250_4d7b_11e9_b430_d7d45de3d2bfrow3_col6\" class=\"data row3 col6\" >9</td> \n",
       "        <td id=\"T_427ce250_4d7b_11e9_b430_d7d45de3d2bfrow3_col7\" class=\"data row3 col7\" >0</td> \n",
       "        <td id=\"T_427ce250_4d7b_11e9_b430_d7d45de3d2bfrow3_col8\" class=\"data row3 col8\" >14</td> \n",
       "        <td id=\"T_427ce250_4d7b_11e9_b430_d7d45de3d2bfrow3_col9\" class=\"data row3 col9\" >13</td> \n",
       "        <td id=\"T_427ce250_4d7b_11e9_b430_d7d45de3d2bfrow3_col10\" class=\"data row3 col10\" >3</td> \n",
       "        <td id=\"T_427ce250_4d7b_11e9_b430_d7d45de3d2bfrow3_col11\" class=\"data row3 col11\" >7</td> \n",
       "        <td id=\"T_427ce250_4d7b_11e9_b430_d7d45de3d2bfrow3_col12\" class=\"data row3 col12\" >9</td> \n",
       "        <td id=\"T_427ce250_4d7b_11e9_b430_d7d45de3d2bfrow3_col13\" class=\"data row3 col13\" >1</td> \n",
       "        <td id=\"T_427ce250_4d7b_11e9_b430_d7d45de3d2bfrow3_col14\" class=\"data row3 col14\" >2</td> \n",
       "        <td id=\"T_427ce250_4d7b_11e9_b430_d7d45de3d2bfrow3_col15\" class=\"data row3 col15\" >4</td> \n",
       "        <td id=\"T_427ce250_4d7b_11e9_b430_d7d45de3d2bfrow3_col16\" class=\"data row3 col16\" >0</td> \n",
       "        <td id=\"T_427ce250_4d7b_11e9_b430_d7d45de3d2bfrow3_col17\" class=\"data row3 col17\" >0</td> \n",
       "        <td id=\"T_427ce250_4d7b_11e9_b430_d7d45de3d2bfrow3_col18\" class=\"data row3 col18\" >0</td> \n",
       "        <td id=\"T_427ce250_4d7b_11e9_b430_d7d45de3d2bfrow3_col19\" class=\"data row3 col19\" >1</td> \n",
       "        <td id=\"T_427ce250_4d7b_11e9_b430_d7d45de3d2bfrow3_col20\" class=\"data row3 col20\" >0</td> \n",
       "        <td id=\"T_427ce250_4d7b_11e9_b430_d7d45de3d2bfrow3_col21\" class=\"data row3 col21\" >1</td> \n",
       "        <td id=\"T_427ce250_4d7b_11e9_b430_d7d45de3d2bfrow3_col22\" class=\"data row3 col22\" >0</td> \n",
       "        <td id=\"T_427ce250_4d7b_11e9_b430_d7d45de3d2bfrow3_col23\" class=\"data row3 col23\" >93</td> \n",
       "    </tr>    <tr> \n",
       "        <th id=\"T_427ce250_4d7b_11e9_b430_d7d45de3d2bflevel0_row4\" class=\"row_heading level0 row4\" >All</th> \n",
       "        <th id=\"T_427ce250_4d7b_11e9_b430_d7d45de3d2bflevel1_row4\" class=\"row_heading level1 row4\" ></th> \n",
       "        <td id=\"T_427ce250_4d7b_11e9_b430_d7d45de3d2bfrow4_col0\" class=\"data row4 col0\" >3</td> \n",
       "        <td id=\"T_427ce250_4d7b_11e9_b430_d7d45de3d2bfrow4_col1\" class=\"data row4 col1\" >17</td> \n",
       "        <td id=\"T_427ce250_4d7b_11e9_b430_d7d45de3d2bfrow4_col2\" class=\"data row4 col2\" >44</td> \n",
       "        <td id=\"T_427ce250_4d7b_11e9_b430_d7d45de3d2bfrow4_col3\" class=\"data row4 col3\" >18</td> \n",
       "        <td id=\"T_427ce250_4d7b_11e9_b430_d7d45de3d2bfrow4_col4\" class=\"data row4 col4\" >18</td> \n",
       "        <td id=\"T_427ce250_4d7b_11e9_b430_d7d45de3d2bfrow4_col5\" class=\"data row4 col5\" >79</td> \n",
       "        <td id=\"T_427ce250_4d7b_11e9_b430_d7d45de3d2bfrow4_col6\" class=\"data row4 col6\" >40</td> \n",
       "        <td id=\"T_427ce250_4d7b_11e9_b430_d7d45de3d2bfrow4_col7\" class=\"data row4 col7\" >61</td> \n",
       "        <td id=\"T_427ce250_4d7b_11e9_b430_d7d45de3d2bfrow4_col8\" class=\"data row4 col8\" >129</td> \n",
       "        <td id=\"T_427ce250_4d7b_11e9_b430_d7d45de3d2bfrow4_col9\" class=\"data row4 col9\" >49</td> \n",
       "        <td id=\"T_427ce250_4d7b_11e9_b430_d7d45de3d2bfrow4_col10\" class=\"data row4 col10\" >43</td> \n",
       "        <td id=\"T_427ce250_4d7b_11e9_b430_d7d45de3d2bfrow4_col11\" class=\"data row4 col11\" >63</td> \n",
       "        <td id=\"T_427ce250_4d7b_11e9_b430_d7d45de3d2bfrow4_col12\" class=\"data row4 col12\" >37</td> \n",
       "        <td id=\"T_427ce250_4d7b_11e9_b430_d7d45de3d2bfrow4_col13\" class=\"data row4 col13\" >19</td> \n",
       "        <td id=\"T_427ce250_4d7b_11e9_b430_d7d45de3d2bfrow4_col14\" class=\"data row4 col14\" >30</td> \n",
       "        <td id=\"T_427ce250_4d7b_11e9_b430_d7d45de3d2bfrow4_col15\" class=\"data row4 col15\" >25</td> \n",
       "        <td id=\"T_427ce250_4d7b_11e9_b430_d7d45de3d2bfrow4_col16\" class=\"data row4 col16\" >12</td> \n",
       "        <td id=\"T_427ce250_4d7b_11e9_b430_d7d45de3d2bfrow4_col17\" class=\"data row4 col17\" >5</td> \n",
       "        <td id=\"T_427ce250_4d7b_11e9_b430_d7d45de3d2bfrow4_col18\" class=\"data row4 col18\" >11</td> \n",
       "        <td id=\"T_427ce250_4d7b_11e9_b430_d7d45de3d2bfrow4_col19\" class=\"data row4 col19\" >3</td> \n",
       "        <td id=\"T_427ce250_4d7b_11e9_b430_d7d45de3d2bfrow4_col20\" class=\"data row4 col20\" >3</td> \n",
       "        <td id=\"T_427ce250_4d7b_11e9_b430_d7d45de3d2bfrow4_col21\" class=\"data row4 col21\" >3</td> \n",
       "        <td id=\"T_427ce250_4d7b_11e9_b430_d7d45de3d2bfrow4_col22\" class=\"data row4 col22\" >2</td> \n",
       "        <td id=\"T_427ce250_4d7b_11e9_b430_d7d45de3d2bfrow4_col23\" class=\"data row4 col23\" >714</td> \n",
       "    </tr></tbody> \n",
       "</table> "
      ],
      "text/plain": [
       "<pandas.io.formats.style.Styler at 0x7fa6169b0438>"
      ]
     },
     "execution_count": 38,
     "metadata": {},
     "output_type": "execute_result"
    }
   ],
   "source": [
    "pd.crosstab([df_train.Sex, df_train.Survived], [df_train.Age_bin, df_train.Pclass], margins=True).style.background_gradient(cmap='autumn_r')"
   ]
  },
  {
   "cell_type": "markdown",
   "metadata": {},
   "source": [
    "**Conclusions**\n",
    "\n",
    "* All males in Age_bin 1 (age <= 10 ) in Pclass 1 and Pclass 2 survived.\n",
    "* All females in Pclass 3 with 50 <= age < 60 died."
   ]
  },
  {
   "cell_type": "markdown",
   "metadata": {},
   "source": [
    "**SibSp and Parch**"
   ]
  },
  {
   "cell_type": "code",
   "execution_count": 39,
   "metadata": {},
   "outputs": [
    {
     "data": {
      "text/plain": [
       "<seaborn.axisgrid.FacetGrid at 0x7fa616d93b38>"
      ]
     },
     "execution_count": 39,
     "metadata": {},
     "output_type": "execute_result"
    },
    {
     "data": {
      "image/png": "[encoded data removed]",
      "text/plain": [
       "<Figure size 1080x720 with 6 Axes>"
      ]
     },
     "metadata": {
      "needs_background": "light"
     },
     "output_type": "display_data"
    }
   ],
   "source": [
    "sns.catplot('SibSp','Survived', col='Pclass' , row = 'Sex', kind='point', data=df_train)"
   ]
  },
  {
   "cell_type": "code",
   "execution_count": 40,
   "metadata": {},
   "outputs": [
    {
     "data": {
      "text/html": [
       "<style  type=\"text/css\" >\n",
       "    #T_438c39d4_4d7b_11e9_b430_d7d45de3d2bfrow0_col0 {\n",
       "            background-color:  #ffff00;\n",
       "        }    #T_438c39d4_4d7b_11e9_b430_d7d45de3d2bfrow0_col1 {\n",
       "            background-color:  #ffff00;\n",
       "        }    #T_438c39d4_4d7b_11e9_b430_d7d45de3d2bfrow0_col2 {\n",
       "            background-color:  #ffff00;\n",
       "        }    #T_438c39d4_4d7b_11e9_b430_d7d45de3d2bfrow0_col3 {\n",
       "            background-color:  #ffff00;\n",
       "        }    #T_438c39d4_4d7b_11e9_b430_d7d45de3d2bfrow0_col4 {\n",
       "            background-color:  #ffff00;\n",
       "        }    #T_438c39d4_4d7b_11e9_b430_d7d45de3d2bfrow0_col5 {\n",
       "            background-color:  #ffd900;\n",
       "        }    #T_438c39d4_4d7b_11e9_b430_d7d45de3d2bfrow0_col6 {\n",
       "            background-color:  #ffff00;\n",
       "        }    #T_438c39d4_4d7b_11e9_b430_d7d45de3d2bfrow0_col7 {\n",
       "            background-color:  #ffff00;\n",
       "        }    #T_438c39d4_4d7b_11e9_b430_d7d45de3d2bfrow0_col8 {\n",
       "            background-color:  #ffdb00;\n",
       "        }    #T_438c39d4_4d7b_11e9_b430_d7d45de3d2bfrow0_col9 {\n",
       "            background-color:  #ffff00;\n",
       "        }    #T_438c39d4_4d7b_11e9_b430_d7d45de3d2bfrow0_col10 {\n",
       "            background-color:  #ffff00;\n",
       "        }    #T_438c39d4_4d7b_11e9_b430_d7d45de3d2bfrow0_col11 {\n",
       "            background-color:  #ff6a00;\n",
       "        }    #T_438c39d4_4d7b_11e9_b430_d7d45de3d2bfrow0_col12 {\n",
       "            background-color:  #ffd200;\n",
       "        }    #T_438c39d4_4d7b_11e9_b430_d7d45de3d2bfrow0_col13 {\n",
       "            background-color:  #ffcc00;\n",
       "        }    #T_438c39d4_4d7b_11e9_b430_d7d45de3d2bfrow0_col14 {\n",
       "            background-color:  #ff9200;\n",
       "        }    #T_438c39d4_4d7b_11e9_b430_d7d45de3d2bfrow0_col15 {\n",
       "            background-color:  #ffff00;\n",
       "        }    #T_438c39d4_4d7b_11e9_b430_d7d45de3d2bfrow1_col0 {\n",
       "            background-color:  #ffa700;\n",
       "        }    #T_438c39d4_4d7b_11e9_b430_d7d45de3d2bfrow1_col1 {\n",
       "            background-color:  #ffac00;\n",
       "        }    #T_438c39d4_4d7b_11e9_b430_d7d45de3d2bfrow1_col2 {\n",
       "            background-color:  #fff300;\n",
       "        }    #T_438c39d4_4d7b_11e9_b430_d7d45de3d2bfrow1_col3 {\n",
       "            background-color:  #ff7a00;\n",
       "        }    #T_438c39d4_4d7b_11e9_b430_d7d45de3d2bfrow1_col4 {\n",
       "            background-color:  #ff9300;\n",
       "        }    #T_438c39d4_4d7b_11e9_b430_d7d45de3d2bfrow1_col5 {\n",
       "            background-color:  #ffe700;\n",
       "        }    #T_438c39d4_4d7b_11e9_b430_d7d45de3d2bfrow1_col6 {\n",
       "            background-color:  #ff6600;\n",
       "        }    #T_438c39d4_4d7b_11e9_b430_d7d45de3d2bfrow1_col7 {\n",
       "            background-color:  #ff9f00;\n",
       "        }    #T_438c39d4_4d7b_11e9_b430_d7d45de3d2bfrow1_col8 {\n",
       "            background-color:  #ffc900;\n",
       "        }    #T_438c39d4_4d7b_11e9_b430_d7d45de3d2bfrow1_col9 {\n",
       "            background-color:  #ff5500;\n",
       "        }    #T_438c39d4_4d7b_11e9_b430_d7d45de3d2bfrow1_col10 {\n",
       "            background-color:  #ff0000;\n",
       "        }    #T_438c39d4_4d7b_11e9_b430_d7d45de3d2bfrow1_col11 {\n",
       "            background-color:  #ffea00;\n",
       "        }    #T_438c39d4_4d7b_11e9_b430_d7d45de3d2bfrow1_col12 {\n",
       "            background-color:  #fff000;\n",
       "        }    #T_438c39d4_4d7b_11e9_b430_d7d45de3d2bfrow1_col13 {\n",
       "            background-color:  #ffff00;\n",
       "        }    #T_438c39d4_4d7b_11e9_b430_d7d45de3d2bfrow1_col14 {\n",
       "            background-color:  #ffff00;\n",
       "        }    #T_438c39d4_4d7b_11e9_b430_d7d45de3d2bfrow1_col15 {\n",
       "            background-color:  #ffcf00;\n",
       "        }    #T_438c39d4_4d7b_11e9_b430_d7d45de3d2bfrow2_col0 {\n",
       "            background-color:  #ff9200;\n",
       "        }    #T_438c39d4_4d7b_11e9_b430_d7d45de3d2bfrow2_col1 {\n",
       "            background-color:  #ff7300;\n",
       "        }    #T_438c39d4_4d7b_11e9_b430_d7d45de3d2bfrow2_col2 {\n",
       "            background-color:  #ff5d00;\n",
       "        }    #T_438c39d4_4d7b_11e9_b430_d7d45de3d2bfrow2_col3 {\n",
       "            background-color:  #ffcc00;\n",
       "        }    #T_438c39d4_4d7b_11e9_b430_d7d45de3d2bfrow2_col4 {\n",
       "            background-color:  #ffac00;\n",
       "        }    #T_438c39d4_4d7b_11e9_b430_d7d45de3d2bfrow2_col5 {\n",
       "            background-color:  #ffa800;\n",
       "        }    #T_438c39d4_4d7b_11e9_b430_d7d45de3d2bfrow2_col6 {\n",
       "            background-color:  #ffcc00;\n",
       "        }    #T_438c39d4_4d7b_11e9_b430_d7d45de3d2bfrow2_col7 {\n",
       "            background-color:  #ff7f00;\n",
       "        }    #T_438c39d4_4d7b_11e9_b430_d7d45de3d2bfrow2_col8 {\n",
       "            background-color:  #ff9200;\n",
       "        }    #T_438c39d4_4d7b_11e9_b430_d7d45de3d2bfrow2_col9 {\n",
       "            background-color:  #ffaa00;\n",
       "        }    #T_438c39d4_4d7b_11e9_b430_d7d45de3d2bfrow2_col10 {\n",
       "            background-color:  #ffff00;\n",
       "        }    #T_438c39d4_4d7b_11e9_b430_d7d45de3d2bfrow2_col11 {\n",
       "            background-color:  #ffaa00;\n",
       "        }    #T_438c39d4_4d7b_11e9_b430_d7d45de3d2bfrow2_col12 {\n",
       "            background-color:  #ff6900;\n",
       "        }    #T_438c39d4_4d7b_11e9_b430_d7d45de3d2bfrow2_col13 {\n",
       "            background-color:  #ff3300;\n",
       "        }    #T_438c39d4_4d7b_11e9_b430_d7d45de3d2bfrow2_col14 {\n",
       "            background-color:  #ff6d00;\n",
       "        }    #T_438c39d4_4d7b_11e9_b430_d7d45de3d2bfrow2_col15 {\n",
       "            background-color:  #ff8500;\n",
       "        }    #T_438c39d4_4d7b_11e9_b430_d7d45de3d2bfrow3_col0 {\n",
       "            background-color:  #ffcb00;\n",
       "        }    #T_438c39d4_4d7b_11e9_b430_d7d45de3d2bfrow3_col1 {\n",
       "            background-color:  #fff200;\n",
       "        }    #T_438c39d4_4d7b_11e9_b430_d7d45de3d2bfrow3_col2 {\n",
       "            background-color:  #fffe00;\n",
       "        }    #T_438c39d4_4d7b_11e9_b430_d7d45de3d2bfrow3_col3 {\n",
       "            background-color:  #ffcf00;\n",
       "        }    #T_438c39d4_4d7b_11e9_b430_d7d45de3d2bfrow3_col4 {\n",
       "            background-color:  #ffec00;\n",
       "        }    #T_438c39d4_4d7b_11e9_b430_d7d45de3d2bfrow3_col5 {\n",
       "            background-color:  #ffff00;\n",
       "        }    #T_438c39d4_4d7b_11e9_b430_d7d45de3d2bfrow3_col6 {\n",
       "            background-color:  #ffcc00;\n",
       "        }    #T_438c39d4_4d7b_11e9_b430_d7d45de3d2bfrow3_col7 {\n",
       "            background-color:  #ffdf00;\n",
       "        }    #T_438c39d4_4d7b_11e9_b430_d7d45de3d2bfrow3_col8 {\n",
       "            background-color:  #ffff00;\n",
       "        }    #T_438c39d4_4d7b_11e9_b430_d7d45de3d2bfrow3_col9 {\n",
       "            background-color:  #ffff00;\n",
       "        }    #T_438c39d4_4d7b_11e9_b430_d7d45de3d2bfrow3_col10 {\n",
       "            background-color:  #ffff00;\n",
       "        }    #T_438c39d4_4d7b_11e9_b430_d7d45de3d2bfrow3_col11 {\n",
       "            background-color:  #ffff00;\n",
       "        }    #T_438c39d4_4d7b_11e9_b430_d7d45de3d2bfrow3_col12 {\n",
       "            background-color:  #ffff00;\n",
       "        }    #T_438c39d4_4d7b_11e9_b430_d7d45de3d2bfrow3_col13 {\n",
       "            background-color:  #ffff00;\n",
       "        }    #T_438c39d4_4d7b_11e9_b430_d7d45de3d2bfrow3_col14 {\n",
       "            background-color:  #ffff00;\n",
       "        }    #T_438c39d4_4d7b_11e9_b430_d7d45de3d2bfrow3_col15 {\n",
       "            background-color:  #fff700;\n",
       "        }    #T_438c39d4_4d7b_11e9_b430_d7d45de3d2bfrow4_col0 {\n",
       "            background-color:  #ff0000;\n",
       "        }    #T_438c39d4_4d7b_11e9_b430_d7d45de3d2bfrow4_col1 {\n",
       "            background-color:  #ff0000;\n",
       "        }    #T_438c39d4_4d7b_11e9_b430_d7d45de3d2bfrow4_col2 {\n",
       "            background-color:  #ff0000;\n",
       "        }    #T_438c39d4_4d7b_11e9_b430_d7d45de3d2bfrow4_col3 {\n",
       "            background-color:  #ff0000;\n",
       "        }    #T_438c39d4_4d7b_11e9_b430_d7d45de3d2bfrow4_col4 {\n",
       "            background-color:  #ff0000;\n",
       "        }    #T_438c39d4_4d7b_11e9_b430_d7d45de3d2bfrow4_col5 {\n",
       "            background-color:  #ff0000;\n",
       "        }    #T_438c39d4_4d7b_11e9_b430_d7d45de3d2bfrow4_col6 {\n",
       "            background-color:  #ff0000;\n",
       "        }    #T_438c39d4_4d7b_11e9_b430_d7d45de3d2bfrow4_col7 {\n",
       "            background-color:  #ff0000;\n",
       "        }    #T_438c39d4_4d7b_11e9_b430_d7d45de3d2bfrow4_col8 {\n",
       "            background-color:  #ff0000;\n",
       "        }    #T_438c39d4_4d7b_11e9_b430_d7d45de3d2bfrow4_col9 {\n",
       "            background-color:  #ff0000;\n",
       "        }    #T_438c39d4_4d7b_11e9_b430_d7d45de3d2bfrow4_col10 {\n",
       "            background-color:  #ff0000;\n",
       "        }    #T_438c39d4_4d7b_11e9_b430_d7d45de3d2bfrow4_col11 {\n",
       "            background-color:  #ff0000;\n",
       "        }    #T_438c39d4_4d7b_11e9_b430_d7d45de3d2bfrow4_col12 {\n",
       "            background-color:  #ff0000;\n",
       "        }    #T_438c39d4_4d7b_11e9_b430_d7d45de3d2bfrow4_col13 {\n",
       "            background-color:  #ff0000;\n",
       "        }    #T_438c39d4_4d7b_11e9_b430_d7d45de3d2bfrow4_col14 {\n",
       "            background-color:  #ff0000;\n",
       "        }    #T_438c39d4_4d7b_11e9_b430_d7d45de3d2bfrow4_col15 {\n",
       "            background-color:  #ff0000;\n",
       "        }</style>  \n",
       "<table id=\"T_438c39d4_4d7b_11e9_b430_d7d45de3d2bf\" > \n",
       "<thead>    <tr> \n",
       "        <th class=\"blank\" ></th> \n",
       "        <th class=\"index_name level0\" >SibSp</th> \n",
       "        <th class=\"col_heading level0 col0\" colspan=3>0</th> \n",
       "        <th class=\"col_heading level0 col3\" colspan=3>1</th> \n",
       "        <th class=\"col_heading level0 col6\" colspan=3>2</th> \n",
       "        <th class=\"col_heading level0 col9\" colspan=3>3</th> \n",
       "        <th class=\"col_heading level0 col12\" >4</th> \n",
       "        <th class=\"col_heading level0 col13\" >5</th> \n",
       "        <th class=\"col_heading level0 col14\" >8</th> \n",
       "        <th class=\"col_heading level0 col15\" >All</th> \n",
       "    </tr>    <tr> \n",
       "        <th class=\"blank\" ></th> \n",
       "        <th class=\"index_name level1\" >Pclass</th> \n",
       "        <th class=\"col_heading level1 col0\" >1</th> \n",
       "        <th class=\"col_heading level1 col1\" >2</th> \n",
       "        <th class=\"col_heading level1 col2\" >3</th> \n",
       "        <th class=\"col_heading level1 col3\" >1</th> \n",
       "        <th class=\"col_heading level1 col4\" >2</th> \n",
       "        <th class=\"col_heading level1 col5\" >3</th> \n",
       "        <th class=\"col_heading level1 col6\" >1</th> \n",
       "        <th class=\"col_heading level1 col7\" >2</th> \n",
       "        <th class=\"col_heading level1 col8\" >3</th> \n",
       "        <th class=\"col_heading level1 col9\" >1</th> \n",
       "        <th class=\"col_heading level1 col10\" >2</th> \n",
       "        <th class=\"col_heading level1 col11\" >3</th> \n",
       "        <th class=\"col_heading level1 col12\" >3</th> \n",
       "        <th class=\"col_heading level1 col13\" >3</th> \n",
       "        <th class=\"col_heading level1 col14\" >3</th> \n",
       "        <th class=\"col_heading level1 col15\" ></th> \n",
       "    </tr>    <tr> \n",
       "        <th class=\"index_name level0\" >Sex</th> \n",
       "        <th class=\"index_name level1\" >Survived</th> \n",
       "        <th class=\"blank\" ></th> \n",
       "        <th class=\"blank\" ></th> \n",
       "        <th class=\"blank\" ></th> \n",
       "        <th class=\"blank\" ></th> \n",
       "        <th class=\"blank\" ></th> \n",
       "        <th class=\"blank\" ></th> \n",
       "        <th class=\"blank\" ></th> \n",
       "        <th class=\"blank\" ></th> \n",
       "        <th class=\"blank\" ></th> \n",
       "        <th class=\"blank\" ></th> \n",
       "        <th class=\"blank\" ></th> \n",
       "        <th class=\"blank\" ></th> \n",
       "        <th class=\"blank\" ></th> \n",
       "        <th class=\"blank\" ></th> \n",
       "        <th class=\"blank\" ></th> \n",
       "        <th class=\"blank\" ></th> \n",
       "    </tr></thead> \n",
       "<tbody>    <tr> \n",
       "        <th id=\"T_438c39d4_4d7b_11e9_b430_d7d45de3d2bflevel0_row0\" class=\"row_heading level0 row0\" rowspan=2>female</th> \n",
       "        <th id=\"T_438c39d4_4d7b_11e9_b430_d7d45de3d2bflevel1_row0\" class=\"row_heading level1 row0\" >0</th> \n",
       "        <td id=\"T_438c39d4_4d7b_11e9_b430_d7d45de3d2bfrow0_col0\" class=\"data row0 col0\" >1</td> \n",
       "        <td id=\"T_438c39d4_4d7b_11e9_b430_d7d45de3d2bfrow0_col1\" class=\"data row0 col1\" >3</td> \n",
       "        <td id=\"T_438c39d4_4d7b_11e9_b430_d7d45de3d2bfrow0_col2\" class=\"data row0 col2\" >33</td> \n",
       "        <td id=\"T_438c39d4_4d7b_11e9_b430_d7d45de3d2bfrow0_col3\" class=\"data row0 col3\" >2</td> \n",
       "        <td id=\"T_438c39d4_4d7b_11e9_b430_d7d45de3d2bfrow0_col4\" class=\"data row0 col4\" >3</td> \n",
       "        <td id=\"T_438c39d4_4d7b_11e9_b430_d7d45de3d2bfrow0_col5\" class=\"data row0 col5\" >21</td> \n",
       "        <td id=\"T_438c39d4_4d7b_11e9_b430_d7d45de3d2bfrow0_col6\" class=\"data row0 col6\" >0</td> \n",
       "        <td id=\"T_438c39d4_4d7b_11e9_b430_d7d45de3d2bfrow0_col7\" class=\"data row0 col7\" >0</td> \n",
       "        <td id=\"T_438c39d4_4d7b_11e9_b430_d7d45de3d2bfrow0_col8\" class=\"data row0 col8\" >3</td> \n",
       "        <td id=\"T_438c39d4_4d7b_11e9_b430_d7d45de3d2bfrow0_col9\" class=\"data row0 col9\" >0</td> \n",
       "        <td id=\"T_438c39d4_4d7b_11e9_b430_d7d45de3d2bfrow0_col10\" class=\"data row0 col10\" >0</td> \n",
       "        <td id=\"T_438c39d4_4d7b_11e9_b430_d7d45de3d2bfrow0_col11\" class=\"data row0 col11\" >7</td> \n",
       "        <td id=\"T_438c39d4_4d7b_11e9_b430_d7d45de3d2bfrow0_col12\" class=\"data row0 col12\" >4</td> \n",
       "        <td id=\"T_438c39d4_4d7b_11e9_b430_d7d45de3d2bfrow0_col13\" class=\"data row0 col13\" >1</td> \n",
       "        <td id=\"T_438c39d4_4d7b_11e9_b430_d7d45de3d2bfrow0_col14\" class=\"data row0 col14\" >3</td> \n",
       "        <td id=\"T_438c39d4_4d7b_11e9_b430_d7d45de3d2bfrow0_col15\" class=\"data row0 col15\" >81</td> \n",
       "    </tr>    <tr> \n",
       "        <th id=\"T_438c39d4_4d7b_11e9_b430_d7d45de3d2bflevel1_row1\" class=\"row_heading level1 row1\" >1</th> \n",
       "        <td id=\"T_438c39d4_4d7b_11e9_b430_d7d45de3d2bfrow1_col0\" class=\"data row1 col0\" >48</td> \n",
       "        <td id=\"T_438c39d4_4d7b_11e9_b430_d7d45de3d2bfrow1_col1\" class=\"data row1 col1\" >41</td> \n",
       "        <td id=\"T_438c39d4_4d7b_11e9_b430_d7d45de3d2bfrow1_col2\" class=\"data row1 col2\" >48</td> \n",
       "        <td id=\"T_438c39d4_4d7b_11e9_b430_d7d45de3d2bfrow1_col3\" class=\"data row1 col3\" >38</td> \n",
       "        <td id=\"T_438c39d4_4d7b_11e9_b430_d7d45de3d2bfrow1_col4\" class=\"data row1 col4\" >25</td> \n",
       "        <td id=\"T_438c39d4_4d7b_11e9_b430_d7d45de3d2bfrow1_col5\" class=\"data row1 col5\" >17</td> \n",
       "        <td id=\"T_438c39d4_4d7b_11e9_b430_d7d45de3d2bfrow1_col6\" class=\"data row1 col6\" >3</td> \n",
       "        <td id=\"T_438c39d4_4d7b_11e9_b430_d7d45de3d2bfrow1_col7\" class=\"data row1 col7\" >3</td> \n",
       "        <td id=\"T_438c39d4_4d7b_11e9_b430_d7d45de3d2bfrow1_col8\" class=\"data row1 col8\" >4</td> \n",
       "        <td id=\"T_438c39d4_4d7b_11e9_b430_d7d45de3d2bfrow1_col9\" class=\"data row1 col9\" >2</td> \n",
       "        <td id=\"T_438c39d4_4d7b_11e9_b430_d7d45de3d2bfrow1_col10\" class=\"data row1 col10\" >1</td> \n",
       "        <td id=\"T_438c39d4_4d7b_11e9_b430_d7d45de3d2bfrow1_col11\" class=\"data row1 col11\" >1</td> \n",
       "        <td id=\"T_438c39d4_4d7b_11e9_b430_d7d45de3d2bfrow1_col12\" class=\"data row1 col12\" >2</td> \n",
       "        <td id=\"T_438c39d4_4d7b_11e9_b430_d7d45de3d2bfrow1_col13\" class=\"data row1 col13\" >0</td> \n",
       "        <td id=\"T_438c39d4_4d7b_11e9_b430_d7d45de3d2bfrow1_col14\" class=\"data row1 col14\" >0</td> \n",
       "        <td id=\"T_438c39d4_4d7b_11e9_b430_d7d45de3d2bfrow1_col15\" class=\"data row1 col15\" >233</td> \n",
       "    </tr>    <tr> \n",
       "        <th id=\"T_438c39d4_4d7b_11e9_b430_d7d45de3d2bflevel0_row2\" class=\"row_heading level0 row2\" rowspan=2>male</th> \n",
       "        <th id=\"T_438c39d4_4d7b_11e9_b430_d7d45de3d2bflevel1_row2\" class=\"row_heading level1 row2\" >0</th> \n",
       "        <td id=\"T_438c39d4_4d7b_11e9_b430_d7d45de3d2bfrow2_col0\" class=\"data row2 col0\" >59</td> \n",
       "        <td id=\"T_438c39d4_4d7b_11e9_b430_d7d45de3d2bfrow2_col1\" class=\"data row2 col1\" >67</td> \n",
       "        <td id=\"T_438c39d4_4d7b_11e9_b430_d7d45de3d2bfrow2_col2\" class=\"data row2 col2\" >235</td> \n",
       "        <td id=\"T_438c39d4_4d7b_11e9_b430_d7d45de3d2bfrow2_col3\" class=\"data row2 col3\" >16</td> \n",
       "        <td id=\"T_438c39d4_4d7b_11e9_b430_d7d45de3d2bfrow2_col4\" class=\"data row2 col4\" >20</td> \n",
       "        <td id=\"T_438c39d4_4d7b_11e9_b430_d7d45de3d2bfrow2_col5\" class=\"data row2 col5\" >35</td> \n",
       "        <td id=\"T_438c39d4_4d7b_11e9_b430_d7d45de3d2bfrow2_col6\" class=\"data row2 col6\" >1</td> \n",
       "        <td id=\"T_438c39d4_4d7b_11e9_b430_d7d45de3d2bfrow2_col7\" class=\"data row2 col7\" >4</td> \n",
       "        <td id=\"T_438c39d4_4d7b_11e9_b430_d7d45de3d2bfrow2_col8\" class=\"data row2 col8\" >7</td> \n",
       "        <td id=\"T_438c39d4_4d7b_11e9_b430_d7d45de3d2bfrow2_col9\" class=\"data row2 col9\" >1</td> \n",
       "        <td id=\"T_438c39d4_4d7b_11e9_b430_d7d45de3d2bfrow2_col10\" class=\"data row2 col10\" >0</td> \n",
       "        <td id=\"T_438c39d4_4d7b_11e9_b430_d7d45de3d2bfrow2_col11\" class=\"data row2 col11\" >4</td> \n",
       "        <td id=\"T_438c39d4_4d7b_11e9_b430_d7d45de3d2bfrow2_col12\" class=\"data row2 col12\" >11</td> \n",
       "        <td id=\"T_438c39d4_4d7b_11e9_b430_d7d45de3d2bfrow2_col13\" class=\"data row2 col13\" >4</td> \n",
       "        <td id=\"T_438c39d4_4d7b_11e9_b430_d7d45de3d2bfrow2_col14\" class=\"data row2 col14\" >4</td> \n",
       "        <td id=\"T_438c39d4_4d7b_11e9_b430_d7d45de3d2bfrow2_col15\" class=\"data row2 col15\" >468</td> \n",
       "    </tr>    <tr> \n",
       "        <th id=\"T_438c39d4_4d7b_11e9_b430_d7d45de3d2bflevel1_row3\" class=\"row_heading level1 row3\" >1</th> \n",
       "        <td id=\"T_438c39d4_4d7b_11e9_b430_d7d45de3d2bfrow3_col0\" class=\"data row3 col0\" >29</td> \n",
       "        <td id=\"T_438c39d4_4d7b_11e9_b430_d7d45de3d2bfrow3_col1\" class=\"data row3 col1\" >9</td> \n",
       "        <td id=\"T_438c39d4_4d7b_11e9_b430_d7d45de3d2bfrow3_col2\" class=\"data row3 col2\" >35</td> \n",
       "        <td id=\"T_438c39d4_4d7b_11e9_b430_d7d45de3d2bfrow3_col3\" class=\"data row3 col3\" >15</td> \n",
       "        <td id=\"T_438c39d4_4d7b_11e9_b430_d7d45de3d2bfrow3_col4\" class=\"data row3 col4\" >7</td> \n",
       "        <td id=\"T_438c39d4_4d7b_11e9_b430_d7d45de3d2bfrow3_col5\" class=\"data row3 col5\" >10</td> \n",
       "        <td id=\"T_438c39d4_4d7b_11e9_b430_d7d45de3d2bfrow3_col6\" class=\"data row3 col6\" >1</td> \n",
       "        <td id=\"T_438c39d4_4d7b_11e9_b430_d7d45de3d2bfrow3_col7\" class=\"data row3 col7\" >1</td> \n",
       "        <td id=\"T_438c39d4_4d7b_11e9_b430_d7d45de3d2bfrow3_col8\" class=\"data row3 col8\" >1</td> \n",
       "        <td id=\"T_438c39d4_4d7b_11e9_b430_d7d45de3d2bfrow3_col9\" class=\"data row3 col9\" >0</td> \n",
       "        <td id=\"T_438c39d4_4d7b_11e9_b430_d7d45de3d2bfrow3_col10\" class=\"data row3 col10\" >0</td> \n",
       "        <td id=\"T_438c39d4_4d7b_11e9_b430_d7d45de3d2bfrow3_col11\" class=\"data row3 col11\" >0</td> \n",
       "        <td id=\"T_438c39d4_4d7b_11e9_b430_d7d45de3d2bfrow3_col12\" class=\"data row3 col12\" >1</td> \n",
       "        <td id=\"T_438c39d4_4d7b_11e9_b430_d7d45de3d2bfrow3_col13\" class=\"data row3 col13\" >0</td> \n",
       "        <td id=\"T_438c39d4_4d7b_11e9_b430_d7d45de3d2bfrow3_col14\" class=\"data row3 col14\" >0</td> \n",
       "        <td id=\"T_438c39d4_4d7b_11e9_b430_d7d45de3d2bfrow3_col15\" class=\"data row3 col15\" >109</td> \n",
       "    </tr>    <tr> \n",
       "        <th id=\"T_438c39d4_4d7b_11e9_b430_d7d45de3d2bflevel0_row4\" class=\"row_heading level0 row4\" >All</th> \n",
       "        <th id=\"T_438c39d4_4d7b_11e9_b430_d7d45de3d2bflevel1_row4\" class=\"row_heading level1 row4\" ></th> \n",
       "        <td id=\"T_438c39d4_4d7b_11e9_b430_d7d45de3d2bfrow4_col0\" class=\"data row4 col0\" >137</td> \n",
       "        <td id=\"T_438c39d4_4d7b_11e9_b430_d7d45de3d2bfrow4_col1\" class=\"data row4 col1\" >120</td> \n",
       "        <td id=\"T_438c39d4_4d7b_11e9_b430_d7d45de3d2bfrow4_col2\" class=\"data row4 col2\" >351</td> \n",
       "        <td id=\"T_438c39d4_4d7b_11e9_b430_d7d45de3d2bfrow4_col3\" class=\"data row4 col3\" >71</td> \n",
       "        <td id=\"T_438c39d4_4d7b_11e9_b430_d7d45de3d2bfrow4_col4\" class=\"data row4 col4\" >55</td> \n",
       "        <td id=\"T_438c39d4_4d7b_11e9_b430_d7d45de3d2bfrow4_col5\" class=\"data row4 col5\" >83</td> \n",
       "        <td id=\"T_438c39d4_4d7b_11e9_b430_d7d45de3d2bfrow4_col6\" class=\"data row4 col6\" >5</td> \n",
       "        <td id=\"T_438c39d4_4d7b_11e9_b430_d7d45de3d2bfrow4_col7\" class=\"data row4 col7\" >8</td> \n",
       "        <td id=\"T_438c39d4_4d7b_11e9_b430_d7d45de3d2bfrow4_col8\" class=\"data row4 col8\" >15</td> \n",
       "        <td id=\"T_438c39d4_4d7b_11e9_b430_d7d45de3d2bfrow4_col9\" class=\"data row4 col9\" >3</td> \n",
       "        <td id=\"T_438c39d4_4d7b_11e9_b430_d7d45de3d2bfrow4_col10\" class=\"data row4 col10\" >1</td> \n",
       "        <td id=\"T_438c39d4_4d7b_11e9_b430_d7d45de3d2bfrow4_col11\" class=\"data row4 col11\" >12</td> \n",
       "        <td id=\"T_438c39d4_4d7b_11e9_b430_d7d45de3d2bfrow4_col12\" class=\"data row4 col12\" >18</td> \n",
       "        <td id=\"T_438c39d4_4d7b_11e9_b430_d7d45de3d2bfrow4_col13\" class=\"data row4 col13\" >5</td> \n",
       "        <td id=\"T_438c39d4_4d7b_11e9_b430_d7d45de3d2bfrow4_col14\" class=\"data row4 col14\" >7</td> \n",
       "        <td id=\"T_438c39d4_4d7b_11e9_b430_d7d45de3d2bfrow4_col15\" class=\"data row4 col15\" >891</td> \n",
       "    </tr></tbody> \n",
       "</table> "
      ],
      "text/plain": [
       "<pandas.io.formats.style.Styler at 0x7fa616a650b8>"
      ]
     },
     "execution_count": 40,
     "metadata": {},
     "output_type": "execute_result"
    }
   ],
   "source": [
    "pd.crosstab([df_train.Sex, df_train.Survived], [df_train.SibSp, df_train.Pclass], margins=True).style.background_gradient(cmap='autumn_r')"
   ]
  },
  {
   "cell_type": "markdown",
   "metadata": {},
   "source": [
    "For males, no survival, rate above 0.5 for any values of SibSp. For females, passengers with SibSp = 3 and Pclass = 3 died, also all females with SibSp > 4 died. For females with SibSp = 1 and Pclass = 3 survival rate is below 0.5"
   ]
  },
  {
   "cell_type": "code",
   "execution_count": 41,
   "metadata": {},
   "outputs": [
    {
     "data": {
      "text/plain": [
       "<seaborn.axisgrid.FacetGrid at 0x7fa616f73358>"
      ]
     },
     "execution_count": 41,
     "metadata": {},
     "output_type": "execute_result"
    },
    {
     "data": {
      "image/png": "[encoded data removed]",
      "text/plain": [
       "<Figure size 1080x720 with 6 Axes>"
      ]
     },
     "metadata": {
      "needs_background": "light"
     },
     "output_type": "display_data"
    }
   ],
   "source": [
    "sns.catplot('Parch','Survived', col='Pclass' , row = 'Sex', kind='point', data=df_train)"
   ]
  },
  {
   "cell_type": "code",
   "execution_count": 42,
   "metadata": {},
   "outputs": [
    {
     "data": {
      "text/html": [
       "<style  type=\"text/css\" >\n",
       "    #T_4483a160_4d7b_11e9_b430_d7d45de3d2bfrow0_col0 {\n",
       "            background-color:  #ffff00;\n",
       "        }    #T_4483a160_4d7b_11e9_b430_d7d45de3d2bfrow0_col1 {\n",
       "            background-color:  #ffff00;\n",
       "        }    #T_4483a160_4d7b_11e9_b430_d7d45de3d2bfrow0_col2 {\n",
       "            background-color:  #ffff00;\n",
       "        }    #T_4483a160_4d7b_11e9_b430_d7d45de3d2bfrow0_col3 {\n",
       "            background-color:  #ffff00;\n",
       "        }    #T_4483a160_4d7b_11e9_b430_d7d45de3d2bfrow0_col4 {\n",
       "            background-color:  #ffff00;\n",
       "        }    #T_4483a160_4d7b_11e9_b430_d7d45de3d2bfrow0_col5 {\n",
       "            background-color:  #ffe400;\n",
       "        }    #T_4483a160_4d7b_11e9_b430_d7d45de3d2bfrow0_col6 {\n",
       "            background-color:  #ffff00;\n",
       "        }    #T_4483a160_4d7b_11e9_b430_d7d45de3d2bfrow0_col7 {\n",
       "            background-color:  #ffff00;\n",
       "        }    #T_4483a160_4d7b_11e9_b430_d7d45de3d2bfrow0_col8 {\n",
       "            background-color:  #ffa600;\n",
       "        }    #T_4483a160_4d7b_11e9_b430_d7d45de3d2bfrow0_col9 {\n",
       "            background-color:  #ffff00;\n",
       "        }    #T_4483a160_4d7b_11e9_b430_d7d45de3d2bfrow0_col10 {\n",
       "            background-color:  #ffaa00;\n",
       "        }    #T_4483a160_4d7b_11e9_b430_d7d45de3d2bfrow0_col11 {\n",
       "            background-color:  #ffff00;\n",
       "        }    #T_4483a160_4d7b_11e9_b430_d7d45de3d2bfrow0_col12 {\n",
       "            background-color:  #ff5500;\n",
       "        }    #T_4483a160_4d7b_11e9_b430_d7d45de3d2bfrow0_col13 {\n",
       "            background-color:  #ff6600;\n",
       "        }    #T_4483a160_4d7b_11e9_b430_d7d45de3d2bfrow0_col14 {\n",
       "            background-color:  #ff0000;\n",
       "        }    #T_4483a160_4d7b_11e9_b430_d7d45de3d2bfrow0_col15 {\n",
       "            background-color:  #ffff00;\n",
       "        }    #T_4483a160_4d7b_11e9_b430_d7d45de3d2bfrow1_col0 {\n",
       "            background-color:  #ff9e00;\n",
       "        }    #T_4483a160_4d7b_11e9_b430_d7d45de3d2bfrow1_col1 {\n",
       "            background-color:  #ffba00;\n",
       "        }    #T_4483a160_4d7b_11e9_b430_d7d45de3d2bfrow1_col2 {\n",
       "            background-color:  #fff400;\n",
       "        }    #T_4483a160_4d7b_11e9_b430_d7d45de3d2bfrow1_col3 {\n",
       "            background-color:  #ff7300;\n",
       "        }    #T_4483a160_4d7b_11e9_b430_d7d45de3d2bfrow1_col4 {\n",
       "            background-color:  #ff7b00;\n",
       "        }    #T_4483a160_4d7b_11e9_b430_d7d45de3d2bfrow1_col5 {\n",
       "            background-color:  #ffea00;\n",
       "        }    #T_4483a160_4d7b_11e9_b430_d7d45de3d2bfrow1_col6 {\n",
       "            background-color:  #ff8600;\n",
       "        }    #T_4483a160_4d7b_11e9_b430_d7d45de3d2bfrow1_col7 {\n",
       "            background-color:  #ff4f00;\n",
       "        }    #T_4483a160_4d7b_11e9_b430_d7d45de3d2bfrow1_col8 {\n",
       "            background-color:  #ffdf00;\n",
       "        }    #T_4483a160_4d7b_11e9_b430_d7d45de3d2bfrow1_col9 {\n",
       "            background-color:  #ff0000;\n",
       "        }    #T_4483a160_4d7b_11e9_b430_d7d45de3d2bfrow1_col10 {\n",
       "            background-color:  #ffaa00;\n",
       "        }    #T_4483a160_4d7b_11e9_b430_d7d45de3d2bfrow1_col11 {\n",
       "            background-color:  #ffff00;\n",
       "        }    #T_4483a160_4d7b_11e9_b430_d7d45de3d2bfrow1_col12 {\n",
       "            background-color:  #ffff00;\n",
       "        }    #T_4483a160_4d7b_11e9_b430_d7d45de3d2bfrow1_col13 {\n",
       "            background-color:  #ffcc00;\n",
       "        }    #T_4483a160_4d7b_11e9_b430_d7d45de3d2bfrow1_col14 {\n",
       "            background-color:  #ffff00;\n",
       "        }    #T_4483a160_4d7b_11e9_b430_d7d45de3d2bfrow1_col15 {\n",
       "            background-color:  #ffcf00;\n",
       "        }    #T_4483a160_4d7b_11e9_b430_d7d45de3d2bfrow2_col0 {\n",
       "            background-color:  #ff9e00;\n",
       "        }    #T_4483a160_4d7b_11e9_b430_d7d45de3d2bfrow2_col1 {\n",
       "            background-color:  #ff6900;\n",
       "        }    #T_4483a160_4d7b_11e9_b430_d7d45de3d2bfrow2_col2 {\n",
       "            background-color:  #ff5900;\n",
       "        }    #T_4483a160_4d7b_11e9_b430_d7d45de3d2bfrow2_col3 {\n",
       "            background-color:  #ffad00;\n",
       "        }    #T_4483a160_4d7b_11e9_b430_d7d45de3d2bfrow2_col4 {\n",
       "            background-color:  #ffce00;\n",
       "        }    #T_4483a160_4d7b_11e9_b430_d7d45de3d2bfrow2_col5 {\n",
       "            background-color:  #ffb300;\n",
       "        }    #T_4483a160_4d7b_11e9_b430_d7d45de3d2bfrow2_col6 {\n",
       "            background-color:  #fff200;\n",
       "        }    #T_4483a160_4d7b_11e9_b430_d7d45de3d2bfrow2_col7 {\n",
       "            background-color:  #ffcf00;\n",
       "        }    #T_4483a160_4d7b_11e9_b430_d7d45de3d2bfrow2_col8 {\n",
       "            background-color:  #ffb300;\n",
       "        }    #T_4483a160_4d7b_11e9_b430_d7d45de3d2bfrow2_col9 {\n",
       "            background-color:  #ffff00;\n",
       "        }    #T_4483a160_4d7b_11e9_b430_d7d45de3d2bfrow2_col10 {\n",
       "            background-color:  #ffaa00;\n",
       "        }    #T_4483a160_4d7b_11e9_b430_d7d45de3d2bfrow2_col11 {\n",
       "            background-color:  #ff0000;\n",
       "        }    #T_4483a160_4d7b_11e9_b430_d7d45de3d2bfrow2_col12 {\n",
       "            background-color:  #ffaa00;\n",
       "        }    #T_4483a160_4d7b_11e9_b430_d7d45de3d2bfrow2_col13 {\n",
       "            background-color:  #ffcc00;\n",
       "        }    #T_4483a160_4d7b_11e9_b430_d7d45de3d2bfrow2_col14 {\n",
       "            background-color:  #ffff00;\n",
       "        }    #T_4483a160_4d7b_11e9_b430_d7d45de3d2bfrow2_col15 {\n",
       "            background-color:  #ff8500;\n",
       "        }    #T_4483a160_4d7b_11e9_b430_d7d45de3d2bfrow3_col0 {\n",
       "            background-color:  #ffc800;\n",
       "        }    #T_4483a160_4d7b_11e9_b430_d7d45de3d2bfrow3_col1 {\n",
       "            background-color:  #fffa00;\n",
       "        }    #T_4483a160_4d7b_11e9_b430_d7d45de3d2bfrow3_col2 {\n",
       "            background-color:  #ffff00;\n",
       "        }    #T_4483a160_4d7b_11e9_b430_d7d45de3d2bfrow3_col3 {\n",
       "            background-color:  #ffde00;\n",
       "        }    #T_4483a160_4d7b_11e9_b430_d7d45de3d2bfrow3_col4 {\n",
       "            background-color:  #ffce00;\n",
       "        }    #T_4483a160_4d7b_11e9_b430_d7d45de3d2bfrow3_col5 {\n",
       "            background-color:  #ffff00;\n",
       "        }    #T_4483a160_4d7b_11e9_b430_d7d45de3d2bfrow3_col6 {\n",
       "            background-color:  #ffd700;\n",
       "        }    #T_4483a160_4d7b_11e9_b430_d7d45de3d2bfrow3_col7 {\n",
       "            background-color:  #ffdf00;\n",
       "        }    #T_4483a160_4d7b_11e9_b430_d7d45de3d2bfrow3_col8 {\n",
       "            background-color:  #ffff00;\n",
       "        }    #T_4483a160_4d7b_11e9_b430_d7d45de3d2bfrow3_col9 {\n",
       "            background-color:  #ffff00;\n",
       "        }    #T_4483a160_4d7b_11e9_b430_d7d45de3d2bfrow3_col10 {\n",
       "            background-color:  #ffff00;\n",
       "        }    #T_4483a160_4d7b_11e9_b430_d7d45de3d2bfrow3_col11 {\n",
       "            background-color:  #ffff00;\n",
       "        }    #T_4483a160_4d7b_11e9_b430_d7d45de3d2bfrow3_col12 {\n",
       "            background-color:  #ffff00;\n",
       "        }    #T_4483a160_4d7b_11e9_b430_d7d45de3d2bfrow3_col13 {\n",
       "            background-color:  #ffff00;\n",
       "        }    #T_4483a160_4d7b_11e9_b430_d7d45de3d2bfrow3_col14 {\n",
       "            background-color:  #ffff00;\n",
       "        }    #T_4483a160_4d7b_11e9_b430_d7d45de3d2bfrow3_col15 {\n",
       "            background-color:  #fff700;\n",
       "        }    #T_4483a160_4d7b_11e9_b430_d7d45de3d2bfrow4_col0 {\n",
       "            background-color:  #ff0000;\n",
       "        }    #T_4483a160_4d7b_11e9_b430_d7d45de3d2bfrow4_col1 {\n",
       "            background-color:  #ff0000;\n",
       "        }    #T_4483a160_4d7b_11e9_b430_d7d45de3d2bfrow4_col2 {\n",
       "            background-color:  #ff0000;\n",
       "        }    #T_4483a160_4d7b_11e9_b430_d7d45de3d2bfrow4_col3 {\n",
       "            background-color:  #ff0000;\n",
       "        }    #T_4483a160_4d7b_11e9_b430_d7d45de3d2bfrow4_col4 {\n",
       "            background-color:  #ff0000;\n",
       "        }    #T_4483a160_4d7b_11e9_b430_d7d45de3d2bfrow4_col5 {\n",
       "            background-color:  #ff0000;\n",
       "        }    #T_4483a160_4d7b_11e9_b430_d7d45de3d2bfrow4_col6 {\n",
       "            background-color:  #ff0000;\n",
       "        }    #T_4483a160_4d7b_11e9_b430_d7d45de3d2bfrow4_col7 {\n",
       "            background-color:  #ff0000;\n",
       "        }    #T_4483a160_4d7b_11e9_b430_d7d45de3d2bfrow4_col8 {\n",
       "            background-color:  #ff0000;\n",
       "        }    #T_4483a160_4d7b_11e9_b430_d7d45de3d2bfrow4_col9 {\n",
       "            background-color:  #ff0000;\n",
       "        }    #T_4483a160_4d7b_11e9_b430_d7d45de3d2bfrow4_col10 {\n",
       "            background-color:  #ff0000;\n",
       "        }    #T_4483a160_4d7b_11e9_b430_d7d45de3d2bfrow4_col11 {\n",
       "            background-color:  #ff0000;\n",
       "        }    #T_4483a160_4d7b_11e9_b430_d7d45de3d2bfrow4_col12 {\n",
       "            background-color:  #ff0000;\n",
       "        }    #T_4483a160_4d7b_11e9_b430_d7d45de3d2bfrow4_col13 {\n",
       "            background-color:  #ff0000;\n",
       "        }    #T_4483a160_4d7b_11e9_b430_d7d45de3d2bfrow4_col14 {\n",
       "            background-color:  #ff0000;\n",
       "        }    #T_4483a160_4d7b_11e9_b430_d7d45de3d2bfrow4_col15 {\n",
       "            background-color:  #ff0000;\n",
       "        }</style>  \n",
       "<table id=\"T_4483a160_4d7b_11e9_b430_d7d45de3d2bf\" > \n",
       "<thead>    <tr> \n",
       "        <th class=\"blank\" ></th> \n",
       "        <th class=\"index_name level0\" >Parch</th> \n",
       "        <th class=\"col_heading level0 col0\" colspan=3>0</th> \n",
       "        <th class=\"col_heading level0 col3\" colspan=3>1</th> \n",
       "        <th class=\"col_heading level0 col6\" colspan=3>2</th> \n",
       "        <th class=\"col_heading level0 col9\" colspan=2>3</th> \n",
       "        <th class=\"col_heading level0 col11\" colspan=2>4</th> \n",
       "        <th class=\"col_heading level0 col13\" >5</th> \n",
       "        <th class=\"col_heading level0 col14\" >6</th> \n",
       "        <th class=\"col_heading level0 col15\" >All</th> \n",
       "    </tr>    <tr> \n",
       "        <th class=\"blank\" ></th> \n",
       "        <th class=\"index_name level1\" >Pclass</th> \n",
       "        <th class=\"col_heading level1 col0\" >1</th> \n",
       "        <th class=\"col_heading level1 col1\" >2</th> \n",
       "        <th class=\"col_heading level1 col2\" >3</th> \n",
       "        <th class=\"col_heading level1 col3\" >1</th> \n",
       "        <th class=\"col_heading level1 col4\" >2</th> \n",
       "        <th class=\"col_heading level1 col5\" >3</th> \n",
       "        <th class=\"col_heading level1 col6\" >1</th> \n",
       "        <th class=\"col_heading level1 col7\" >2</th> \n",
       "        <th class=\"col_heading level1 col8\" >3</th> \n",
       "        <th class=\"col_heading level1 col9\" >2</th> \n",
       "        <th class=\"col_heading level1 col10\" >3</th> \n",
       "        <th class=\"col_heading level1 col11\" >1</th> \n",
       "        <th class=\"col_heading level1 col12\" >3</th> \n",
       "        <th class=\"col_heading level1 col13\" >3</th> \n",
       "        <th class=\"col_heading level1 col14\" >3</th> \n",
       "        <th class=\"col_heading level1 col15\" ></th> \n",
       "    </tr>    <tr> \n",
       "        <th class=\"index_name level0\" >Sex</th> \n",
       "        <th class=\"index_name level1\" >Survived</th> \n",
       "        <th class=\"blank\" ></th> \n",
       "        <th class=\"blank\" ></th> \n",
       "        <th class=\"blank\" ></th> \n",
       "        <th class=\"blank\" ></th> \n",
       "        <th class=\"blank\" ></th> \n",
       "        <th class=\"blank\" ></th> \n",
       "        <th class=\"blank\" ></th> \n",
       "        <th class=\"blank\" ></th> \n",
       "        <th class=\"blank\" ></th> \n",
       "        <th class=\"blank\" ></th> \n",
       "        <th class=\"blank\" ></th> \n",
       "        <th class=\"blank\" ></th> \n",
       "        <th class=\"blank\" ></th> \n",
       "        <th class=\"blank\" ></th> \n",
       "        <th class=\"blank\" ></th> \n",
       "        <th class=\"blank\" ></th> \n",
       "    </tr></thead> \n",
       "<tbody>    <tr> \n",
       "        <th id=\"T_4483a160_4d7b_11e9_b430_d7d45de3d2bflevel0_row0\" class=\"row_heading level0 row0\" rowspan=2>female</th> \n",
       "        <th id=\"T_4483a160_4d7b_11e9_b430_d7d45de3d2bflevel1_row0\" class=\"row_heading level1 row0\" >0</th> \n",
       "        <td id=\"T_4483a160_4d7b_11e9_b430_d7d45de3d2bfrow0_col0\" class=\"data row0 col0\" >1</td> \n",
       "        <td id=\"T_4483a160_4d7b_11e9_b430_d7d45de3d2bfrow0_col1\" class=\"data row0 col1\" >5</td> \n",
       "        <td id=\"T_4483a160_4d7b_11e9_b430_d7d45de3d2bfrow0_col2\" class=\"data row0 col2\" >35</td> \n",
       "        <td id=\"T_4483a160_4d7b_11e9_b430_d7d45de3d2bfrow0_col3\" class=\"data row0 col3\" >0</td> \n",
       "        <td id=\"T_4483a160_4d7b_11e9_b430_d7d45de3d2bfrow0_col4\" class=\"data row0 col4\" >1</td> \n",
       "        <td id=\"T_4483a160_4d7b_11e9_b430_d7d45de3d2bfrow0_col5\" class=\"data row0 col5\" >13</td> \n",
       "        <td id=\"T_4483a160_4d7b_11e9_b430_d7d45de3d2bfrow0_col6\" class=\"data row0 col6\" >2</td> \n",
       "        <td id=\"T_4483a160_4d7b_11e9_b430_d7d45de3d2bfrow0_col7\" class=\"data row0 col7\" >0</td> \n",
       "        <td id=\"T_4483a160_4d7b_11e9_b430_d7d45de3d2bfrow0_col8\" class=\"data row0 col8\" >17</td> \n",
       "        <td id=\"T_4483a160_4d7b_11e9_b430_d7d45de3d2bfrow0_col9\" class=\"data row0 col9\" >0</td> \n",
       "        <td id=\"T_4483a160_4d7b_11e9_b430_d7d45de3d2bfrow0_col10\" class=\"data row0 col10\" >1</td> \n",
       "        <td id=\"T_4483a160_4d7b_11e9_b430_d7d45de3d2bfrow0_col11\" class=\"data row0 col11\" >0</td> \n",
       "        <td id=\"T_4483a160_4d7b_11e9_b430_d7d45de3d2bfrow0_col12\" class=\"data row0 col12\" >2</td> \n",
       "        <td id=\"T_4483a160_4d7b_11e9_b430_d7d45de3d2bfrow0_col13\" class=\"data row0 col13\" >3</td> \n",
       "        <td id=\"T_4483a160_4d7b_11e9_b430_d7d45de3d2bfrow0_col14\" class=\"data row0 col14\" >1</td> \n",
       "        <td id=\"T_4483a160_4d7b_11e9_b430_d7d45de3d2bfrow0_col15\" class=\"data row0 col15\" >81</td> \n",
       "    </tr>    <tr> \n",
       "        <th id=\"T_4483a160_4d7b_11e9_b430_d7d45de3d2bflevel1_row1\" class=\"row_heading level1 row1\" >1</th> \n",
       "        <td id=\"T_4483a160_4d7b_11e9_b430_d7d45de3d2bfrow1_col0\" class=\"data row1 col0\" >63</td> \n",
       "        <td id=\"T_4483a160_4d7b_11e9_b430_d7d45de3d2bfrow1_col1\" class=\"data row1 col1\" >40</td> \n",
       "        <td id=\"T_4483a160_4d7b_11e9_b430_d7d45de3d2bfrow1_col2\" class=\"data row1 col2\" >50</td> \n",
       "        <td id=\"T_4483a160_4d7b_11e9_b430_d7d45de3d2bfrow1_col3\" class=\"data row1 col3\" >17</td> \n",
       "        <td id=\"T_4483a160_4d7b_11e9_b430_d7d45de3d2bfrow1_col4\" class=\"data row1 col4\" >17</td> \n",
       "        <td id=\"T_4483a160_4d7b_11e9_b430_d7d45de3d2bfrow1_col5\" class=\"data row1 col5\" >12</td> \n",
       "        <td id=\"T_4483a160_4d7b_11e9_b430_d7d45de3d2bfrow1_col6\" class=\"data row1 col6\" >11</td> \n",
       "        <td id=\"T_4483a160_4d7b_11e9_b430_d7d45de3d2bfrow1_col7\" class=\"data row1 col7\" >11</td> \n",
       "        <td id=\"T_4483a160_4d7b_11e9_b430_d7d45de3d2bfrow1_col8\" class=\"data row1 col8\" >8</td> \n",
       "        <td id=\"T_4483a160_4d7b_11e9_b430_d7d45de3d2bfrow1_col9\" class=\"data row1 col9\" >2</td> \n",
       "        <td id=\"T_4483a160_4d7b_11e9_b430_d7d45de3d2bfrow1_col10\" class=\"data row1 col10\" >1</td> \n",
       "        <td id=\"T_4483a160_4d7b_11e9_b430_d7d45de3d2bfrow1_col11\" class=\"data row1 col11\" >0</td> \n",
       "        <td id=\"T_4483a160_4d7b_11e9_b430_d7d45de3d2bfrow1_col12\" class=\"data row1 col12\" >0</td> \n",
       "        <td id=\"T_4483a160_4d7b_11e9_b430_d7d45de3d2bfrow1_col13\" class=\"data row1 col13\" >1</td> \n",
       "        <td id=\"T_4483a160_4d7b_11e9_b430_d7d45de3d2bfrow1_col14\" class=\"data row1 col14\" >0</td> \n",
       "        <td id=\"T_4483a160_4d7b_11e9_b430_d7d45de3d2bfrow1_col15\" class=\"data row1 col15\" >233</td> \n",
       "    </tr>    <tr> \n",
       "        <th id=\"T_4483a160_4d7b_11e9_b430_d7d45de3d2bflevel0_row2\" class=\"row_heading level0 row2\" rowspan=2>male</th> \n",
       "        <th id=\"T_4483a160_4d7b_11e9_b430_d7d45de3d2bflevel1_row2\" class=\"row_heading level1 row2\" >0</th> \n",
       "        <td id=\"T_4483a160_4d7b_11e9_b430_d7d45de3d2bfrow2_col0\" class=\"data row2 col0\" >63</td> \n",
       "        <td id=\"T_4483a160_4d7b_11e9_b430_d7d45de3d2bfrow2_col1\" class=\"data row2 col1\" >81</td> \n",
       "        <td id=\"T_4483a160_4d7b_11e9_b430_d7d45de3d2bfrow2_col2\" class=\"data row2 col2\" >260</td> \n",
       "        <td id=\"T_4483a160_4d7b_11e9_b430_d7d45de3d2bfrow2_col3\" class=\"data row2 col3\" >10</td> \n",
       "        <td id=\"T_4483a160_4d7b_11e9_b430_d7d45de3d2bfrow2_col4\" class=\"data row2 col4\" >7</td> \n",
       "        <td id=\"T_4483a160_4d7b_11e9_b430_d7d45de3d2bfrow2_col5\" class=\"data row2 col5\" >22</td> \n",
       "        <td id=\"T_4483a160_4d7b_11e9_b430_d7d45de3d2bfrow2_col6\" class=\"data row2 col6\" >3</td> \n",
       "        <td id=\"T_4483a160_4d7b_11e9_b430_d7d45de3d2bfrow2_col7\" class=\"data row2 col7\" >3</td> \n",
       "        <td id=\"T_4483a160_4d7b_11e9_b430_d7d45de3d2bfrow2_col8\" class=\"data row2 col8\" >15</td> \n",
       "        <td id=\"T_4483a160_4d7b_11e9_b430_d7d45de3d2bfrow2_col9\" class=\"data row2 col9\" >0</td> \n",
       "        <td id=\"T_4483a160_4d7b_11e9_b430_d7d45de3d2bfrow2_col10\" class=\"data row2 col10\" >1</td> \n",
       "        <td id=\"T_4483a160_4d7b_11e9_b430_d7d45de3d2bfrow2_col11\" class=\"data row2 col11\" >1</td> \n",
       "        <td id=\"T_4483a160_4d7b_11e9_b430_d7d45de3d2bfrow2_col12\" class=\"data row2 col12\" >1</td> \n",
       "        <td id=\"T_4483a160_4d7b_11e9_b430_d7d45de3d2bfrow2_col13\" class=\"data row2 col13\" >1</td> \n",
       "        <td id=\"T_4483a160_4d7b_11e9_b430_d7d45de3d2bfrow2_col14\" class=\"data row2 col14\" >0</td> \n",
       "        <td id=\"T_4483a160_4d7b_11e9_b430_d7d45de3d2bfrow2_col15\" class=\"data row2 col15\" >468</td> \n",
       "    </tr>    <tr> \n",
       "        <th id=\"T_4483a160_4d7b_11e9_b430_d7d45de3d2bflevel1_row3\" class=\"row_heading level1 row3\" >1</th> \n",
       "        <td id=\"T_4483a160_4d7b_11e9_b430_d7d45de3d2bfrow3_col0\" class=\"data row3 col0\" >36</td> \n",
       "        <td id=\"T_4483a160_4d7b_11e9_b430_d7d45de3d2bfrow3_col1\" class=\"data row3 col1\" >8</td> \n",
       "        <td id=\"T_4483a160_4d7b_11e9_b430_d7d45de3d2bfrow3_col2\" class=\"data row3 col2\" >36</td> \n",
       "        <td id=\"T_4483a160_4d7b_11e9_b430_d7d45de3d2bfrow3_col3\" class=\"data row3 col3\" >4</td> \n",
       "        <td id=\"T_4483a160_4d7b_11e9_b430_d7d45de3d2bfrow3_col4\" class=\"data row3 col4\" >7</td> \n",
       "        <td id=\"T_4483a160_4d7b_11e9_b430_d7d45de3d2bfrow3_col5\" class=\"data row3 col5\" >8</td> \n",
       "        <td id=\"T_4483a160_4d7b_11e9_b430_d7d45de3d2bfrow3_col6\" class=\"data row3 col6\" >5</td> \n",
       "        <td id=\"T_4483a160_4d7b_11e9_b430_d7d45de3d2bfrow3_col7\" class=\"data row3 col7\" >2</td> \n",
       "        <td id=\"T_4483a160_4d7b_11e9_b430_d7d45de3d2bfrow3_col8\" class=\"data row3 col8\" >3</td> \n",
       "        <td id=\"T_4483a160_4d7b_11e9_b430_d7d45de3d2bfrow3_col9\" class=\"data row3 col9\" >0</td> \n",
       "        <td id=\"T_4483a160_4d7b_11e9_b430_d7d45de3d2bfrow3_col10\" class=\"data row3 col10\" >0</td> \n",
       "        <td id=\"T_4483a160_4d7b_11e9_b430_d7d45de3d2bfrow3_col11\" class=\"data row3 col11\" >0</td> \n",
       "        <td id=\"T_4483a160_4d7b_11e9_b430_d7d45de3d2bfrow3_col12\" class=\"data row3 col12\" >0</td> \n",
       "        <td id=\"T_4483a160_4d7b_11e9_b430_d7d45de3d2bfrow3_col13\" class=\"data row3 col13\" >0</td> \n",
       "        <td id=\"T_4483a160_4d7b_11e9_b430_d7d45de3d2bfrow3_col14\" class=\"data row3 col14\" >0</td> \n",
       "        <td id=\"T_4483a160_4d7b_11e9_b430_d7d45de3d2bfrow3_col15\" class=\"data row3 col15\" >109</td> \n",
       "    </tr>    <tr> \n",
       "        <th id=\"T_4483a160_4d7b_11e9_b430_d7d45de3d2bflevel0_row4\" class=\"row_heading level0 row4\" >All</th> \n",
       "        <th id=\"T_4483a160_4d7b_11e9_b430_d7d45de3d2bflevel1_row4\" class=\"row_heading level1 row4\" ></th> \n",
       "        <td id=\"T_4483a160_4d7b_11e9_b430_d7d45de3d2bfrow4_col0\" class=\"data row4 col0\" >163</td> \n",
       "        <td id=\"T_4483a160_4d7b_11e9_b430_d7d45de3d2bfrow4_col1\" class=\"data row4 col1\" >134</td> \n",
       "        <td id=\"T_4483a160_4d7b_11e9_b430_d7d45de3d2bfrow4_col2\" class=\"data row4 col2\" >381</td> \n",
       "        <td id=\"T_4483a160_4d7b_11e9_b430_d7d45de3d2bfrow4_col3\" class=\"data row4 col3\" >31</td> \n",
       "        <td id=\"T_4483a160_4d7b_11e9_b430_d7d45de3d2bfrow4_col4\" class=\"data row4 col4\" >32</td> \n",
       "        <td id=\"T_4483a160_4d7b_11e9_b430_d7d45de3d2bfrow4_col5\" class=\"data row4 col5\" >55</td> \n",
       "        <td id=\"T_4483a160_4d7b_11e9_b430_d7d45de3d2bfrow4_col6\" class=\"data row4 col6\" >21</td> \n",
       "        <td id=\"T_4483a160_4d7b_11e9_b430_d7d45de3d2bfrow4_col7\" class=\"data row4 col7\" >16</td> \n",
       "        <td id=\"T_4483a160_4d7b_11e9_b430_d7d45de3d2bfrow4_col8\" class=\"data row4 col8\" >43</td> \n",
       "        <td id=\"T_4483a160_4d7b_11e9_b430_d7d45de3d2bfrow4_col9\" class=\"data row4 col9\" >2</td> \n",
       "        <td id=\"T_4483a160_4d7b_11e9_b430_d7d45de3d2bfrow4_col10\" class=\"data row4 col10\" >3</td> \n",
       "        <td id=\"T_4483a160_4d7b_11e9_b430_d7d45de3d2bfrow4_col11\" class=\"data row4 col11\" >1</td> \n",
       "        <td id=\"T_4483a160_4d7b_11e9_b430_d7d45de3d2bfrow4_col12\" class=\"data row4 col12\" >3</td> \n",
       "        <td id=\"T_4483a160_4d7b_11e9_b430_d7d45de3d2bfrow4_col13\" class=\"data row4 col13\" >5</td> \n",
       "        <td id=\"T_4483a160_4d7b_11e9_b430_d7d45de3d2bfrow4_col14\" class=\"data row4 col14\" >1</td> \n",
       "        <td id=\"T_4483a160_4d7b_11e9_b430_d7d45de3d2bfrow4_col15\" class=\"data row4 col15\" >891</td> \n",
       "    </tr></tbody> \n",
       "</table> "
      ],
      "text/plain": [
       "<pandas.io.formats.style.Styler at 0x7fa616c43198>"
      ]
     },
     "execution_count": 42,
     "metadata": {},
     "output_type": "execute_result"
    }
   ],
   "source": [
    "pd.crosstab([df_train.Sex, df_train.Survived], [df_train.Parch, df_train.Pclass], margins=True).style.background_gradient(cmap='autumn_r')"
   ]
  },
  {
   "cell_type": "markdown",
   "metadata": {},
   "source": [
    "Very similar to SibSp, but different values.\n",
    "* For females with Parch = 2 and Pclass = 3 survival rate is below 0.5  \n",
    "* All females with Parch = 4 and Pclass = 3 died.\n",
    "* All females with Parch > 4 died.\n",
    "* For females with Parch = 1 and Pclass = 3 survival rate is below 0.5\n",
    "* For males,all survival rates below 0.5 for any values of Parch, except for Parch = 2 and Pclass = 1."
   ]
  },
  {
   "cell_type": "markdown",
   "metadata": {},
   "source": [
    "**Continue with Fare**\n",
    "\n",
    "Let see it's distribution"
   ]
  },
  {
   "cell_type": "code",
   "execution_count": 43,
   "metadata": {},
   "outputs": [
    {
     "data": {
      "text/plain": [
       "<matplotlib.axes._subplots.AxesSubplot at 0x7fa616bcb0f0>"
      ]
     },
     "execution_count": 43,
     "metadata": {},
     "output_type": "execute_result"
    },
    {
     "data": {
      "image/png": "[encoded data removed]",
      "text/plain": [
       "<Figure size 432x288 with 1 Axes>"
      ]
     },
     "metadata": {
      "needs_background": "light"
     },
     "output_type": "display_data"
    }
   ],
   "source": [
    "sns.distplot(df_train['Fare'])"
   ]
  },
  {
   "cell_type": "markdown",
   "metadata": {},
   "source": [
    "Create 12 bin of Fares"
   ]
  },
  {
   "cell_type": "code",
   "execution_count": 44,
   "metadata": {},
   "outputs": [],
   "source": [
    "for df in [df_train, df_test]:\n",
    "    df['Fare_bin']=np.nan\n",
    "    for i in range(12,0,-1):\n",
    "        df.loc[ df['Fare'] <= i*50, 'Fare_bin'] = i"
   ]
  },
  {
   "cell_type": "code",
   "execution_count": 45,
   "metadata": {},
   "outputs": [
    {
     "data": {
      "text/plain": [
       "0    1.0\n",
       "1    2.0\n",
       "2    1.0\n",
       "3    2.0\n",
       "4    1.0\n",
       "5    1.0\n",
       "6    2.0\n",
       "7    1.0\n",
       "8    1.0\n",
       "9    1.0\n",
       "Name: Fare_bin, dtype: float64"
      ]
     },
     "execution_count": 45,
     "metadata": {},
     "output_type": "execute_result"
    }
   ],
   "source": [
    "df_train['Fare_bin'].head(10)"
   ]
  },
  {
   "cell_type": "code",
   "execution_count": 46,
   "metadata": {},
   "outputs": [
    {
     "data": {
      "text/plain": [
       "<seaborn.axisgrid.FacetGrid at 0x7fa616eec898>"
      ]
     },
     "execution_count": 46,
     "metadata": {},
     "output_type": "execute_result"
    },
    {
     "data": {
      "image/png": "[encoded data removed]",
      "text/plain": [
       "<Figure size 720x360 with 2 Axes>"
      ]
     },
     "metadata": {
      "needs_background": "light"
     },
     "output_type": "display_data"
    }
   ],
   "source": [
    "sns.catplot(x='Fare_bin',y='Survived',col='Sex',  kind='bar', data=df_train)"
   ]
  },
  {
   "cell_type": "code",
   "execution_count": 47,
   "metadata": {},
   "outputs": [
    {
     "data": {
      "text/plain": [
       "<seaborn.axisgrid.FacetGrid at 0x7fa6168a6710>"
      ]
     },
     "execution_count": 47,
     "metadata": {},
     "output_type": "execute_result"
    },
    {
     "data": {
      "image/png": "[encoded data removed]",
      "text/plain": [
       "<Figure size 1080x720 with 6 Axes>"
      ]
     },
     "metadata": {
      "needs_background": "light"
     },
     "output_type": "display_data"
    }
   ],
   "source": [
    "sns.catplot('Fare_bin','Survived', col='Pclass' , row = 'Sex', kind='point', data=df_train)"
   ]
  },
  {
   "cell_type": "markdown",
   "metadata": {},
   "source": [
    "* All males in Pclass 1 and Fare_bin = 11 survived.\n",
    "* For males in Pclass 2 survival rates < 20%\n",
    "* For males in Pclass 3 survival rates < 50%\n",
    "* Females in Pclass 1 and Fare_bin = 2.0, 3.0, 5.0, 6.0, 11.0 survived\n",
    "* Females in Pclass 2 and Fare_bin = 2.0 survived.\n",
    "* Females in Pclass 2 and 3 regardless of fares survival rates <= 0.5"
   ]
  },
  {
   "cell_type": "code",
   "execution_count": 48,
   "metadata": {},
   "outputs": [
    {
     "data": {
      "text/html": [
       "<style  type=\"text/css\" >\n",
       "    #T_46085b66_4d7b_11e9_b430_d7d45de3d2bfrow0_col0 {\n",
       "            background-color:  #ffff00;\n",
       "        }    #T_46085b66_4d7b_11e9_b430_d7d45de3d2bfrow0_col1 {\n",
       "            background-color:  #ffff00;\n",
       "        }    #T_46085b66_4d7b_11e9_b430_d7d45de3d2bfrow0_col2 {\n",
       "            background-color:  #fff000;\n",
       "        }    #T_46085b66_4d7b_11e9_b430_d7d45de3d2bfrow0_col3 {\n",
       "            background-color:  #ffff00;\n",
       "        }    #T_46085b66_4d7b_11e9_b430_d7d45de3d2bfrow0_col4 {\n",
       "            background-color:  #ffff00;\n",
       "        }    #T_46085b66_4d7b_11e9_b430_d7d45de3d2bfrow0_col5 {\n",
       "            background-color:  #ffc900;\n",
       "        }    #T_46085b66_4d7b_11e9_b430_d7d45de3d2bfrow0_col6 {\n",
       "            background-color:  #ffff00;\n",
       "        }    #T_46085b66_4d7b_11e9_b430_d7d45de3d2bfrow0_col7 {\n",
       "            background-color:  #ffdf00;\n",
       "        }    #T_46085b66_4d7b_11e9_b430_d7d45de3d2bfrow0_col8 {\n",
       "            background-color:  #ffff00;\n",
       "        }    #T_46085b66_4d7b_11e9_b430_d7d45de3d2bfrow0_col9 {\n",
       "            background-color:  #ffff00;\n",
       "        }    #T_46085b66_4d7b_11e9_b430_d7d45de3d2bfrow0_col10 {\n",
       "            background-color:  #ffff00;\n",
       "        }    #T_46085b66_4d7b_11e9_b430_d7d45de3d2bfrow0_col11 {\n",
       "            background-color:  #ffff00;\n",
       "        }    #T_46085b66_4d7b_11e9_b430_d7d45de3d2bfrow1_col0 {\n",
       "            background-color:  #ffde00;\n",
       "        }    #T_46085b66_4d7b_11e9_b430_d7d45de3d2bfrow1_col1 {\n",
       "            background-color:  #ffa300;\n",
       "        }    #T_46085b66_4d7b_11e9_b430_d7d45de3d2bfrow1_col2 {\n",
       "            background-color:  #ffee00;\n",
       "        }    #T_46085b66_4d7b_11e9_b430_d7d45de3d2bfrow1_col3 {\n",
       "            background-color:  #ff7100;\n",
       "        }    #T_46085b66_4d7b_11e9_b430_d7d45de3d2bfrow1_col4 {\n",
       "            background-color:  #ffb600;\n",
       "        }    #T_46085b66_4d7b_11e9_b430_d7d45de3d2bfrow1_col5 {\n",
       "            background-color:  #ffff00;\n",
       "        }    #T_46085b66_4d7b_11e9_b430_d7d45de3d2bfrow1_col6 {\n",
       "            background-color:  #ff5f00;\n",
       "        }    #T_46085b66_4d7b_11e9_b430_d7d45de3d2bfrow1_col7 {\n",
       "            background-color:  #ff7f00;\n",
       "        }    #T_46085b66_4d7b_11e9_b430_d7d45de3d2bfrow1_col8 {\n",
       "            background-color:  #ff5d00;\n",
       "        }    #T_46085b66_4d7b_11e9_b430_d7d45de3d2bfrow1_col9 {\n",
       "            background-color:  #ff5500;\n",
       "        }    #T_46085b66_4d7b_11e9_b430_d7d45de3d2bfrow1_col10 {\n",
       "            background-color:  #ffaa00;\n",
       "        }    #T_46085b66_4d7b_11e9_b430_d7d45de3d2bfrow1_col11 {\n",
       "            background-color:  #ffcf00;\n",
       "        }    #T_46085b66_4d7b_11e9_b430_d7d45de3d2bfrow2_col0 {\n",
       "            background-color:  #ff7500;\n",
       "        }    #T_46085b66_4d7b_11e9_b430_d7d45de3d2bfrow2_col1 {\n",
       "            background-color:  #ff8800;\n",
       "        }    #T_46085b66_4d7b_11e9_b430_d7d45de3d2bfrow2_col2 {\n",
       "            background-color:  #ff6b00;\n",
       "        }    #T_46085b66_4d7b_11e9_b430_d7d45de3d2bfrow2_col3 {\n",
       "            background-color:  #ffbb00;\n",
       "        }    #T_46085b66_4d7b_11e9_b430_d7d45de3d2bfrow2_col4 {\n",
       "            background-color:  #ff4900;\n",
       "        }    #T_46085b66_4d7b_11e9_b430_d7d45de3d2bfrow2_col5 {\n",
       "            background-color:  #ff9200;\n",
       "        }    #T_46085b66_4d7b_11e9_b430_d7d45de3d2bfrow2_col6 {\n",
       "            background-color:  #ffca00;\n",
       "        }    #T_46085b66_4d7b_11e9_b430_d7d45de3d2bfrow2_col7 {\n",
       "            background-color:  #ffff00;\n",
       "        }    #T_46085b66_4d7b_11e9_b430_d7d45de3d2bfrow2_col8 {\n",
       "            background-color:  #ffa200;\n",
       "        }    #T_46085b66_4d7b_11e9_b430_d7d45de3d2bfrow2_col9 {\n",
       "            background-color:  #ffaa00;\n",
       "        }    #T_46085b66_4d7b_11e9_b430_d7d45de3d2bfrow2_col10 {\n",
       "            background-color:  #ffff00;\n",
       "        }    #T_46085b66_4d7b_11e9_b430_d7d45de3d2bfrow2_col11 {\n",
       "            background-color:  #ff8500;\n",
       "        }    #T_46085b66_4d7b_11e9_b430_d7d45de3d2bfrow3_col0 {\n",
       "            background-color:  #ffb500;\n",
       "        }    #T_46085b66_4d7b_11e9_b430_d7d45de3d2bfrow3_col1 {\n",
       "            background-color:  #ffef00;\n",
       "        }    #T_46085b66_4d7b_11e9_b430_d7d45de3d2bfrow3_col2 {\n",
       "            background-color:  #ffff00;\n",
       "        }    #T_46085b66_4d7b_11e9_b430_d7d45de3d2bfrow3_col3 {\n",
       "            background-color:  #ffd300;\n",
       "        }    #T_46085b66_4d7b_11e9_b430_d7d45de3d2bfrow3_col4 {\n",
       "            background-color:  #ffff00;\n",
       "        }    #T_46085b66_4d7b_11e9_b430_d7d45de3d2bfrow3_col5 {\n",
       "            background-color:  #ffa400;\n",
       "        }    #T_46085b66_4d7b_11e9_b430_d7d45de3d2bfrow3_col6 {\n",
       "            background-color:  #ffd500;\n",
       "        }    #T_46085b66_4d7b_11e9_b430_d7d45de3d2bfrow3_col7 {\n",
       "            background-color:  #ffff00;\n",
       "        }    #T_46085b66_4d7b_11e9_b430_d7d45de3d2bfrow3_col8 {\n",
       "            background-color:  #ffff00;\n",
       "        }    #T_46085b66_4d7b_11e9_b430_d7d45de3d2bfrow3_col9 {\n",
       "            background-color:  #ffff00;\n",
       "        }    #T_46085b66_4d7b_11e9_b430_d7d45de3d2bfrow3_col10 {\n",
       "            background-color:  #ff5500;\n",
       "        }    #T_46085b66_4d7b_11e9_b430_d7d45de3d2bfrow3_col11 {\n",
       "            background-color:  #fff700;\n",
       "        }    #T_46085b66_4d7b_11e9_b430_d7d45de3d2bfrow4_col0 {\n",
       "            background-color:  #ff0000;\n",
       "        }    #T_46085b66_4d7b_11e9_b430_d7d45de3d2bfrow4_col1 {\n",
       "            background-color:  #ff0000;\n",
       "        }    #T_46085b66_4d7b_11e9_b430_d7d45de3d2bfrow4_col2 {\n",
       "            background-color:  #ff0000;\n",
       "        }    #T_46085b66_4d7b_11e9_b430_d7d45de3d2bfrow4_col3 {\n",
       "            background-color:  #ff0000;\n",
       "        }    #T_46085b66_4d7b_11e9_b430_d7d45de3d2bfrow4_col4 {\n",
       "            background-color:  #ff0000;\n",
       "        }    #T_46085b66_4d7b_11e9_b430_d7d45de3d2bfrow4_col5 {\n",
       "            background-color:  #ff0000;\n",
       "        }    #T_46085b66_4d7b_11e9_b430_d7d45de3d2bfrow4_col6 {\n",
       "            background-color:  #ff0000;\n",
       "        }    #T_46085b66_4d7b_11e9_b430_d7d45de3d2bfrow4_col7 {\n",
       "            background-color:  #ff0000;\n",
       "        }    #T_46085b66_4d7b_11e9_b430_d7d45de3d2bfrow4_col8 {\n",
       "            background-color:  #ff0000;\n",
       "        }    #T_46085b66_4d7b_11e9_b430_d7d45de3d2bfrow4_col9 {\n",
       "            background-color:  #ff0000;\n",
       "        }    #T_46085b66_4d7b_11e9_b430_d7d45de3d2bfrow4_col10 {\n",
       "            background-color:  #ff0000;\n",
       "        }    #T_46085b66_4d7b_11e9_b430_d7d45de3d2bfrow4_col11 {\n",
       "            background-color:  #ff0000;\n",
       "        }</style>  \n",
       "<table id=\"T_46085b66_4d7b_11e9_b430_d7d45de3d2bf\" > \n",
       "<thead>    <tr> \n",
       "        <th class=\"blank\" ></th> \n",
       "        <th class=\"index_name level0\" >Fare_bin</th> \n",
       "        <th class=\"col_heading level0 col0\" colspan=3>1.0</th> \n",
       "        <th class=\"col_heading level0 col3\" colspan=3>2.0</th> \n",
       "        <th class=\"col_heading level0 col6\" >3.0</th> \n",
       "        <th class=\"col_heading level0 col7\" >4.0</th> \n",
       "        <th class=\"col_heading level0 col8\" >5.0</th> \n",
       "        <th class=\"col_heading level0 col9\" >6.0</th> \n",
       "        <th class=\"col_heading level0 col10\" >11.0</th> \n",
       "        <th class=\"col_heading level0 col11\" >All</th> \n",
       "    </tr>    <tr> \n",
       "        <th class=\"blank\" ></th> \n",
       "        <th class=\"index_name level1\" >Pclass</th> \n",
       "        <th class=\"col_heading level1 col0\" >1</th> \n",
       "        <th class=\"col_heading level1 col1\" >2</th> \n",
       "        <th class=\"col_heading level1 col2\" >3</th> \n",
       "        <th class=\"col_heading level1 col3\" >1</th> \n",
       "        <th class=\"col_heading level1 col4\" >2</th> \n",
       "        <th class=\"col_heading level1 col5\" >3</th> \n",
       "        <th class=\"col_heading level1 col6\" >1</th> \n",
       "        <th class=\"col_heading level1 col7\" >1</th> \n",
       "        <th class=\"col_heading level1 col8\" >1</th> \n",
       "        <th class=\"col_heading level1 col9\" >1</th> \n",
       "        <th class=\"col_heading level1 col10\" >1</th> \n",
       "        <th class=\"col_heading level1 col11\" ></th> \n",
       "    </tr>    <tr> \n",
       "        <th class=\"index_name level0\" >Sex</th> \n",
       "        <th class=\"index_name level1\" >Survived</th> \n",
       "        <th class=\"blank\" ></th> \n",
       "        <th class=\"blank\" ></th> \n",
       "        <th class=\"blank\" ></th> \n",
       "        <th class=\"blank\" ></th> \n",
       "        <th class=\"blank\" ></th> \n",
       "        <th class=\"blank\" ></th> \n",
       "        <th class=\"blank\" ></th> \n",
       "        <th class=\"blank\" ></th> \n",
       "        <th class=\"blank\" ></th> \n",
       "        <th class=\"blank\" ></th> \n",
       "        <th class=\"blank\" ></th> \n",
       "        <th class=\"blank\" ></th> \n",
       "    </tr></thead> \n",
       "<tbody>    <tr> \n",
       "        <th id=\"T_46085b66_4d7b_11e9_b430_d7d45de3d2bflevel0_row0\" class=\"row_heading level0 row0\" rowspan=2>female</th> \n",
       "        <th id=\"T_46085b66_4d7b_11e9_b430_d7d45de3d2bflevel1_row0\" class=\"row_heading level1 row0\" >0</th> \n",
       "        <td id=\"T_46085b66_4d7b_11e9_b430_d7d45de3d2bfrow0_col0\" class=\"data row0 col0\" >1</td> \n",
       "        <td id=\"T_46085b66_4d7b_11e9_b430_d7d45de3d2bfrow0_col1\" class=\"data row0 col1\" >6</td> \n",
       "        <td id=\"T_46085b66_4d7b_11e9_b430_d7d45de3d2bfrow0_col2\" class=\"data row0 col2\" >69</td> \n",
       "        <td id=\"T_46085b66_4d7b_11e9_b430_d7d45de3d2bfrow0_col3\" class=\"data row0 col3\" >0</td> \n",
       "        <td id=\"T_46085b66_4d7b_11e9_b430_d7d45de3d2bfrow0_col4\" class=\"data row0 col4\" >0</td> \n",
       "        <td id=\"T_46085b66_4d7b_11e9_b430_d7d45de3d2bfrow0_col5\" class=\"data row0 col5\" >3</td> \n",
       "        <td id=\"T_46085b66_4d7b_11e9_b430_d7d45de3d2bfrow0_col6\" class=\"data row0 col6\" >0</td> \n",
       "        <td id=\"T_46085b66_4d7b_11e9_b430_d7d45de3d2bfrow0_col7\" class=\"data row0 col7\" >2</td> \n",
       "        <td id=\"T_46085b66_4d7b_11e9_b430_d7d45de3d2bfrow0_col8\" class=\"data row0 col8\" >0</td> \n",
       "        <td id=\"T_46085b66_4d7b_11e9_b430_d7d45de3d2bfrow0_col9\" class=\"data row0 col9\" >0</td> \n",
       "        <td id=\"T_46085b66_4d7b_11e9_b430_d7d45de3d2bfrow0_col10\" class=\"data row0 col10\" >0</td> \n",
       "        <td id=\"T_46085b66_4d7b_11e9_b430_d7d45de3d2bfrow0_col11\" class=\"data row0 col11\" >81</td> \n",
       "    </tr>    <tr> \n",
       "        <th id=\"T_46085b66_4d7b_11e9_b430_d7d45de3d2bflevel1_row1\" class=\"row_heading level1 row1\" >1</th> \n",
       "        <td id=\"T_46085b66_4d7b_11e9_b430_d7d45de3d2bfrow1_col0\" class=\"data row1 col0\" >11</td> \n",
       "        <td id=\"T_46085b66_4d7b_11e9_b430_d7d45de3d2bfrow1_col1\" class=\"data row1 col1\" >68</td> \n",
       "        <td id=\"T_46085b66_4d7b_11e9_b430_d7d45de3d2bfrow1_col2\" class=\"data row1 col2\" >72</td> \n",
       "        <td id=\"T_46085b66_4d7b_11e9_b430_d7d45de3d2bfrow1_col3\" class=\"data row1 col3\" >48</td> \n",
       "        <td id=\"T_46085b66_4d7b_11e9_b430_d7d45de3d2bfrow1_col4\" class=\"data row1 col4\" >2</td> \n",
       "        <td id=\"T_46085b66_4d7b_11e9_b430_d7d45de3d2bfrow1_col5\" class=\"data row1 col5\" >0</td> \n",
       "        <td id=\"T_46085b66_4d7b_11e9_b430_d7d45de3d2bfrow1_col6\" class=\"data row1 col6\" >15</td> \n",
       "        <td id=\"T_46085b66_4d7b_11e9_b430_d7d45de3d2bfrow1_col7\" class=\"data row1 col7\" >5</td> \n",
       "        <td id=\"T_46085b66_4d7b_11e9_b430_d7d45de3d2bfrow1_col8\" class=\"data row1 col8\" >7</td> \n",
       "        <td id=\"T_46085b66_4d7b_11e9_b430_d7d45de3d2bfrow1_col9\" class=\"data row1 col9\" >4</td> \n",
       "        <td id=\"T_46085b66_4d7b_11e9_b430_d7d45de3d2bfrow1_col10\" class=\"data row1 col10\" >1</td> \n",
       "        <td id=\"T_46085b66_4d7b_11e9_b430_d7d45de3d2bfrow1_col11\" class=\"data row1 col11\" >233</td> \n",
       "    </tr>    <tr> \n",
       "        <th id=\"T_46085b66_4d7b_11e9_b430_d7d45de3d2bflevel0_row2\" class=\"row_heading level0 row2\" rowspan=2>male</th> \n",
       "        <th id=\"T_46085b66_4d7b_11e9_b430_d7d45de3d2bflevel1_row2\" class=\"row_heading level1 row2\" >0</th> \n",
       "        <td id=\"T_46085b66_4d7b_11e9_b430_d7d45de3d2bfrow2_col0\" class=\"data row2 col0\" >42</td> \n",
       "        <td id=\"T_46085b66_4d7b_11e9_b430_d7d45de3d2bfrow2_col1\" class=\"data row2 col1\" >86</td> \n",
       "        <td id=\"T_46085b66_4d7b_11e9_b430_d7d45de3d2bfrow2_col2\" class=\"data row2 col2\" >294</td> \n",
       "        <td id=\"T_46085b66_4d7b_11e9_b430_d7d45de3d2bfrow2_col3\" class=\"data row2 col3\" >23</td> \n",
       "        <td id=\"T_46085b66_4d7b_11e9_b430_d7d45de3d2bfrow2_col4\" class=\"data row2 col4\" >5</td> \n",
       "        <td id=\"T_46085b66_4d7b_11e9_b430_d7d45de3d2bfrow2_col5\" class=\"data row2 col5\" >6</td> \n",
       "        <td id=\"T_46085b66_4d7b_11e9_b430_d7d45de3d2bfrow2_col6\" class=\"data row2 col6\" >5</td> \n",
       "        <td id=\"T_46085b66_4d7b_11e9_b430_d7d45de3d2bfrow2_col7\" class=\"data row2 col7\" >1</td> \n",
       "        <td id=\"T_46085b66_4d7b_11e9_b430_d7d45de3d2bfrow2_col8\" class=\"data row2 col8\" >4</td> \n",
       "        <td id=\"T_46085b66_4d7b_11e9_b430_d7d45de3d2bfrow2_col9\" class=\"data row2 col9\" >2</td> \n",
       "        <td id=\"T_46085b66_4d7b_11e9_b430_d7d45de3d2bfrow2_col10\" class=\"data row2 col10\" >0</td> \n",
       "        <td id=\"T_46085b66_4d7b_11e9_b430_d7d45de3d2bfrow2_col11\" class=\"data row2 col11\" >468</td> \n",
       "    </tr>    <tr> \n",
       "        <th id=\"T_46085b66_4d7b_11e9_b430_d7d45de3d2bflevel1_row3\" class=\"row_heading level1 row3\" >1</th> \n",
       "        <td id=\"T_46085b66_4d7b_11e9_b430_d7d45de3d2bfrow3_col0\" class=\"data row3 col0\" >23</td> \n",
       "        <td id=\"T_46085b66_4d7b_11e9_b430_d7d45de3d2bfrow3_col1\" class=\"data row3 col1\" >17</td> \n",
       "        <td id=\"T_46085b66_4d7b_11e9_b430_d7d45de3d2bfrow3_col2\" class=\"data row3 col2\" >42</td> \n",
       "        <td id=\"T_46085b66_4d7b_11e9_b430_d7d45de3d2bfrow3_col3\" class=\"data row3 col3\" >15</td> \n",
       "        <td id=\"T_46085b66_4d7b_11e9_b430_d7d45de3d2bfrow3_col4\" class=\"data row3 col4\" >0</td> \n",
       "        <td id=\"T_46085b66_4d7b_11e9_b430_d7d45de3d2bfrow3_col5\" class=\"data row3 col5\" >5</td> \n",
       "        <td id=\"T_46085b66_4d7b_11e9_b430_d7d45de3d2bfrow3_col6\" class=\"data row3 col6\" >4</td> \n",
       "        <td id=\"T_46085b66_4d7b_11e9_b430_d7d45de3d2bfrow3_col7\" class=\"data row3 col7\" >1</td> \n",
       "        <td id=\"T_46085b66_4d7b_11e9_b430_d7d45de3d2bfrow3_col8\" class=\"data row3 col8\" >0</td> \n",
       "        <td id=\"T_46085b66_4d7b_11e9_b430_d7d45de3d2bfrow3_col9\" class=\"data row3 col9\" >0</td> \n",
       "        <td id=\"T_46085b66_4d7b_11e9_b430_d7d45de3d2bfrow3_col10\" class=\"data row3 col10\" >2</td> \n",
       "        <td id=\"T_46085b66_4d7b_11e9_b430_d7d45de3d2bfrow3_col11\" class=\"data row3 col11\" >109</td> \n",
       "    </tr>    <tr> \n",
       "        <th id=\"T_46085b66_4d7b_11e9_b430_d7d45de3d2bflevel0_row4\" class=\"row_heading level0 row4\" >All</th> \n",
       "        <th id=\"T_46085b66_4d7b_11e9_b430_d7d45de3d2bflevel1_row4\" class=\"row_heading level1 row4\" ></th> \n",
       "        <td id=\"T_46085b66_4d7b_11e9_b430_d7d45de3d2bfrow4_col0\" class=\"data row4 col0\" >77</td> \n",
       "        <td id=\"T_46085b66_4d7b_11e9_b430_d7d45de3d2bfrow4_col1\" class=\"data row4 col1\" >177</td> \n",
       "        <td id=\"T_46085b66_4d7b_11e9_b430_d7d45de3d2bfrow4_col2\" class=\"data row4 col2\" >477</td> \n",
       "        <td id=\"T_46085b66_4d7b_11e9_b430_d7d45de3d2bfrow4_col3\" class=\"data row4 col3\" >86</td> \n",
       "        <td id=\"T_46085b66_4d7b_11e9_b430_d7d45de3d2bfrow4_col4\" class=\"data row4 col4\" >7</td> \n",
       "        <td id=\"T_46085b66_4d7b_11e9_b430_d7d45de3d2bfrow4_col5\" class=\"data row4 col5\" >14</td> \n",
       "        <td id=\"T_46085b66_4d7b_11e9_b430_d7d45de3d2bfrow4_col6\" class=\"data row4 col6\" >24</td> \n",
       "        <td id=\"T_46085b66_4d7b_11e9_b430_d7d45de3d2bfrow4_col7\" class=\"data row4 col7\" >9</td> \n",
       "        <td id=\"T_46085b66_4d7b_11e9_b430_d7d45de3d2bfrow4_col8\" class=\"data row4 col8\" >11</td> \n",
       "        <td id=\"T_46085b66_4d7b_11e9_b430_d7d45de3d2bfrow4_col9\" class=\"data row4 col9\" >6</td> \n",
       "        <td id=\"T_46085b66_4d7b_11e9_b430_d7d45de3d2bfrow4_col10\" class=\"data row4 col10\" >3</td> \n",
       "        <td id=\"T_46085b66_4d7b_11e9_b430_d7d45de3d2bfrow4_col11\" class=\"data row4 col11\" >891</td> \n",
       "    </tr></tbody> \n",
       "</table> "
      ],
      "text/plain": [
       "<pandas.io.formats.style.Styler at 0x7fa6166b0048>"
      ]
     },
     "execution_count": 48,
     "metadata": {},
     "output_type": "execute_result"
    }
   ],
   "source": [
    "pd.crosstab([df_train.Sex, df_train.Survived], [df_train.Fare_bin, df_train.Pclass], margins=True).style.background_gradient(cmap='autumn_r')"
   ]
  },
  {
   "cell_type": "markdown",
   "metadata": {},
   "source": [
    "## Part 2: Machine Learning"
   ]
  },
  {
   "cell_type": "markdown",
   "metadata": {},
   "source": [
    "**Data Preparation**\n",
    "\n",
    "1. Load the original data from csv\n",
    "2. Encode categorical data\n",
    "3. Drop columns that we don't need\n",
    "4. Get the independent and dependent variable\n",
    "5. Take care of missing data\n",
    "6. Split the dataset into the trainning and test set"
   ]
  },
  {
   "cell_type": "code",
   "execution_count": 49,
   "metadata": {},
   "outputs": [],
   "source": [
    "df_train_ml = pd.read_csv(TRAIN_CSV_FILE)\n",
    "df_test_ml = pd.read_csv(TEST_CSV_FILE)"
   ]
  },
  {
   "cell_type": "code",
   "execution_count": 50,
   "metadata": {},
   "outputs": [
    {
     "data": {
      "text/html": [
       "<div>\n",
       "<style scoped>\n",
       "    .dataframe tbody tr th:only-of-type {\n",
       "        vertical-align: middle;\n",
       "    }\n",
       "\n",
       "    .dataframe tbody tr th {\n",
       "        vertical-align: top;\n",
       "    }\n",
       "\n",
       "    .dataframe thead th {\n",
       "        text-align: right;\n",
       "    }\n",
       "</style>\n",
       "<table border=\"1\" class=\"dataframe\">\n",
       "  <thead>\n",
       "    <tr style=\"text-align: right;\">\n",
       "      <th></th>\n",
       "      <th>PassengerId</th>\n",
       "      <th>Survived</th>\n",
       "      <th>Pclass</th>\n",
       "      <th>Name</th>\n",
       "      <th>Sex</th>\n",
       "      <th>Age</th>\n",
       "      <th>SibSp</th>\n",
       "      <th>Parch</th>\n",
       "      <th>Ticket</th>\n",
       "      <th>Fare</th>\n",
       "      <th>Cabin</th>\n",
       "      <th>Embarked</th>\n",
       "    </tr>\n",
       "  </thead>\n",
       "  <tbody>\n",
       "    <tr>\n",
       "      <th>0</th>\n",
       "      <td>1</td>\n",
       "      <td>0</td>\n",
       "      <td>3</td>\n",
       "      <td>Braund, Mr. Owen Harris</td>\n",
       "      <td>male</td>\n",
       "      <td>22.0</td>\n",
       "      <td>1</td>\n",
       "      <td>0</td>\n",
       "      <td>A/5 21171</td>\n",
       "      <td>7.2500</td>\n",
       "      <td>NaN</td>\n",
       "      <td>S</td>\n",
       "    </tr>\n",
       "    <tr>\n",
       "      <th>1</th>\n",
       "      <td>2</td>\n",
       "      <td>1</td>\n",
       "      <td>1</td>\n",
       "      <td>Cumings, Mrs. John Bradley (Florence Briggs Th...</td>\n",
       "      <td>female</td>\n",
       "      <td>38.0</td>\n",
       "      <td>1</td>\n",
       "      <td>0</td>\n",
       "      <td>PC 17599</td>\n",
       "      <td>71.2833</td>\n",
       "      <td>C85</td>\n",
       "      <td>C</td>\n",
       "    </tr>\n",
       "    <tr>\n",
       "      <th>2</th>\n",
       "      <td>3</td>\n",
       "      <td>1</td>\n",
       "      <td>3</td>\n",
       "      <td>Heikkinen, Miss. Laina</td>\n",
       "      <td>female</td>\n",
       "      <td>26.0</td>\n",
       "      <td>0</td>\n",
       "      <td>0</td>\n",
       "      <td>STON/O2. 3101282</td>\n",
       "      <td>7.9250</td>\n",
       "      <td>NaN</td>\n",
       "      <td>S</td>\n",
       "    </tr>\n",
       "    <tr>\n",
       "      <th>3</th>\n",
       "      <td>4</td>\n",
       "      <td>1</td>\n",
       "      <td>1</td>\n",
       "      <td>Futrelle, Mrs. Jacques Heath (Lily May Peel)</td>\n",
       "      <td>female</td>\n",
       "      <td>35.0</td>\n",
       "      <td>1</td>\n",
       "      <td>0</td>\n",
       "      <td>113803</td>\n",
       "      <td>53.1000</td>\n",
       "      <td>C123</td>\n",
       "      <td>S</td>\n",
       "    </tr>\n",
       "    <tr>\n",
       "      <th>4</th>\n",
       "      <td>5</td>\n",
       "      <td>0</td>\n",
       "      <td>3</td>\n",
       "      <td>Allen, Mr. William Henry</td>\n",
       "      <td>male</td>\n",
       "      <td>35.0</td>\n",
       "      <td>0</td>\n",
       "      <td>0</td>\n",
       "      <td>373450</td>\n",
       "      <td>8.0500</td>\n",
       "      <td>NaN</td>\n",
       "      <td>S</td>\n",
       "    </tr>\n",
       "  </tbody>\n",
       "</table>\n",
       "</div>"
      ],
      "text/plain": [
       "   PassengerId  Survived  Pclass  \\\n",
       "0            1         0       3   \n",
       "1            2         1       1   \n",
       "2            3         1       3   \n",
       "3            4         1       1   \n",
       "4            5         0       3   \n",
       "\n",
       "                                                Name     Sex   Age  SibSp  \\\n",
       "0                            Braund, Mr. Owen Harris    male  22.0      1   \n",
       "1  Cumings, Mrs. John Bradley (Florence Briggs Th...  female  38.0      1   \n",
       "2                             Heikkinen, Miss. Laina  female  26.0      0   \n",
       "3       Futrelle, Mrs. Jacques Heath (Lily May Peel)  female  35.0      1   \n",
       "4                           Allen, Mr. William Henry    male  35.0      0   \n",
       "\n",
       "   Parch            Ticket     Fare Cabin Embarked  \n",
       "0      0         A/5 21171   7.2500   NaN        S  \n",
       "1      0          PC 17599  71.2833   C85        C  \n",
       "2      0  STON/O2. 3101282   7.9250   NaN        S  \n",
       "3      0            113803  53.1000  C123        S  \n",
       "4      0            373450   8.0500   NaN        S  "
      ]
     },
     "execution_count": 50,
     "metadata": {},
     "output_type": "execute_result"
    }
   ],
   "source": [
    "df_train_ml.head()"
   ]
  },
  {
   "cell_type": "code",
   "execution_count": 51,
   "metadata": {},
   "outputs": [
    {
     "data": {
      "text/html": [
       "<div>\n",
       "<style scoped>\n",
       "    .dataframe tbody tr th:only-of-type {\n",
       "        vertical-align: middle;\n",
       "    }\n",
       "\n",
       "    .dataframe tbody tr th {\n",
       "        vertical-align: top;\n",
       "    }\n",
       "\n",
       "    .dataframe thead th {\n",
       "        text-align: right;\n",
       "    }\n",
       "</style>\n",
       "<table border=\"1\" class=\"dataframe\">\n",
       "  <thead>\n",
       "    <tr style=\"text-align: right;\">\n",
       "      <th></th>\n",
       "      <th>PassengerId</th>\n",
       "      <th>Pclass</th>\n",
       "      <th>Name</th>\n",
       "      <th>Sex</th>\n",
       "      <th>Age</th>\n",
       "      <th>SibSp</th>\n",
       "      <th>Parch</th>\n",
       "      <th>Ticket</th>\n",
       "      <th>Fare</th>\n",
       "      <th>Cabin</th>\n",
       "      <th>Embarked</th>\n",
       "    </tr>\n",
       "  </thead>\n",
       "  <tbody>\n",
       "    <tr>\n",
       "      <th>0</th>\n",
       "      <td>892</td>\n",
       "      <td>3</td>\n",
       "      <td>Kelly, Mr. James</td>\n",
       "      <td>male</td>\n",
       "      <td>34.5</td>\n",
       "      <td>0</td>\n",
       "      <td>0</td>\n",
       "      <td>330911</td>\n",
       "      <td>7.8292</td>\n",
       "      <td>NaN</td>\n",
       "      <td>Q</td>\n",
       "    </tr>\n",
       "    <tr>\n",
       "      <th>1</th>\n",
       "      <td>893</td>\n",
       "      <td>3</td>\n",
       "      <td>Wilkes, Mrs. James (Ellen Needs)</td>\n",
       "      <td>female</td>\n",
       "      <td>47.0</td>\n",
       "      <td>1</td>\n",
       "      <td>0</td>\n",
       "      <td>363272</td>\n",
       "      <td>7.0000</td>\n",
       "      <td>NaN</td>\n",
       "      <td>S</td>\n",
       "    </tr>\n",
       "    <tr>\n",
       "      <th>2</th>\n",
       "      <td>894</td>\n",
       "      <td>2</td>\n",
       "      <td>Myles, Mr. Thomas Francis</td>\n",
       "      <td>male</td>\n",
       "      <td>62.0</td>\n",
       "      <td>0</td>\n",
       "      <td>0</td>\n",
       "      <td>240276</td>\n",
       "      <td>9.6875</td>\n",
       "      <td>NaN</td>\n",
       "      <td>Q</td>\n",
       "    </tr>\n",
       "    <tr>\n",
       "      <th>3</th>\n",
       "      <td>895</td>\n",
       "      <td>3</td>\n",
       "      <td>Wirz, Mr. Albert</td>\n",
       "      <td>male</td>\n",
       "      <td>27.0</td>\n",
       "      <td>0</td>\n",
       "      <td>0</td>\n",
       "      <td>315154</td>\n",
       "      <td>8.6625</td>\n",
       "      <td>NaN</td>\n",
       "      <td>S</td>\n",
       "    </tr>\n",
       "    <tr>\n",
       "      <th>4</th>\n",
       "      <td>896</td>\n",
       "      <td>3</td>\n",
       "      <td>Hirvonen, Mrs. Alexander (Helga E Lindqvist)</td>\n",
       "      <td>female</td>\n",
       "      <td>22.0</td>\n",
       "      <td>1</td>\n",
       "      <td>1</td>\n",
       "      <td>3101298</td>\n",
       "      <td>12.2875</td>\n",
       "      <td>NaN</td>\n",
       "      <td>S</td>\n",
       "    </tr>\n",
       "  </tbody>\n",
       "</table>\n",
       "</div>"
      ],
      "text/plain": [
       "   PassengerId  Pclass                                          Name     Sex  \\\n",
       "0          892       3                              Kelly, Mr. James    male   \n",
       "1          893       3              Wilkes, Mrs. James (Ellen Needs)  female   \n",
       "2          894       2                     Myles, Mr. Thomas Francis    male   \n",
       "3          895       3                              Wirz, Mr. Albert    male   \n",
       "4          896       3  Hirvonen, Mrs. Alexander (Helga E Lindqvist)  female   \n",
       "\n",
       "    Age  SibSp  Parch   Ticket     Fare Cabin Embarked  \n",
       "0  34.5      0      0   330911   7.8292   NaN        Q  \n",
       "1  47.0      1      0   363272   7.0000   NaN        S  \n",
       "2  62.0      0      0   240276   9.6875   NaN        Q  \n",
       "3  27.0      0      0   315154   8.6625   NaN        S  \n",
       "4  22.0      1      1  3101298  12.2875   NaN        S  "
      ]
     },
     "execution_count": 51,
     "metadata": {},
     "output_type": "execute_result"
    }
   ],
   "source": [
    "df_test_ml.head()"
   ]
  },
  {
   "cell_type": "code",
   "execution_count": 52,
   "metadata": {},
   "outputs": [],
   "source": [
    "# Encoding categorical data\n",
    "df_train_ml = pd.get_dummies(data=df_train_ml, columns=['Sex', 'Embarked'], drop_first=True)\n",
    "df_train_ml.drop(['Name','Ticket', 'Cabin'],axis=1, inplace=True) \n",
    "\n",
    "passenger_id = df_test_ml['PassengerId']\n",
    "df_test_ml = pd.get_dummies(data=df_test_ml, columns=['Sex', 'Embarked'], drop_first=True)\n",
    "df_test_ml.drop(['Name','Ticket', 'Cabin'],axis=1, inplace=True) "
   ]
  },
  {
   "cell_type": "code",
   "execution_count": 53,
   "metadata": {},
   "outputs": [
    {
     "data": {
      "text/html": [
       "<div>\n",
       "<style scoped>\n",
       "    .dataframe tbody tr th:only-of-type {\n",
       "        vertical-align: middle;\n",
       "    }\n",
       "\n",
       "    .dataframe tbody tr th {\n",
       "        vertical-align: top;\n",
       "    }\n",
       "\n",
       "    .dataframe thead th {\n",
       "        text-align: right;\n",
       "    }\n",
       "</style>\n",
       "<table border=\"1\" class=\"dataframe\">\n",
       "  <thead>\n",
       "    <tr style=\"text-align: right;\">\n",
       "      <th></th>\n",
       "      <th>PassengerId</th>\n",
       "      <th>Survived</th>\n",
       "      <th>Pclass</th>\n",
       "      <th>Age</th>\n",
       "      <th>SibSp</th>\n",
       "      <th>Parch</th>\n",
       "      <th>Fare</th>\n",
       "      <th>Sex_male</th>\n",
       "      <th>Embarked_Q</th>\n",
       "      <th>Embarked_S</th>\n",
       "    </tr>\n",
       "  </thead>\n",
       "  <tbody>\n",
       "    <tr>\n",
       "      <th>0</th>\n",
       "      <td>1</td>\n",
       "      <td>0</td>\n",
       "      <td>3</td>\n",
       "      <td>22.0</td>\n",
       "      <td>1</td>\n",
       "      <td>0</td>\n",
       "      <td>7.2500</td>\n",
       "      <td>1</td>\n",
       "      <td>0</td>\n",
       "      <td>1</td>\n",
       "    </tr>\n",
       "    <tr>\n",
       "      <th>1</th>\n",
       "      <td>2</td>\n",
       "      <td>1</td>\n",
       "      <td>1</td>\n",
       "      <td>38.0</td>\n",
       "      <td>1</td>\n",
       "      <td>0</td>\n",
       "      <td>71.2833</td>\n",
       "      <td>0</td>\n",
       "      <td>0</td>\n",
       "      <td>0</td>\n",
       "    </tr>\n",
       "    <tr>\n",
       "      <th>2</th>\n",
       "      <td>3</td>\n",
       "      <td>1</td>\n",
       "      <td>3</td>\n",
       "      <td>26.0</td>\n",
       "      <td>0</td>\n",
       "      <td>0</td>\n",
       "      <td>7.9250</td>\n",
       "      <td>0</td>\n",
       "      <td>0</td>\n",
       "      <td>1</td>\n",
       "    </tr>\n",
       "    <tr>\n",
       "      <th>3</th>\n",
       "      <td>4</td>\n",
       "      <td>1</td>\n",
       "      <td>1</td>\n",
       "      <td>35.0</td>\n",
       "      <td>1</td>\n",
       "      <td>0</td>\n",
       "      <td>53.1000</td>\n",
       "      <td>0</td>\n",
       "      <td>0</td>\n",
       "      <td>1</td>\n",
       "    </tr>\n",
       "    <tr>\n",
       "      <th>4</th>\n",
       "      <td>5</td>\n",
       "      <td>0</td>\n",
       "      <td>3</td>\n",
       "      <td>35.0</td>\n",
       "      <td>0</td>\n",
       "      <td>0</td>\n",
       "      <td>8.0500</td>\n",
       "      <td>1</td>\n",
       "      <td>0</td>\n",
       "      <td>1</td>\n",
       "    </tr>\n",
       "  </tbody>\n",
       "</table>\n",
       "</div>"
      ],
      "text/plain": [
       "   PassengerId  Survived  Pclass   Age  SibSp  Parch     Fare  Sex_male  \\\n",
       "0            1         0       3  22.0      1      0   7.2500         1   \n",
       "1            2         1       1  38.0      1      0  71.2833         0   \n",
       "2            3         1       3  26.0      0      0   7.9250         0   \n",
       "3            4         1       1  35.0      1      0  53.1000         0   \n",
       "4            5         0       3  35.0      0      0   8.0500         1   \n",
       "\n",
       "   Embarked_Q  Embarked_S  \n",
       "0           0           1  \n",
       "1           0           0  \n",
       "2           0           1  \n",
       "3           0           1  \n",
       "4           0           1  "
      ]
     },
     "execution_count": 53,
     "metadata": {},
     "output_type": "execute_result"
    }
   ],
   "source": [
    "df_train_ml.head()"
   ]
  },
  {
   "cell_type": "code",
   "execution_count": 54,
   "metadata": {},
   "outputs": [
    {
     "data": {
      "text/html": [
       "<div>\n",
       "<style scoped>\n",
       "    .dataframe tbody tr th:only-of-type {\n",
       "        vertical-align: middle;\n",
       "    }\n",
       "\n",
       "    .dataframe tbody tr th {\n",
       "        vertical-align: top;\n",
       "    }\n",
       "\n",
       "    .dataframe thead th {\n",
       "        text-align: right;\n",
       "    }\n",
       "</style>\n",
       "<table border=\"1\" class=\"dataframe\">\n",
       "  <thead>\n",
       "    <tr style=\"text-align: right;\">\n",
       "      <th></th>\n",
       "      <th>PassengerId</th>\n",
       "      <th>Pclass</th>\n",
       "      <th>Age</th>\n",
       "      <th>SibSp</th>\n",
       "      <th>Parch</th>\n",
       "      <th>Fare</th>\n",
       "      <th>Sex_male</th>\n",
       "      <th>Embarked_Q</th>\n",
       "      <th>Embarked_S</th>\n",
       "    </tr>\n",
       "  </thead>\n",
       "  <tbody>\n",
       "    <tr>\n",
       "      <th>0</th>\n",
       "      <td>892</td>\n",
       "      <td>3</td>\n",
       "      <td>34.5</td>\n",
       "      <td>0</td>\n",
       "      <td>0</td>\n",
       "      <td>7.8292</td>\n",
       "      <td>1</td>\n",
       "      <td>1</td>\n",
       "      <td>0</td>\n",
       "    </tr>\n",
       "    <tr>\n",
       "      <th>1</th>\n",
       "      <td>893</td>\n",
       "      <td>3</td>\n",
       "      <td>47.0</td>\n",
       "      <td>1</td>\n",
       "      <td>0</td>\n",
       "      <td>7.0000</td>\n",
       "      <td>0</td>\n",
       "      <td>0</td>\n",
       "      <td>1</td>\n",
       "    </tr>\n",
       "    <tr>\n",
       "      <th>2</th>\n",
       "      <td>894</td>\n",
       "      <td>2</td>\n",
       "      <td>62.0</td>\n",
       "      <td>0</td>\n",
       "      <td>0</td>\n",
       "      <td>9.6875</td>\n",
       "      <td>1</td>\n",
       "      <td>1</td>\n",
       "      <td>0</td>\n",
       "    </tr>\n",
       "    <tr>\n",
       "      <th>3</th>\n",
       "      <td>895</td>\n",
       "      <td>3</td>\n",
       "      <td>27.0</td>\n",
       "      <td>0</td>\n",
       "      <td>0</td>\n",
       "      <td>8.6625</td>\n",
       "      <td>1</td>\n",
       "      <td>0</td>\n",
       "      <td>1</td>\n",
       "    </tr>\n",
       "    <tr>\n",
       "      <th>4</th>\n",
       "      <td>896</td>\n",
       "      <td>3</td>\n",
       "      <td>22.0</td>\n",
       "      <td>1</td>\n",
       "      <td>1</td>\n",
       "      <td>12.2875</td>\n",
       "      <td>0</td>\n",
       "      <td>0</td>\n",
       "      <td>1</td>\n",
       "    </tr>\n",
       "  </tbody>\n",
       "</table>\n",
       "</div>"
      ],
      "text/plain": [
       "   PassengerId  Pclass   Age  SibSp  Parch     Fare  Sex_male  Embarked_Q  \\\n",
       "0          892       3  34.5      0      0   7.8292         1           1   \n",
       "1          893       3  47.0      1      0   7.0000         0           0   \n",
       "2          894       2  62.0      0      0   9.6875         1           1   \n",
       "3          895       3  27.0      0      0   8.6625         1           0   \n",
       "4          896       3  22.0      1      1  12.2875         0           0   \n",
       "\n",
       "   Embarked_S  \n",
       "0           0  \n",
       "1           1  \n",
       "2           0  \n",
       "3           1  \n",
       "4           1  "
      ]
     },
     "execution_count": 54,
     "metadata": {},
     "output_type": "execute_result"
    }
   ],
   "source": [
    "df_test_ml.head()"
   ]
  },
  {
   "cell_type": "code",
   "execution_count": 55,
   "metadata": {},
   "outputs": [],
   "source": [
    "X = df_train_ml.iloc[:, 2:].values\n",
    "y = df_train_ml.iloc[:, 1].values"
   ]
  },
  {
   "cell_type": "code",
   "execution_count": 56,
   "metadata": {},
   "outputs": [],
   "source": [
    "# Taking care of missing data\n",
    "from sklearn.preprocessing import Imputer\n",
    "imputer = Imputer(missing_values = 'NaN', strategy = 'mean', axis = 0)\n",
    "imputer = imputer.fit(X[:, 1:2])\n",
    "X[:, 1:2] = imputer.transform(X[:, 1:2])"
   ]
  },
  {
   "cell_type": "code",
   "execution_count": 57,
   "metadata": {},
   "outputs": [],
   "source": [
    "# Splitting the dataset into the Training set and Test set\n",
    "from sklearn.model_selection import train_test_split\n",
    "X_train, X_test, y_train, y_test = train_test_split(X, y, test_size = 0.25, random_state = 101)"
   ]
  },
  {
   "cell_type": "code",
   "execution_count": 58,
   "metadata": {},
   "outputs": [],
   "source": [
    "# Feature Scaling\n",
    "from sklearn.preprocessing import StandardScaler\n",
    "sc = StandardScaler()\n",
    "X_train = sc.fit_transform(X_train)\n",
    "X_test = sc.transform(X_test)"
   ]
  },
  {
   "cell_type": "markdown",
   "metadata": {},
   "source": [
    "**All data for transmision**"
   ]
  },
  {
   "cell_type": "code",
   "execution_count": null,
   "metadata": {},
   "outputs": [],
   "source": [
    "X_train_all = X\n",
    "y_train_all = y\n",
    "X_test_all = df_test_ml.iloc[:,1:].values"
   ]
  },
  {
   "cell_type": "code",
   "execution_count": 83,
   "metadata": {},
   "outputs": [],
   "source": [
    "# Take care of NaNs in all data\n",
    "imputer = imputer.fit(X_test_all[:, [1,4]])\n",
    "X_test_all[:, [1,4]] = imputer.transform(X_test_all[:, [1,4]])"
   ]
  },
  {
   "cell_type": "markdown",
   "metadata": {},
   "source": [
    "**Feature scaling for all data**"
   ]
  },
  {
   "cell_type": "code",
   "execution_count": 84,
   "metadata": {},
   "outputs": [],
   "source": [
    "sc_all = StandardScaler()\n",
    "X_train_all = sc_all.fit_transform(X_train_all)\n",
    "X_test_all = sc_all.transform(X_test_all)"
   ]
  },
  {
   "cell_type": "markdown",
   "metadata": {},
   "source": [
    "Use this utility function to show metrics"
   ]
  },
  {
   "cell_type": "code",
   "execution_count": 133,
   "metadata": {},
   "outputs": [],
   "source": [
    "from sklearn.metrics import confusion_matrix\n",
    "from sklearn.metrics import classification_report, accuracy_score\n",
    "\n",
    "def show_metrics(y_test, y_pred,msg='Summary'):\n",
    "    cm = confusion_matrix(y_test,y_pred)\n",
    "    cm = sns.heatmap(cm, annot=True, fmt='d')\n",
    "    print(msg)\n",
    "    print(classification_report(y_test, y_pred))\n",
    "    print('Accuracy : {}'.format(accuracy_score(y_test, y_pred)))"
   ]
  },
  {
   "cell_type": "markdown",
   "metadata": {},
   "source": [
    "**Logistic Regression**"
   ]
  },
  {
   "cell_type": "code",
   "execution_count": 59,
   "metadata": {},
   "outputs": [
    {
     "data": {
      "text/plain": [
       "LogisticRegression(C=1.0, class_weight=None, dual=False, fit_intercept=True,\n",
       "          intercept_scaling=1, max_iter=100, multi_class='ovr', n_jobs=1,\n",
       "          penalty='l2', random_state=101, solver='liblinear', tol=0.0001,\n",
       "          verbose=0, warm_start=False)"
      ]
     },
     "execution_count": 59,
     "metadata": {},
     "output_type": "execute_result"
    }
   ],
   "source": [
    "from sklearn.linear_model import LogisticRegression\n",
    "lg_classifier = LogisticRegression(random_state = 101)\n",
    "lg_classifier.fit(X_train, y_train)"
   ]
  },
  {
   "cell_type": "code",
   "execution_count": 64,
   "metadata": {},
   "outputs": [],
   "source": [
    "# Predicting the Test set results\n",
    "lg_y_pred = lg_classifier.predict(X_test)"
   ]
  },
  {
   "cell_type": "code",
   "execution_count": 65,
   "metadata": {},
   "outputs": [
    {
     "data": {
      "text/plain": [
       "<matplotlib.axes._subplots.AxesSubplot at 0x7fa61464b6d8>"
      ]
     },
     "execution_count": 65,
     "metadata": {},
     "output_type": "execute_result"
    },
    {
     "data": {
      "image/png": "[encoded data removed]",
      "text/plain": [
       "<Figure size 432x288 with 2 Axes>"
      ]
     },
     "metadata": {
      "needs_background": "light"
     },
     "output_type": "display_data"
    }
   ],
   "source": [
    "# Making the Confusion Matrix\n",
    "cm = confusion_matrix(y_test, lg_y_pred)\n",
    "sns.heatmap(cm, annot=True, fmt='d')"
   ]
  },
  {
   "cell_type": "code",
   "execution_count": 67,
   "metadata": {},
   "outputs": [
    {
     "name": "stdout",
     "output_type": "stream",
     "text": [
      "             precision    recall  f1-score   support\n",
      "\n",
      "          0       0.77      0.87      0.82       127\n",
      "          1       0.80      0.66      0.72        96\n",
      "\n",
      "avg / total       0.78      0.78      0.78       223\n",
      "\n",
      "0.7802690582959642\n"
     ]
    }
   ],
   "source": [
    "# Print some metrics\n",
    "print(classification_report(y_test, lg_y_pred))\n",
    "print(accuracy_score(y_test, lg_y_pred))"
   ]
  },
  {
   "cell_type": "markdown",
   "metadata": {},
   "source": [
    "**Train again for all data and submit**"
   ]
  },
  {
   "cell_type": "code",
   "execution_count": 85,
   "metadata": {},
   "outputs": [],
   "source": [
    "lg_classifier.fit(X_train_all, y_train_all)\n",
    "lg_y_pred_all = lg_classifier.predict(X_test_all)"
   ]
  },
  {
   "cell_type": "code",
   "execution_count": 87,
   "metadata": {},
   "outputs": [],
   "source": [
    "sub_logreg = pd.DataFrame()\n",
    "sub_logreg['PassengerId'] = df_test['PassengerId']\n",
    "sub_logreg['Survived'] = lg_y_pred_all\n",
    "#sub_logmodel.to_csv('logmodel.csv',index=False)"
   ]
  },
  {
   "cell_type": "markdown",
   "metadata": {},
   "source": [
    "**K-Nearest Neighbors (K-NN)**"
   ]
  },
  {
   "cell_type": "code",
   "execution_count": 88,
   "metadata": {},
   "outputs": [
    {
     "data": {
      "text/plain": [
       "KNeighborsClassifier(algorithm='auto', leaf_size=30, metric='minkowski',\n",
       "           metric_params=None, n_jobs=1, n_neighbors=5, p=2,\n",
       "           weights='uniform')"
      ]
     },
     "execution_count": 88,
     "metadata": {},
     "output_type": "execute_result"
    }
   ],
   "source": [
    "# Fitting K-NN to the Training set\n",
    "from sklearn.neighbors import KNeighborsClassifier\n",
    "knn_classifier = KNeighborsClassifier(n_neighbors = 5, metric = 'minkowski', p = 2)\n",
    "knn_classifier.fit(X_train, y_train)"
   ]
  },
  {
   "cell_type": "code",
   "execution_count": 90,
   "metadata": {},
   "outputs": [],
   "source": [
    "# Predicting the Test set results\n",
    "knn_y_pred = knn_classifier.predict(X_test)"
   ]
  },
  {
   "cell_type": "code",
   "execution_count": 91,
   "metadata": {},
   "outputs": [
    {
     "data": {
      "text/plain": [
       "<matplotlib.axes._subplots.AxesSubplot at 0x7fa6144d4d68>"
      ]
     },
     "execution_count": 91,
     "metadata": {},
     "output_type": "execute_result"
    },
    {
     "data": {
      "image/png": "[encoded data removed]",
      "text/plain": [
       "<Figure size 432x288 with 2 Axes>"
      ]
     },
     "metadata": {
      "needs_background": "light"
     },
     "output_type": "display_data"
    }
   ],
   "source": [
    "#confusion matrix\n",
    "knn_cm = confusion_matrix(y_test, knn_y_pred)\n",
    "sns.heatmap(knn_cm, annot=True, fmt='d')"
   ]
  },
  {
   "cell_type": "code",
   "execution_count": 92,
   "metadata": {},
   "outputs": [
    {
     "name": "stdout",
     "output_type": "stream",
     "text": [
      "K-NN Summary\n",
      "             precision    recall  f1-score   support\n",
      "\n",
      "          0       0.77      0.88      0.82       127\n",
      "          1       0.81      0.66      0.72        96\n",
      "\n",
      "avg / total       0.79      0.78      0.78       223\n",
      "\n",
      "0.7847533632286996\n"
     ]
    }
   ],
   "source": [
    "print('K-NN Summary')\n",
    "print(classification_report(y_test, knn_y_pred))\n",
    "print(accuracy_score(y_test, knn_y_pred))"
   ]
  },
  {
   "cell_type": "markdown",
   "metadata": {},
   "source": [
    "Fit again for all data"
   ]
  },
  {
   "cell_type": "code",
   "execution_count": 102,
   "metadata": {},
   "outputs": [],
   "source": [
    "knn_classifier.fit(X_train_all, y_train_all)\n",
    "knn_y_pred_all= knn_classifier.predict(X_test_all)"
   ]
  },
  {
   "cell_type": "code",
   "execution_count": 103,
   "metadata": {},
   "outputs": [],
   "source": [
    "sub_knn = pd.DataFrame()\n",
    "sub_knn['PassengerId'] = df_test['PassengerId']\n",
    "sub_knn['Survived'] = knn_y_pred_all\n",
    "#sub_knn.to_csv('knn.csv',index=False)"
   ]
  },
  {
   "cell_type": "markdown",
   "metadata": {},
   "source": [
    "**Support Vector Machine (SVM)**"
   ]
  },
  {
   "cell_type": "code",
   "execution_count": 104,
   "metadata": {},
   "outputs": [
    {
     "data": {
      "text/plain": [
       "SVC(C=1.0, cache_size=200, class_weight=None, coef0=0.0,\n",
       "  decision_function_shape='ovr', degree=3, gamma='auto', kernel='linear',\n",
       "  max_iter=-1, probability=False, random_state=101, shrinking=True,\n",
       "  tol=0.001, verbose=False)"
      ]
     },
     "execution_count": 104,
     "metadata": {},
     "output_type": "execute_result"
    }
   ],
   "source": [
    "# Fitting SVM to the Training set\n",
    "from sklearn.svm import SVC\n",
    "svm_classifier = SVC(kernel = 'linear', random_state = 101)\n",
    "svm_classifier.fit(X_train, y_train)"
   ]
  },
  {
   "cell_type": "code",
   "execution_count": 106,
   "metadata": {},
   "outputs": [],
   "source": [
    "# Predicting the Test set results\n",
    "svm_y_pred = svm_classifier.predict(X_test)"
   ]
  },
  {
   "cell_type": "code",
   "execution_count": 107,
   "metadata": {},
   "outputs": [
    {
     "name": "stdout",
     "output_type": "stream",
     "text": [
      "SVM Summary\n",
      "             precision    recall  f1-score   support\n",
      "\n",
      "          0       0.76      0.86      0.80       127\n",
      "          1       0.77      0.64      0.70        96\n",
      "\n",
      "avg / total       0.76      0.76      0.76       223\n",
      "\n",
      "0.7623318385650224\n"
     ]
    },
    {
     "data": {
      "image/png": "[encoded data removed]",
      "text/plain": [
       "<Figure size 432x288 with 2 Axes>"
      ]
     },
     "metadata": {
      "needs_background": "light"
     },
     "output_type": "display_data"
    }
   ],
   "source": [
    "#confusion matrix\n",
    "svm_cm = confusion_matrix(y_test, svm_y_pred)\n",
    "sns.heatmap(svm_cm, annot=True, fmt='d')\n",
    "print('SVM Summary')\n",
    "print(classification_report(y_test, svm_y_pred))\n",
    "print(accuracy_score(y_test, svm_y_pred))"
   ]
  },
  {
   "cell_type": "markdown",
   "metadata": {},
   "source": [
    "Fit again for all data"
   ]
  },
  {
   "cell_type": "code",
   "execution_count": 118,
   "metadata": {},
   "outputs": [],
   "source": [
    "svm_classifier.fit(X_train_all, y_train_all)\n",
    "svm_y_pred_all= svm_classifier.predict(X_test_all)"
   ]
  },
  {
   "cell_type": "code",
   "execution_count": 119,
   "metadata": {},
   "outputs": [],
   "source": [
    "sub_svm = pd.DataFrame()\n",
    "sub_svm['PassengerId'] = df_test['PassengerId']\n",
    "sub_svm['Survived'] = svm_y_pred_all\n",
    "#sub_svm.to_csv('svm.csv',index=False)"
   ]
  },
  {
   "cell_type": "markdown",
   "metadata": {},
   "source": [
    "**Kernel SVM**"
   ]
  },
  {
   "cell_type": "code",
   "execution_count": 112,
   "metadata": {},
   "outputs": [
    {
     "data": {
      "text/plain": [
       "SVC(C=1.0, cache_size=200, class_weight=None, coef0=0.0,\n",
       "  decision_function_shape='ovr', degree=3, gamma='auto', kernel='rbf',\n",
       "  max_iter=-1, probability=False, random_state=101, shrinking=True,\n",
       "  tol=0.001, verbose=False)"
      ]
     },
     "execution_count": 112,
     "metadata": {},
     "output_type": "execute_result"
    }
   ],
   "source": [
    "# Fitting Kernel SVM to the Training set\n",
    "ksvm_classifier = SVC(kernel = 'rbf', random_state = 101)\n",
    "ksvm_classifier.fit(X_train, y_train)"
   ]
  },
  {
   "cell_type": "code",
   "execution_count": 114,
   "metadata": {},
   "outputs": [],
   "source": [
    "# Predicting the Test set results\n",
    "ksvm_y_pred = ksvm_classifier.predict(X_test)"
   ]
  },
  {
   "cell_type": "code",
   "execution_count": 115,
   "metadata": {},
   "outputs": [
    {
     "name": "stdout",
     "output_type": "stream",
     "text": [
      "Kernel SVM Summary\n",
      "             precision    recall  f1-score   support\n",
      "\n",
      "          0       0.78      0.93      0.85       127\n",
      "          1       0.88      0.66      0.75        96\n",
      "\n",
      "avg / total       0.82      0.81      0.81       223\n",
      "\n",
      "0.8116591928251121\n"
     ]
    },
    {
     "data": {
      "image/png": "[encoded data removed]",
      "text/plain": [
       "<Figure size 432x288 with 2 Axes>"
      ]
     },
     "metadata": {
      "needs_background": "light"
     },
     "output_type": "display_data"
    }
   ],
   "source": [
    "#confusion matrix and metrics for kernel SVM\n",
    "ksvm_cm = confusion_matrix(y_test, ksvm_y_pred)\n",
    "sns.heatmap(ksvm_cm, annot=True, fmt='d')\n",
    "print('Kernel SVM Summary')\n",
    "print(classification_report(y_test, ksvm_y_pred))\n",
    "print(accuracy_score(y_test, ksvm_y_pred))"
   ]
  },
  {
   "cell_type": "markdown",
   "metadata": {},
   "source": [
    "Fit again for all data"
   ]
  },
  {
   "cell_type": "code",
   "execution_count": 123,
   "metadata": {},
   "outputs": [],
   "source": [
    "ksvm_classifier.fit(X_train_all, y_train_all)\n",
    "ksvm_y_pred_all= ksvm_classifier.predict(X_test_all)"
   ]
  },
  {
   "cell_type": "code",
   "execution_count": 124,
   "metadata": {},
   "outputs": [],
   "source": [
    "sub_ksvm = pd.DataFrame()\n",
    "sub_ksvm['PassengerId'] = df_test['PassengerId']\n",
    "sub_ksvm['Survived'] = ksvm_y_pred_all\n",
    "#sub_svm.to_csv('svm.csv',index=False)"
   ]
  },
  {
   "cell_type": "markdown",
   "metadata": {},
   "source": [
    "**Naive Bayes**"
   ]
  },
  {
   "cell_type": "code",
   "execution_count": 125,
   "metadata": {},
   "outputs": [
    {
     "data": {
      "text/plain": [
       "GaussianNB(priors=None)"
      ]
     },
     "execution_count": 125,
     "metadata": {},
     "output_type": "execute_result"
    }
   ],
   "source": [
    "# Fitting Naive Bayes to the Training set\n",
    "from sklearn.naive_bayes import GaussianNB\n",
    "nb_classifier = GaussianNB()\n",
    "nb_classifier.fit(X_train, y_train)"
   ]
  },
  {
   "cell_type": "code",
   "execution_count": 126,
   "metadata": {},
   "outputs": [],
   "source": [
    "# Predicting the Test set results\n",
    "nb_y_pred = nb_classifier.predict(X_test)"
   ]
  },
  {
   "cell_type": "markdown",
   "metadata": {},
   "source": [
    "Confusion matrix and metrics"
   ]
  },
  {
   "cell_type": "code",
   "execution_count": 134,
   "metadata": {},
   "outputs": [
    {
     "name": "stdout",
     "output_type": "stream",
     "text": [
      "Naives Bayes Summary\n",
      "             precision    recall  f1-score   support\n",
      "\n",
      "          0       0.76      0.83      0.79       127\n",
      "          1       0.74      0.66      0.70        96\n",
      "\n",
      "avg / total       0.75      0.75      0.75       223\n",
      "\n",
      "Accuracy : 0.7533632286995515\n"
     ]
    },
    {
     "data": {
      "image/png": "[encoded data removed]",
      "text/plain": [
       "<Figure size 432x288 with 2 Axes>"
      ]
     },
     "metadata": {
      "needs_background": "light"
     },
     "output_type": "display_data"
    }
   ],
   "source": [
    "show_metrics(y_test, nb_y_pred, msg='Naives Bayes Summary')"
   ]
  },
  {
   "cell_type": "markdown",
   "metadata": {},
   "source": [
    "**Random Forest Classification**"
   ]
  },
  {
   "cell_type": "code",
   "execution_count": 130,
   "metadata": {},
   "outputs": [
    {
     "name": "stderr",
     "output_type": "stream",
     "text": [
      "/home/nick/anaconda3/lib/python3.7/site-packages/sklearn/ensemble/weight_boosting.py:29: DeprecationWarning: numpy.core.umath_tests is an internal NumPy module and should not be imported. It will be removed in a future NumPy release.\n",
      "  from numpy.core.umath_tests import inner1d\n"
     ]
    },
    {
     "data": {
      "text/plain": [
       "RandomForestClassifier(bootstrap=True, class_weight=None, criterion='entropy',\n",
       "            max_depth=None, max_features='auto', max_leaf_nodes=None,\n",
       "            min_impurity_decrease=0.0, min_impurity_split=None,\n",
       "            min_samples_leaf=1, min_samples_split=2,\n",
       "            min_weight_fraction_leaf=0.0, n_estimators=10, n_jobs=1,\n",
       "            oob_score=False, random_state=0, verbose=0, warm_start=False)"
      ]
     },
     "execution_count": 130,
     "metadata": {},
     "output_type": "execute_result"
    }
   ],
   "source": [
    "# Fitting Random Forest Classification to the Training set\n",
    "from sklearn.ensemble import RandomForestClassifier\n",
    "rf_classifier = RandomForestClassifier(n_estimators = 10, criterion = 'entropy', random_state = 0)\n",
    "rf_classifier.fit(X_train, y_train)"
   ]
  },
  {
   "cell_type": "code",
   "execution_count": 131,
   "metadata": {},
   "outputs": [],
   "source": [
    "# Predicting the Test set results\n",
    "rf_y_pred = rf_classifier.predict(X_test)"
   ]
  },
  {
   "cell_type": "markdown",
   "metadata": {},
   "source": [
    "Confusion matrix and metrics"
   ]
  },
  {
   "cell_type": "code",
   "execution_count": 135,
   "metadata": {},
   "outputs": [
    {
     "name": "stdout",
     "output_type": "stream",
     "text": [
      "Random Forest Summary\n",
      "             precision    recall  f1-score   support\n",
      "\n",
      "          0       0.75      0.87      0.81       127\n",
      "          1       0.78      0.62      0.69        96\n",
      "\n",
      "avg / total       0.76      0.76      0.76       223\n",
      "\n",
      "Accuracy : 0.7623318385650224\n"
     ]
    },
    {
     "data": {
      "image/png": "[encoded data removed]",
      "text/plain": [
       "<Figure size 432x288 with 2 Axes>"
      ]
     },
     "metadata": {
      "needs_background": "light"
     },
     "output_type": "display_data"
    }
   ],
   "source": [
    "show_metrics(y_test, rf_y_pred, msg='Random Forest Summary')"
   ]
  },
  {
   "cell_type": "markdown",
   "metadata": {},
   "source": [
    "## Part 3: Model Selection And Boosting"
   ]
  },
  {
   "cell_type": "code",
   "execution_count": 137,
   "metadata": {},
   "outputs": [
    {
     "name": "stdout",
     "output_type": "stream",
     "text": [
      "0.8232134780642243\n",
      "0.05709630038825816\n"
     ]
    }
   ],
   "source": [
    "# Applying k-Fold Cross Validation\n",
    "from sklearn.model_selection import cross_val_score\n",
    "accuracies = cross_val_score(estimator = ksvm_classifier, X = X_train, y = y_train, cv = 10)\n",
    "print(accuracies.mean())\n",
    "print(accuracies.std())"
   ]
  },
  {
   "cell_type": "code",
   "execution_count": 141,
   "metadata": {},
   "outputs": [],
   "source": [
    "# Applying Grid Search to find the best model and the best parameters\n",
    "from sklearn.model_selection import GridSearchCV\n",
    "parameters = [{'C': [1, 10, 100, 1000], 'kernel': ['linear']},\n",
    "              {'C': [1, 10, 100, 1000], 'kernel': ['rbf'], 'gamma': [0.1, 0.2, 0.3, 0.4, 0.5, 0.6, 0.7, 0.8, 0.9]}]\n",
    "grid_search = GridSearchCV(estimator = ksvm_classifier,\n",
    "                           param_grid = parameters,\n",
    "                           scoring = 'accuracy',\n",
    "                           cv = 10,\n",
    "                           n_jobs = -1)"
   ]
  },
  {
   "cell_type": "code",
   "execution_count": 142,
   "metadata": {},
   "outputs": [
    {
     "name": "stdout",
     "output_type": "stream",
     "text": [
      "Best Accuracy : 0.8293413173652695\n",
      "\n",
      "Best Parameters : {'C': 1, 'gamma': 0.6, 'kernel': 'rbf'}\n",
      "\n"
     ]
    }
   ],
   "source": [
    "grid_search = grid_search.fit(X_train, y_train)\n",
    "best_accuracy = grid_search.best_score_\n",
    "best_parameters = grid_search.best_params_\n",
    "print('Best Accuracy : {}\\n'.format(best_accuracy))\n",
    "print('Best Parameters : {}\\n'.format(best_parameters))"
   ]
  },
  {
   "cell_type": "markdown",
   "metadata": {},
   "source": [
    "<p>Our model is non linear, so the best fit is Kernel SVM.</p>\n",
    "<p>Lets fit it again using the best parameters</p>"
   ]
  },
  {
   "cell_type": "code",
   "execution_count": 143,
   "metadata": {},
   "outputs": [
    {
     "data": {
      "text/plain": [
       "SVC(C=1, cache_size=200, class_weight=None, coef0=0.0,\n",
       "  decision_function_shape='ovr', degree=3, gamma=0.6, kernel='rbf',\n",
       "  max_iter=-1, probability=False, random_state=101, shrinking=True,\n",
       "  tol=0.001, verbose=False)"
      ]
     },
     "execution_count": 143,
     "metadata": {},
     "output_type": "execute_result"
    }
   ],
   "source": [
    "# Fitting Kernel SVM to the Training set\n",
    "ksvm_classifier = SVC(kernel = 'rbf', C=1, gamma=0.6,random_state = 101)\n",
    "ksvm_classifier.fit(X_train, y_train)"
   ]
  },
  {
   "cell_type": "code",
   "execution_count": 144,
   "metadata": {},
   "outputs": [],
   "source": [
    "# Predicting the Test set results\n",
    "ksvm_y_pred = ksvm_classifier.predict(X_test)"
   ]
  },
  {
   "cell_type": "markdown",
   "metadata": {},
   "source": [
    "Fitting again to all data and submit"
   ]
  },
  {
   "cell_type": "code",
   "execution_count": 146,
   "metadata": {},
   "outputs": [],
   "source": [
    "ksvm_classifier.fit(X_train_all, y_train_all)\n",
    "ksvm_y_pred_all= ksvm_classifier.predict(X_test_all)"
   ]
  },
  {
   "cell_type": "code",
   "execution_count": 147,
   "metadata": {},
   "outputs": [],
   "source": [
    "sub_ksvm = pd.DataFrame()\n",
    "sub_ksvm['PassengerId'] = df_test['PassengerId']\n",
    "sub_ksvm['Survived'] = ksvm_y_pred_all\n",
    "sub_svm.to_csv('svm.csv',index=False)"
   ]
  },
  {
   "cell_type": "code",
   "execution_count": null,
   "metadata": {},
   "outputs": [],
   "source": []
  }
 ],
 "metadata": {
  "kernelspec": {
   "display_name": "Python 3",
   "language": "python",
   "name": "python3"
  },
  "language_info": {
   "codemirror_mode": {
    "name": "ipython",
    "version": 3
   },
   "file_extension": ".py",
   "mimetype": "text/x-python",
   "name": "python",
   "nbconvert_exporter": "python",
   "pygments_lexer": "ipython3",
   "version": "3.7.1"
  }
 },
 "nbformat": 4,
 "nbformat_minor": 2
}
